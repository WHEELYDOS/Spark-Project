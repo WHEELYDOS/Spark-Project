{
 "cells": [
  {
   "cell_type": "code",
   "execution_count": 1,
   "id": "61c92b10-4392-414d-be29-493d182cfb43",
   "metadata": {
    "tags": []
   },
   "outputs": [],
   "source": [
    "from pyspark.sql import SparkSession\n",
    "from pyspark.sql.functions import *\n",
    "from pyspark.ml.feature import Imputer"
   ]
  },
  {
   "cell_type": "code",
   "execution_count": 2,
   "id": "70bd3905-596b-402e-8af4-1d2c9ea3034e",
   "metadata": {
    "tags": []
   },
   "outputs": [
    {
     "name": "stderr",
     "output_type": "stream",
     "text": [
      "25/08/23 16:50:57 WARN SparkSession: Using an existing Spark session; only runtime SQL configurations will take effect.\n"
     ]
    }
   ],
   "source": [
    "spark = SparkSession.builder\\\n",
    ".appName(\"Module 2- Data_cleanin_and_Transformation\")\\\n",
    ".enableHiveSupport()\\\n",
    ".master('yarn')\\\n",
    ".getOrCreate()"
   ]
  },
  {
   "cell_type": "code",
   "execution_count": 3,
   "id": "e0a87463-b9cb-47c2-9a98-4dd0e4e37318",
   "metadata": {
    "tags": []
   },
   "outputs": [],
   "source": [
    "hdfs_path= '/tmp/Brazilian'"
   ]
  },
  {
   "cell_type": "code",
   "execution_count": 4,
   "id": "e70ea340-58d8-4f6b-929b-58a40d38d404",
   "metadata": {
    "tags": []
   },
   "outputs": [
    {
     "name": "stderr",
     "output_type": "stream",
     "text": [
      "                                                                                \r"
     ]
    }
   ],
   "source": [
    "customers_df  = spark.read\\\n",
    ".format('csv')\\\n",
    ".option('header',True)\\\n",
    ".option('inferSchema',True)\\\n",
    ".load(hdfs_path+'/olist_customers_dataset.csv')\n",
    "\n",
    "geolocation_df  = spark.read\\\n",
    ".format('csv')\\\n",
    ".option('header',True)\\\n",
    ".option('inferSchema',True)\\\n",
    ".load(hdfs_path+'/olist_geolocation_dataset.csv')\n",
    "\n",
    "order_items_df  = spark.read\\\n",
    ".format('csv')\\\n",
    ".option('header',True)\\\n",
    ".option('inferSchema',True)\\\n",
    ".load(hdfs_path+'/olist_order_items_dataset.csv')\n",
    "\n",
    "order_payments_df  = spark.read\\\n",
    ".format('csv')\\\n",
    ".option('header',True)\\\n",
    ".option('inferSchema',True)\\\n",
    ".load(hdfs_path+'/olist_order_payments_dataset.csv')\n",
    "\n",
    "order_reviews_df  = spark.read\\\n",
    ".format('csv')\\\n",
    ".option('header',True)\\\n",
    ".option('inferSchema',True)\\\n",
    ".load(hdfs_path+'/olist_order_reviews_dataset.csv')\n",
    "\n",
    "orders_df  = spark.read\\\n",
    ".format('csv')\\\n",
    ".option('header',True)\\\n",
    ".option('inferSchema',True)\\\n",
    ".load(hdfs_path+'/olist_orders_dataset.csv')\n",
    "\n",
    "products_df  = spark.read\\\n",
    ".format('csv')\\\n",
    ".option('header',True)\\\n",
    ".option('inferSchema',True)\\\n",
    ".load(hdfs_path+'/olist_products_dataset.csv')\n",
    "\n",
    "sellers_df  = spark.read\\\n",
    ".format('csv')\\\n",
    ".option('header',True)\\\n",
    ".option('inferSchema',True)\\\n",
    ".load(hdfs_path+'/olist_sellers_dataset.csv')\n"
   ]
  },
  {
   "cell_type": "code",
   "execution_count": 5,
   "id": "a9c02f83-251f-4c2e-a30f-4064356bff05",
   "metadata": {
    "tags": []
   },
   "outputs": [
    {
     "name": "stdout",
     "output_type": "stream",
     "text": [
      "+--------------------+--------------------+------------------------+--------------------+--------------+\n",
      "|         customer_id|  customer_unique_id|customer_zip_code_prefix|       customer_city|customer_state|\n",
      "+--------------------+--------------------+------------------------+--------------------+--------------+\n",
      "|06b8999e2fba1a1fb...|861eff4711a542e4b...|                   14409|              franca|            SP|\n",
      "|18955e83d337fd6b2...|290c77bc529b7ac93...|                    9790|sao bernardo do c...|            SP|\n",
      "|4e7b3e00288586ebd...|060e732b5b29e8181...|                    1151|           sao paulo|            SP|\n",
      "|b2b6027bc5c5109e5...|259dac757896d24d7...|                    8775|     mogi das cruzes|            SP|\n",
      "|4f2d8ab171c80ec83...|345ecd01c38d18a90...|                   13056|            campinas|            SP|\n",
      "+--------------------+--------------------+------------------------+--------------------+--------------+\n",
      "only showing top 5 rows\n",
      "\n"
     ]
    }
   ],
   "source": [
    "customers_df.show(5)"
   ]
  },
  {
   "cell_type": "code",
   "execution_count": 6,
   "id": "656af7ee-dde2-4090-8f19-3fab829d0fa9",
   "metadata": {
    "tags": []
   },
   "outputs": [
    {
     "name": "stdout",
     "output_type": "stream",
     "text": [
      "Missing Values in : customers_df\n",
      "+-----------+------------------+------------------------+-------------+--------------+\n",
      "|customer_id|customer_unique_id|customer_zip_code_prefix|customer_city|customer_state|\n",
      "+-----------+------------------+------------------------+-------------+--------------+\n",
      "|          0|                 0|                       0|            0|             0|\n",
      "+-----------+------------------+------------------------+-------------+--------------+\n",
      "\n",
      "Missing Values in : geolocation_df\n"
     ]
    },
    {
     "name": "stderr",
     "output_type": "stream",
     "text": [
      "                                                                                \r"
     ]
    },
    {
     "name": "stdout",
     "output_type": "stream",
     "text": [
      "+---------------------------+---------------+---------------+----------------+-----------------+\n",
      "|geolocation_zip_code_prefix|geolocation_lat|geolocation_lng|geolocation_city|geolocation_state|\n",
      "+---------------------------+---------------+---------------+----------------+-----------------+\n",
      "|                          0|              0|              0|               0|                0|\n",
      "+---------------------------+---------------+---------------+----------------+-----------------+\n",
      "\n",
      "Missing Values in : order_items_df\n",
      "+--------+-------------+----------+---------+-------------------+-----+-------------+\n",
      "|order_id|order_item_id|product_id|seller_id|shipping_limit_date|price|freight_value|\n",
      "+--------+-------------+----------+---------+-------------------+-----+-------------+\n",
      "|       0|            0|         0|        0|                  0|    0|            0|\n",
      "+--------+-------------+----------+---------+-------------------+-----+-------------+\n",
      "\n",
      "Missing Values in : order_payments_df\n",
      "+--------+------------------+------------+--------------------+-------------+\n",
      "|order_id|payment_sequential|payment_type|payment_installments|payment_value|\n",
      "+--------+------------------+------------+--------------------+-------------+\n",
      "|       0|                 0|           0|                   0|            0|\n",
      "+--------+------------------+------------+--------------------+-------------+\n",
      "\n",
      "Missing Values in : order_reviews_df\n"
     ]
    },
    {
     "name": "stderr",
     "output_type": "stream",
     "text": [
      "                                                                                \r"
     ]
    },
    {
     "name": "stdout",
     "output_type": "stream",
     "text": [
      "+---------+--------+------------+--------------------+----------------------+--------------------+-----------------------+\n",
      "|review_id|order_id|review_score|review_comment_title|review_comment_message|review_creation_date|review_answer_timestamp|\n",
      "+---------+--------+------------+--------------------+----------------------+--------------------+-----------------------+\n",
      "|        1|    2236|        2380|               92157|                 63079|                8764|                   8785|\n",
      "+---------+--------+------------+--------------------+----------------------+--------------------+-----------------------+\n",
      "\n",
      "Missing Values in : orders_df\n",
      "+--------+-----------+------------+------------------------+-----------------+----------------------------+-----------------------------+-----------------------------+\n",
      "|order_id|customer_id|order_status|order_purchase_timestamp|order_approved_at|order_delivered_carrier_date|order_delivered_customer_date|order_estimated_delivery_date|\n",
      "+--------+-----------+------------+------------------------+-----------------+----------------------------+-----------------------------+-----------------------------+\n",
      "|       0|          0|           0|                       0|              160|                        1783|                         2965|                            0|\n",
      "+--------+-----------+------------+------------------------+-----------------+----------------------------+-----------------------------+-----------------------------+\n",
      "\n",
      "Missing Values in : products_df\n",
      "+----------+---------------------+-------------------+--------------------------+------------------+----------------+-----------------+-----------------+----------------+\n",
      "|product_id|product_category_name|product_name_lenght|product_description_lenght|product_photos_qty|product_weight_g|product_length_cm|product_height_cm|product_width_cm|\n",
      "+----------+---------------------+-------------------+--------------------------+------------------+----------------+-----------------+-----------------+----------------+\n",
      "|         0|                  610|                610|                       610|               610|               2|                2|                2|               2|\n",
      "+----------+---------------------+-------------------+--------------------------+------------------+----------------+-----------------+-----------------+----------------+\n",
      "\n",
      "Missing Values in : sellers_df\n",
      "+---------+----------------------+-----------+------------+\n",
      "|seller_id|seller_zip_code_prefix|seller_city|seller_state|\n",
      "+---------+----------------------+-----------+------------+\n",
      "|        0|                     0|          0|           0|\n",
      "+---------+----------------------+-----------+------------+\n",
      "\n"
     ]
    }
   ],
   "source": [
    "#for missiong values \n",
    "\n",
    "def missing_values(dataframe,name):\n",
    "    print(f'Missing Values in : {name}')\n",
    "    dataframe.select([count(when(col(c).isNull(),1)).alias(c) for c in dataframe.columns]).show()\n",
    "\n",
    "    \n",
    "dataframes = [customers_df,geolocation_df,order_items_df,order_payments_df,order_reviews_df,orders_df,products_df,sellers_df]\n",
    "name = [\"customers_df\",\"geolocation_df\",\"order_items_df\",\"order_payments_df\",\"order_reviews_df\",\"orders_df\",\"products_df\",\"sellers_df\"]\n",
    "for i in range(0,len(dataframes)):\n",
    "    missing_values(dataframes[i],name[i])\n",
    "    \n",
    "#customers_df.select([count(when(col(c).isNull(),1)).alias(c) for c in customers_df.columns]).show()"
   ]
  },
  {
   "cell_type": "markdown",
   "id": "1947791a-1998-414e-8712-21d192a6bf5f",
   "metadata": {},
   "source": [
    "# Handling Missing Values "
   ]
  },
  {
   "cell_type": "markdown",
   "id": "047d4a8f-221e-4a67-b63e-69e6b3dea874",
   "metadata": {},
   "source": [
    "1\\. Drop Missing Values (for non-Critical Columns )\n",
    "\n",
    "  \n",
    "\n",
    "2\\. Fill missing values (for numerical columns)\n",
    "\n",
    "  \n",
    "\n",
    "3\\. Impute Missing Values (for continuous data)"
   ]
  },
  {
   "cell_type": "code",
   "execution_count": 7,
   "id": "5eeaee1a-7dd4-4186-98eb-c366bc0e7df0",
   "metadata": {
    "tags": []
   },
   "outputs": [],
   "source": [
    "# droping the missing  calumns  \n",
    "order_df_cleaned  = orders_df.na.drop(subset=['order_id','customer_id','order_status']) "
   ]
  },
  {
   "cell_type": "code",
   "execution_count": 8,
   "id": "fdd4b543-02cb-492d-80b3-13b908cb9d1c",
   "metadata": {
    "tags": []
   },
   "outputs": [],
   "source": [
    "# filling the missing values \n",
    "orders_df_cleaned = orders_df.fillna({'order_delivered_customer_date':'9999-12-31'})"
   ]
  },
  {
   "cell_type": "code",
   "execution_count": 9,
   "id": "6c8d5cab-978b-4399-9cf5-8e74edb53421",
   "metadata": {
    "tags": []
   },
   "outputs": [
    {
     "name": "stdout",
     "output_type": "stream",
     "text": [
      "+--------------------+--------------------+------------+------------------------+-------------------+----------------------------+-----------------------------+-----------------------------+\n",
      "|            order_id|         customer_id|order_status|order_purchase_timestamp|  order_approved_at|order_delivered_carrier_date|order_delivered_customer_date|order_estimated_delivery_date|\n",
      "+--------------------+--------------------+------------+------------------------+-------------------+----------------------------+-----------------------------+-----------------------------+\n",
      "|e481f51cbdc54678b...|9ef432eb625129730...|   delivered|     2017-10-02 10:56:33|2017-10-02 11:07:15|         2017-10-04 19:55:00|          2017-10-10 21:25:13|          2017-10-18 00:00:00|\n",
      "|53cdb2fc8bc7dce0b...|b0830fb4747a6c6d2...|   delivered|     2018-07-24 20:41:37|2018-07-26 03:24:27|         2018-07-26 14:31:00|          2018-08-07 15:27:45|          2018-08-13 00:00:00|\n",
      "|47770eb9100c2d0c4...|41ce2a54c0b03bf34...|   delivered|     2018-08-08 08:38:49|2018-08-08 08:55:23|         2018-08-08 13:50:00|          2018-08-17 18:06:29|          2018-09-04 00:00:00|\n",
      "|949d5b44dbf5de918...|f88197465ea7920ad...|   delivered|     2017-11-18 19:28:06|2017-11-18 19:45:59|         2017-11-22 13:39:59|          2017-12-02 00:28:42|          2017-12-15 00:00:00|\n",
      "|ad21c59c0840e6cb8...|8ab97904e6daea886...|   delivered|     2018-02-13 21:18:39|2018-02-13 22:20:29|         2018-02-14 19:46:34|          2018-02-16 18:17:02|          2018-02-26 00:00:00|\n",
      "|a4591c265e18cb1dc...|503740e9ca751ccdd...|   delivered|     2017-07-09 21:57:05|2017-07-09 22:10:13|         2017-07-11 14:58:04|          2017-07-26 10:57:55|          2017-08-01 00:00:00|\n",
      "|136cce7faa42fdb2c...|ed0271e0b7da060a3...|    invoiced|     2017-04-11 12:22:08|2017-04-13 13:25:17|                        NULL|          9999-12-31 00:00:00|          2017-05-09 00:00:00|\n",
      "|6514b8ad8028c9f2c...|9bdf08b4b3b52b552...|   delivered|     2017-05-16 13:10:30|2017-05-16 13:22:11|         2017-05-22 10:07:46|          2017-05-26 12:55:51|          2017-06-07 00:00:00|\n",
      "|76c6e866289321a7c...|f54a9f0e6b351c431...|   delivered|     2017-01-23 18:29:09|2017-01-25 02:50:47|         2017-01-26 14:16:31|          2017-02-02 14:08:10|          2017-03-06 00:00:00|\n",
      "|e69bfb5eb88e0ed6a...|31ad1d1b63eb99624...|   delivered|     2017-07-29 11:55:02|2017-07-29 12:05:32|         2017-08-10 19:45:24|          2017-08-16 17:14:30|          2017-08-23 00:00:00|\n",
      "+--------------------+--------------------+------------+------------------------+-------------------+----------------------------+-----------------------------+-----------------------------+\n",
      "only showing top 10 rows\n",
      "\n"
     ]
    }
   ],
   "source": [
    "orders_df_cleaned.show(10)"
   ]
  },
  {
   "cell_type": "markdown",
   "id": "824f083e-a100-4cbc-9102-7cd3c58b6dbf",
   "metadata": {},
   "source": [
    "# Impute Missing Values "
   ]
  },
  {
   "cell_type": "code",
   "execution_count": 10,
   "id": "4571f85d-9f8e-4a86-b501-26c34b42c648",
   "metadata": {
    "tags": []
   },
   "outputs": [],
   "source": [
    "from pyspark.ml.feature import Imputer"
   ]
  },
  {
   "cell_type": "code",
   "execution_count": null,
   "id": "d2a26c19-9296-4d61-a6e1-0575d87d9e92",
   "metadata": {
    "tags": []
   },
   "outputs": [],
   "source": []
  },
  {
   "cell_type": "code",
   "execution_count": 11,
   "id": "421ee909-a2b4-4522-a03f-761fb6aabdcd",
   "metadata": {
    "tags": []
   },
   "outputs": [],
   "source": [
    "## cheking for null values \n",
    "temp = order_payments_df.withColumn('nullcheck',col('payment_value').isNull())"
   ]
  },
  {
   "cell_type": "code",
   "execution_count": 12,
   "id": "205d86f9-b35b-4509-a8cf-267143e7091f",
   "metadata": {
    "tags": []
   },
   "outputs": [
    {
     "name": "stdout",
     "output_type": "stream",
     "text": [
      "+--------+------------------+------------+--------------------+-------------+---------+\n",
      "|order_id|payment_sequential|payment_type|payment_installments|payment_value|nullcheck|\n",
      "+--------+------------------+------------+--------------------+-------------+---------+\n",
      "+--------+------------------+------------+--------------------+-------------+---------+\n",
      "\n"
     ]
    }
   ],
   "source": [
    "temp.filter( col('nullcheck')==True).show()"
   ]
  },
  {
   "cell_type": "markdown",
   "id": "865f3351-d4d3-4006-963d-b49083a2117d",
   "metadata": {
    "tags": []
   },
   "source": [
    "### as we can see that there are no null values to be imputed so to create some we eill delete some values and create null values "
   ]
  },
  {
   "cell_type": "code",
   "execution_count": 13,
   "id": "61c70103-c262-448c-b12a-316da5ece73b",
   "metadata": {
    "tags": []
   },
   "outputs": [
    {
     "name": "stdout",
     "output_type": "stream",
     "text": [
      "+--------------------+------------------+------------+--------------------+-------------+\n",
      "|            order_id|payment_sequential|payment_type|payment_installments|payment_value|\n",
      "+--------------------+------------------+------------+--------------------+-------------+\n",
      "|b81ef226f3fe1789b...|                 1| credit_card|                   8|        99.33|\n",
      "|a9810da82917af2d9...|                 1| credit_card|                   1|        24.39|\n",
      "+--------------------+------------------+------------+--------------------+-------------+\n",
      "only showing top 2 rows\n",
      "\n"
     ]
    }
   ],
   "source": [
    "order_payments_df.show(2)"
   ]
  },
  {
   "cell_type": "code",
   "execution_count": 14,
   "id": "87d67521-a041-4f69-bbd1-2e07cb720b6e",
   "metadata": {
    "tags": []
   },
   "outputs": [],
   "source": [
    "payments_df_with_null = order_payments_df.withColumn('payment_value', when(col('payment_value')!=99.33, col('payment_value')).otherwise(lit(None)))"
   ]
  },
  {
   "cell_type": "code",
   "execution_count": 15,
   "id": "a7298aeb-b5b1-4066-ac77-06692f3a3f48",
   "metadata": {
    "tags": []
   },
   "outputs": [
    {
     "name": "stdout",
     "output_type": "stream",
     "text": [
      "+--------------------+------------------+------------+--------------------+-------------+\n",
      "|            order_id|payment_sequential|payment_type|payment_installments|payment_value|\n",
      "+--------------------+------------------+------------+--------------------+-------------+\n",
      "|b81ef226f3fe1789b...|                 1| credit_card|                   8|         NULL|\n",
      "|a9810da82917af2d9...|                 1| credit_card|                   1|        24.39|\n",
      "+--------------------+------------------+------------+--------------------+-------------+\n",
      "only showing top 2 rows\n",
      "\n"
     ]
    }
   ],
   "source": [
    "payments_df_with_null.show(2)"
   ]
  },
  {
   "cell_type": "code",
   "execution_count": 16,
   "id": "6c96222d-a7a6-4ebd-9f68-d8235703de6e",
   "metadata": {
    "tags": []
   },
   "outputs": [],
   "source": [
    "imputer= Imputer(inputCols=['payment_value'],outputCols=['payments_df_with_null']).setStrategy('mean')\n",
    "\n",
    "\n",
    "payments_df_cleaned = imputer.fit(payments_df_with_null).transform( payments_df_with_null)\n"
   ]
  },
  {
   "cell_type": "code",
   "execution_count": 17,
   "id": "12e661d9-c895-438b-aa48-c97d3a832a07",
   "metadata": {
    "tags": []
   },
   "outputs": [
    {
     "name": "stdout",
     "output_type": "stream",
     "text": [
      "+--------------------+------------------+------------+--------------------+-------------+---------------------+\n",
      "|            order_id|payment_sequential|payment_type|payment_installments|payment_value|payments_df_with_null|\n",
      "+--------------------+------------------+------------+--------------------+-------------+---------------------+\n",
      "|b81ef226f3fe1789b...|                 1| credit_card|                   8|         NULL|   154.10987195285352|\n",
      "|a9810da82917af2d9...|                 1| credit_card|                   1|        24.39|                24.39|\n",
      "|25e8ea4e93396b6fa...|                 1| credit_card|                   1|        65.71|                65.71|\n",
      "|ba78997921bbcdc13...|                 1| credit_card|                   8|       107.78|               107.78|\n",
      "|42fdf880ba16b47b5...|                 1| credit_card|                   2|       128.45|               128.45|\n",
      "+--------------------+------------------+------------+--------------------+-------------+---------------------+\n",
      "only showing top 5 rows\n",
      "\n"
     ]
    }
   ],
   "source": [
    "payments_df_cleaned.show(5)"
   ]
  },
  {
   "cell_type": "code",
   "execution_count": null,
   "id": "d845c785-b40a-4c91-a0b7-662edce08472",
   "metadata": {},
   "outputs": [],
   "source": []
  },
  {
   "cell_type": "code",
   "execution_count": null,
   "id": "bda2cb77-e092-441a-9351-07cdabd29a30",
   "metadata": {},
   "outputs": [],
   "source": []
  },
  {
   "cell_type": "markdown",
   "id": "f7bb1bee-c617-4d38-b2e0-2bd2bd407ba1",
   "metadata": {},
   "source": [
    "# Standardizing the format"
   ]
  },
  {
   "cell_type": "code",
   "execution_count": 18,
   "id": "59c2feb7-d0a0-44ac-a8a1-5ff49564c5b3",
   "metadata": {
    "tags": []
   },
   "outputs": [
    {
     "name": "stdout",
     "output_type": "stream",
     "text": [
      "Missing Values in : customers_df\n",
      "root\n",
      " |-- customer_id: string (nullable = true)\n",
      " |-- customer_unique_id: string (nullable = true)\n",
      " |-- customer_zip_code_prefix: integer (nullable = true)\n",
      " |-- customer_city: string (nullable = true)\n",
      " |-- customer_state: string (nullable = true)\n",
      "\n",
      "Missing Values in : geolocation_df\n",
      "root\n",
      " |-- geolocation_zip_code_prefix: integer (nullable = true)\n",
      " |-- geolocation_lat: double (nullable = true)\n",
      " |-- geolocation_lng: double (nullable = true)\n",
      " |-- geolocation_city: string (nullable = true)\n",
      " |-- geolocation_state: string (nullable = true)\n",
      "\n",
      "Missing Values in : order_items_df\n",
      "root\n",
      " |-- order_id: string (nullable = true)\n",
      " |-- order_item_id: integer (nullable = true)\n",
      " |-- product_id: string (nullable = true)\n",
      " |-- seller_id: string (nullable = true)\n",
      " |-- shipping_limit_date: timestamp (nullable = true)\n",
      " |-- price: double (nullable = true)\n",
      " |-- freight_value: double (nullable = true)\n",
      "\n",
      "Missing Values in : order_payments_df\n",
      "root\n",
      " |-- order_id: string (nullable = true)\n",
      " |-- payment_sequential: integer (nullable = true)\n",
      " |-- payment_type: string (nullable = true)\n",
      " |-- payment_installments: integer (nullable = true)\n",
      " |-- payment_value: double (nullable = true)\n",
      "\n",
      "Missing Values in : order_reviews_df\n",
      "root\n",
      " |-- review_id: string (nullable = true)\n",
      " |-- order_id: string (nullable = true)\n",
      " |-- review_score: string (nullable = true)\n",
      " |-- review_comment_title: string (nullable = true)\n",
      " |-- review_comment_message: string (nullable = true)\n",
      " |-- review_creation_date: string (nullable = true)\n",
      " |-- review_answer_timestamp: string (nullable = true)\n",
      "\n",
      "Missing Values in : orders_df\n",
      "root\n",
      " |-- order_id: string (nullable = true)\n",
      " |-- customer_id: string (nullable = true)\n",
      " |-- order_status: string (nullable = true)\n",
      " |-- order_purchase_timestamp: timestamp (nullable = true)\n",
      " |-- order_approved_at: timestamp (nullable = true)\n",
      " |-- order_delivered_carrier_date: timestamp (nullable = true)\n",
      " |-- order_delivered_customer_date: timestamp (nullable = true)\n",
      " |-- order_estimated_delivery_date: timestamp (nullable = true)\n",
      "\n",
      "Missing Values in : products_df\n",
      "root\n",
      " |-- product_id: string (nullable = true)\n",
      " |-- product_category_name: string (nullable = true)\n",
      " |-- product_name_lenght: integer (nullable = true)\n",
      " |-- product_description_lenght: integer (nullable = true)\n",
      " |-- product_photos_qty: integer (nullable = true)\n",
      " |-- product_weight_g: integer (nullable = true)\n",
      " |-- product_length_cm: integer (nullable = true)\n",
      " |-- product_height_cm: integer (nullable = true)\n",
      " |-- product_width_cm: integer (nullable = true)\n",
      "\n",
      "Missing Values in : sellers_df\n",
      "root\n",
      " |-- seller_id: string (nullable = true)\n",
      " |-- seller_zip_code_prefix: integer (nullable = true)\n",
      " |-- seller_city: string (nullable = true)\n",
      " |-- seller_state: string (nullable = true)\n",
      "\n"
     ]
    }
   ],
   "source": [
    "def print_schema(dataframe,name):\n",
    "    print(f'Missing Values in : {name}')\n",
    "    dataframe.printSchema()\n",
    "\n",
    "    \n",
    "dataframes = [customers_df,geolocation_df,order_items_df,order_payments_df,order_reviews_df,orders_df,products_df,sellers_df]\n",
    "name = [\"customers_df\",\"geolocation_df\",\"order_items_df\",\"order_payments_df\",\"order_reviews_df\",\"orders_df\",\"products_df\",\"sellers_df\"]\n",
    "for i in range(0,len(dataframes)):\n",
    "    print_schema(dataframes[i],name[i])"
   ]
  },
  {
   "cell_type": "code",
   "execution_count": 19,
   "id": "9d0ceea1-31c8-4d41-862a-1103b3e67114",
   "metadata": {
    "tags": []
   },
   "outputs": [
    {
     "name": "stdout",
     "output_type": "stream",
     "text": [
      "+--------------------+--------------------+------------+------------------------+-------------------+----------------------------+-----------------------------+-----------------------------+\n",
      "|            order_id|         customer_id|order_status|order_purchase_timestamp|  order_approved_at|order_delivered_carrier_date|order_delivered_customer_date|order_estimated_delivery_date|\n",
      "+--------------------+--------------------+------------+------------------------+-------------------+----------------------------+-----------------------------+-----------------------------+\n",
      "|e481f51cbdc54678b...|9ef432eb625129730...|   delivered|     2017-10-02 10:56:33|2017-10-02 11:07:15|         2017-10-04 19:55:00|          2017-10-10 21:25:13|          2017-10-18 00:00:00|\n",
      "|53cdb2fc8bc7dce0b...|b0830fb4747a6c6d2...|   delivered|     2018-07-24 20:41:37|2018-07-26 03:24:27|         2018-07-26 14:31:00|          2018-08-07 15:27:45|          2018-08-13 00:00:00|\n",
      "|47770eb9100c2d0c4...|41ce2a54c0b03bf34...|   delivered|     2018-08-08 08:38:49|2018-08-08 08:55:23|         2018-08-08 13:50:00|          2018-08-17 18:06:29|          2018-09-04 00:00:00|\n",
      "|949d5b44dbf5de918...|f88197465ea7920ad...|   delivered|     2017-11-18 19:28:06|2017-11-18 19:45:59|         2017-11-22 13:39:59|          2017-12-02 00:28:42|          2017-12-15 00:00:00|\n",
      "|ad21c59c0840e6cb8...|8ab97904e6daea886...|   delivered|     2018-02-13 21:18:39|2018-02-13 22:20:29|         2018-02-14 19:46:34|          2018-02-16 18:17:02|          2018-02-26 00:00:00|\n",
      "+--------------------+--------------------+------------+------------------------+-------------------+----------------------------+-----------------------------+-----------------------------+\n",
      "only showing top 5 rows\n",
      "\n"
     ]
    }
   ],
   "source": [
    "orders_df_cleaned.show(5)"
   ]
  },
  {
   "cell_type": "code",
   "execution_count": 20,
   "id": "7e70f150-478d-4368-9e47-dc426a82f9db",
   "metadata": {
    "tags": []
   },
   "outputs": [],
   "source": [
    "order_df_cleaned= order_df_cleaned.withColumn('order_purchase_timestamp',to_date(col('order_purchase_timestamp'))) "
   ]
  },
  {
   "cell_type": "code",
   "execution_count": 21,
   "id": "aabb160b-e09c-4e50-9389-d4bc20d4bd5d",
   "metadata": {
    "tags": []
   },
   "outputs": [
    {
     "name": "stdout",
     "output_type": "stream",
     "text": [
      "+--------------------+--------------------+------------+------------------------+-------------------+----------------------------+-----------------------------+-----------------------------+\n",
      "|            order_id|         customer_id|order_status|order_purchase_timestamp|  order_approved_at|order_delivered_carrier_date|order_delivered_customer_date|order_estimated_delivery_date|\n",
      "+--------------------+--------------------+------------+------------------------+-------------------+----------------------------+-----------------------------+-----------------------------+\n",
      "|e481f51cbdc54678b...|9ef432eb625129730...|   delivered|              2017-10-02|2017-10-02 11:07:15|         2017-10-04 19:55:00|          2017-10-10 21:25:13|          2017-10-18 00:00:00|\n",
      "|53cdb2fc8bc7dce0b...|b0830fb4747a6c6d2...|   delivered|              2018-07-24|2018-07-26 03:24:27|         2018-07-26 14:31:00|          2018-08-07 15:27:45|          2018-08-13 00:00:00|\n",
      "|47770eb9100c2d0c4...|41ce2a54c0b03bf34...|   delivered|              2018-08-08|2018-08-08 08:55:23|         2018-08-08 13:50:00|          2018-08-17 18:06:29|          2018-09-04 00:00:00|\n",
      "+--------------------+--------------------+------------+------------------------+-------------------+----------------------------+-----------------------------+-----------------------------+\n",
      "only showing top 3 rows\n",
      "\n"
     ]
    }
   ],
   "source": [
    "order_df_cleaned.show(3)"
   ]
  },
  {
   "cell_type": "code",
   "execution_count": 22,
   "id": "b31c5697-214f-4b80-bc7f-9a1abbfb7063",
   "metadata": {
    "tags": []
   },
   "outputs": [
    {
     "name": "stdout",
     "output_type": "stream",
     "text": [
      "+--------------------+------------------+------------+--------------------+-------------+---------------------+\n",
      "|            order_id|payment_sequential|payment_type|payment_installments|payment_value|payments_df_with_null|\n",
      "+--------------------+------------------+------------+--------------------+-------------+---------------------+\n",
      "|b81ef226f3fe1789b...|                 1| credit_card|                   8|         NULL|   154.10987195285352|\n",
      "|a9810da82917af2d9...|                 1| credit_card|                   1|        24.39|                24.39|\n",
      "|25e8ea4e93396b6fa...|                 1| credit_card|                   1|        65.71|                65.71|\n",
      "|ba78997921bbcdc13...|                 1| credit_card|                   8|       107.78|               107.78|\n",
      "|42fdf880ba16b47b5...|                 1| credit_card|                   2|       128.45|               128.45|\n",
      "+--------------------+------------------+------------+--------------------+-------------+---------------------+\n",
      "only showing top 5 rows\n",
      "\n"
     ]
    }
   ],
   "source": [
    "payments_df_cleaned.show(5)"
   ]
  },
  {
   "cell_type": "code",
   "execution_count": 23,
   "id": "6ca2af47-c1e1-4917-bacb-3fc2ee4ef4a7",
   "metadata": {
    "tags": []
   },
   "outputs": [
    {
     "name": "stdout",
     "output_type": "stream",
     "text": [
      "+------------+-----+\n",
      "|payment_type|count|\n",
      "+------------+-----+\n",
      "| not_defined|    3|\n",
      "| credit_card|76795|\n",
      "|      boleto|19784|\n",
      "|  debit_card| 1529|\n",
      "|     voucher| 5775|\n",
      "+------------+-----+\n",
      "\n"
     ]
    },
    {
     "name": "stderr",
     "output_type": "stream",
     "text": [
      "                                                                                \r"
     ]
    }
   ],
   "source": [
    "order_payments_df.groupBy('payment_type').count().show()"
   ]
  },
  {
   "cell_type": "code",
   "execution_count": 24,
   "id": "b5cb96ee-d367-486b-ae42-19067ea22346",
   "metadata": {
    "tags": []
   },
   "outputs": [
    {
     "name": "stdout",
     "output_type": "stream",
     "text": [
      "+------------+-----+\n",
      "|payment_type|count|\n",
      "+------------+-----+\n",
      "| not_defined|    3|\n",
      "| credit_card|76795|\n",
      "|      boleto|19784|\n",
      "|  debit_card| 1529|\n",
      "|     voucher| 5775|\n",
      "+------------+-----+\n",
      "\n"
     ]
    }
   ],
   "source": [
    "payments_df_cleaned.groupBy('payment_type').count().show()"
   ]
  },
  {
   "cell_type": "code",
   "execution_count": 25,
   "id": "5c8bb045-c3a0-4d98-a412-2601615a1cb2",
   "metadata": {
    "tags": []
   },
   "outputs": [
    {
     "name": "stdout",
     "output_type": "stream",
     "text": [
      "+-------------+-----+\n",
      "| payment_type|count|\n",
      "+-------------+-----+\n",
      "|         NULL|    3|\n",
      "|  credit card|76795|\n",
      "|   debit card| 1529|\n",
      "|      voucher| 5775|\n",
      "|bamk transfer|19784|\n",
      "+-------------+-----+\n",
      "\n"
     ]
    }
   ],
   "source": [
    "payments_df_cleaned.withColumn('payment_type',when(col('payment_type')=='credit_card','credit card')\n",
    "                                               .when(col('payment_type')=='debit_card','debit card')\n",
    "                                               .when(col('payment_type')=='boleto','bamk transfer')\n",
    "                                               .when(col('payment_type')=='voucher','voucher')\n",
    "                                               .when(col('payment_type')=='voucher','undefined')\n",
    "            \n",
    "                              \n",
    "                              \n",
    "                                                      ).groupBy('payment_type').count().show()"
   ]
  },
  {
   "cell_type": "code",
   "execution_count": 26,
   "id": "437dad8c-8ed7-4d96-bf0d-8629c640bdab",
   "metadata": {
    "tags": []
   },
   "outputs": [
    {
     "name": "stdout",
     "output_type": "stream",
     "text": [
      "+--------------------+------------------+------------+--------------------+-------------+---------------------+\n",
      "|            order_id|payment_sequential|payment_type|payment_installments|payment_value|payments_df_with_null|\n",
      "+--------------------+------------------+------------+--------------------+-------------+---------------------+\n",
      "|b81ef226f3fe1789b...|                 1| credit_card|                   8|         NULL|   154.10987195285352|\n",
      "|a9810da82917af2d9...|                 1| credit_card|                   1|        24.39|                24.39|\n",
      "|25e8ea4e93396b6fa...|                 1| credit_card|                   1|        65.71|                65.71|\n",
      "|ba78997921bbcdc13...|                 1| credit_card|                   8|       107.78|               107.78|\n",
      "|42fdf880ba16b47b5...|                 1| credit_card|                   2|       128.45|               128.45|\n",
      "|298fcdf1f73eb413e...|                 1| credit_card|                   2|        96.12|                96.12|\n",
      "|771ee386b001f0620...|                 1| credit_card|                   1|        81.16|                81.16|\n",
      "|3d7239c394a212faa...|                 1| credit_card|                   3|        51.84|                51.84|\n",
      "|1f78449c87a54faf9...|                 1| credit_card|                   6|       341.09|               341.09|\n",
      "|0573b5e23cbd79800...|                 1|      boleto|                   1|        51.95|                51.95|\n",
      "|d88e0d5fa41661ce0...|                 1| credit_card|                   8|       188.73|               188.73|\n",
      "|2480f727e869fdeb3...|                 1| credit_card|                   1|        141.9|                141.9|\n",
      "|616105c9352a9668c...|                 1| credit_card|                   1|        75.78|                75.78|\n",
      "|cf95215a722f3ebf2...|                 1| credit_card|                   5|       102.66|               102.66|\n",
      "|769214176682788a9...|                 1| credit_card|                   4|       105.28|               105.28|\n",
      "|12e5cfe0e4716b59a...|                 1| credit_card|                  10|       157.45|               157.45|\n",
      "|61059985a6fc0ad64...|                 1| credit_card|                   1|       132.04|               132.04|\n",
      "|79da3f5fe31ad1e45...|                 1| credit_card|                   1|        98.94|                98.94|\n",
      "|8ac09207f415d55ac...|                 1| credit_card|                   4|       244.15|               244.15|\n",
      "|b2349a3f20dfbeef6...|                 1| credit_card|                   3|       136.71|               136.71|\n",
      "+--------------------+------------------+------------+--------------------+-------------+---------------------+\n",
      "only showing top 20 rows\n",
      "\n"
     ]
    }
   ],
   "source": [
    "payments_df_cleaned.show()"
   ]
  },
  {
   "cell_type": "code",
   "execution_count": 27,
   "id": "1ca66d9b-4676-46f4-befa-b195b6df43a2",
   "metadata": {
    "tags": []
   },
   "outputs": [
    {
     "name": "stdout",
     "output_type": "stream",
     "text": [
      "root\n",
      " |-- customer_id: string (nullable = true)\n",
      " |-- customer_unique_id: string (nullable = true)\n",
      " |-- customer_zip_code_prefix: integer (nullable = true)\n",
      " |-- customer_city: string (nullable = true)\n",
      " |-- customer_state: string (nullable = true)\n",
      "\n"
     ]
    }
   ],
   "source": [
    "customers_df.printSchema()"
   ]
  },
  {
   "cell_type": "code",
   "execution_count": 28,
   "id": "1598df49-d6d9-409a-a49f-ad52fd236f9e",
   "metadata": {
    "tags": []
   },
   "outputs": [
    {
     "name": "stdout",
     "output_type": "stream",
     "text": [
      "+--------------------+--------------------+------------------------+--------------------+--------------+\n",
      "|         customer_id|  customer_unique_id|customer_zip_code_prefix|       customer_city|customer_state|\n",
      "+--------------------+--------------------+------------------------+--------------------+--------------+\n",
      "|06b8999e2fba1a1fb...|861eff4711a542e4b...|                   14409|              franca|            SP|\n",
      "|18955e83d337fd6b2...|290c77bc529b7ac93...|                    9790|sao bernardo do c...|            SP|\n",
      "|4e7b3e00288586ebd...|060e732b5b29e8181...|                    1151|           sao paulo|            SP|\n",
      "|b2b6027bc5c5109e5...|259dac757896d24d7...|                    8775|     mogi das cruzes|            SP|\n",
      "|4f2d8ab171c80ec83...|345ecd01c38d18a90...|                   13056|            campinas|            SP|\n",
      "+--------------------+--------------------+------------------------+--------------------+--------------+\n",
      "only showing top 5 rows\n",
      "\n"
     ]
    }
   ],
   "source": [
    "customers_df.show(5)"
   ]
  },
  {
   "cell_type": "code",
   "execution_count": 29,
   "id": "7ba95e0d-f618-429f-8188-8a041676b5ee",
   "metadata": {
    "tags": []
   },
   "outputs": [],
   "source": [
    "customers_df_cleaned = customers_df.withColumn('customer_zip_code_prefix', col('customer_zip_code_prefix').cast('String'))"
   ]
  },
  {
   "cell_type": "code",
   "execution_count": 30,
   "id": "3075df69-f3c2-4dfd-ad70-ed7fd6e3c267",
   "metadata": {
    "tags": []
   },
   "outputs": [
    {
     "name": "stdout",
     "output_type": "stream",
     "text": [
      "root\n",
      " |-- customer_id: string (nullable = true)\n",
      " |-- customer_unique_id: string (nullable = true)\n",
      " |-- customer_zip_code_prefix: string (nullable = true)\n",
      " |-- customer_city: string (nullable = true)\n",
      " |-- customer_state: string (nullable = true)\n",
      "\n"
     ]
    }
   ],
   "source": [
    "customers_df_cleaned.printSchema()"
   ]
  },
  {
   "cell_type": "code",
   "execution_count": null,
   "id": "ad580763-a486-4b38-8f4d-2904556724c9",
   "metadata": {},
   "outputs": [],
   "source": []
  },
  {
   "cell_type": "code",
   "execution_count": null,
   "id": "fc19519b-cbe7-4f45-93da-9d7dda369929",
   "metadata": {},
   "outputs": [],
   "source": []
  },
  {
   "cell_type": "markdown",
   "id": "a4bf02ea-341c-4a91-bf9a-20a7c287ed9e",
   "metadata": {},
   "source": [
    "# Remove Duplicate Values/Records"
   ]
  },
  {
   "cell_type": "code",
   "execution_count": 31,
   "id": "0d24ac67-8d74-42bc-b7b3-9df8fe831156",
   "metadata": {
    "tags": []
   },
   "outputs": [],
   "source": [
    "customers_df_cleaned = customers_df.dropDuplicates(['customer_id'])"
   ]
  },
  {
   "cell_type": "code",
   "execution_count": 32,
   "id": "3b19a5bc-10b9-42dc-b72a-75fd0c5473cf",
   "metadata": {
    "tags": []
   },
   "outputs": [
    {
     "name": "stdout",
     "output_type": "stream",
     "text": [
      "+--------------------+--------------------+------------+------------------------+-------------------+----------------------------+-----------------------------+-----------------------------+\n",
      "|            order_id|         customer_id|order_status|order_purchase_timestamp|  order_approved_at|order_delivered_carrier_date|order_delivered_customer_date|order_estimated_delivery_date|\n",
      "+--------------------+--------------------+------------+------------------------+-------------------+----------------------------+-----------------------------+-----------------------------+\n",
      "|e481f51cbdc54678b...|9ef432eb625129730...|   delivered|     2017-10-02 10:56:33|2017-10-02 11:07:15|         2017-10-04 19:55:00|          2017-10-10 21:25:13|          2017-10-18 00:00:00|\n",
      "|53cdb2fc8bc7dce0b...|b0830fb4747a6c6d2...|   delivered|     2018-07-24 20:41:37|2018-07-26 03:24:27|         2018-07-26 14:31:00|          2018-08-07 15:27:45|          2018-08-13 00:00:00|\n",
      "|47770eb9100c2d0c4...|41ce2a54c0b03bf34...|   delivered|     2018-08-08 08:38:49|2018-08-08 08:55:23|         2018-08-08 13:50:00|          2018-08-17 18:06:29|          2018-09-04 00:00:00|\n",
      "+--------------------+--------------------+------------+------------------------+-------------------+----------------------------+-----------------------------+-----------------------------+\n",
      "only showing top 3 rows\n",
      "\n"
     ]
    }
   ],
   "source": [
    "orders_df.show(3)"
   ]
  },
  {
   "cell_type": "code",
   "execution_count": 33,
   "id": "858ed2ca-a98f-405a-988b-4f2f39702f8d",
   "metadata": {
    "tags": []
   },
   "outputs": [],
   "source": [
    "order_with_details = orders_df_cleaned.join(order_items_df,'order_id','left')\\\n",
    ".join(payments_df_cleaned,'order_id','left')\\\n",
    ".join(customers_df,'customer_id','inner')"
   ]
  },
  {
   "cell_type": "code",
   "execution_count": 34,
   "id": "8aa3d433-f015-4f83-82dc-cad58c465872",
   "metadata": {
    "tags": []
   },
   "outputs": [
    {
     "name": "stderr",
     "output_type": "stream",
     "text": [
      "                                                                                \r"
     ]
    },
    {
     "name": "stdout",
     "output_type": "stream",
     "text": [
      "+--------------------+--------------------+------------+------------------------+-------------------+----------------------------+-----------------------------+-----------------------------+-------------+--------------------+--------------------+-------------------+-----+-------------+------------------+------------+--------------------+-------------+---------------------+--------------------+------------------------+-------------+--------------+\n",
      "|         customer_id|            order_id|order_status|order_purchase_timestamp|  order_approved_at|order_delivered_carrier_date|order_delivered_customer_date|order_estimated_delivery_date|order_item_id|          product_id|           seller_id|shipping_limit_date|price|freight_value|payment_sequential|payment_type|payment_installments|payment_value|payments_df_with_null|  customer_unique_id|customer_zip_code_prefix|customer_city|customer_state|\n",
      "+--------------------+--------------------+------------+------------------------+-------------------+----------------------------+-----------------------------+-----------------------------+-------------+--------------------+--------------------+-------------------+-----+-------------+------------------+------------+--------------------+-------------+---------------------+--------------------+------------------------+-------------+--------------+\n",
      "|9ef432eb625129730...|e481f51cbdc54678b...|   delivered|     2017-10-02 10:56:33|2017-10-02 11:07:15|         2017-10-04 19:55:00|          2017-10-10 21:25:13|          2017-10-18 00:00:00|            1|87285b34884572647...|3504c0cb71d7fa48d...|2017-10-06 11:07:15|29.99|         8.72|                 2|     voucher|                   1|        18.59|                18.59|7c396fd4830fd0422...|                    3149|    sao paulo|            SP|\n",
      "|9ef432eb625129730...|e481f51cbdc54678b...|   delivered|     2017-10-02 10:56:33|2017-10-02 11:07:15|         2017-10-04 19:55:00|          2017-10-10 21:25:13|          2017-10-18 00:00:00|            1|87285b34884572647...|3504c0cb71d7fa48d...|2017-10-06 11:07:15|29.99|         8.72|                 3|     voucher|                   1|          2.0|                  2.0|7c396fd4830fd0422...|                    3149|    sao paulo|            SP|\n",
      "|9ef432eb625129730...|e481f51cbdc54678b...|   delivered|     2017-10-02 10:56:33|2017-10-02 11:07:15|         2017-10-04 19:55:00|          2017-10-10 21:25:13|          2017-10-18 00:00:00|            1|87285b34884572647...|3504c0cb71d7fa48d...|2017-10-06 11:07:15|29.99|         8.72|                 1| credit_card|                   1|        18.12|                18.12|7c396fd4830fd0422...|                    3149|    sao paulo|            SP|\n",
      "|b0830fb4747a6c6d2...|53cdb2fc8bc7dce0b...|   delivered|     2018-07-24 20:41:37|2018-07-26 03:24:27|         2018-07-26 14:31:00|          2018-08-07 15:27:45|          2018-08-13 00:00:00|            1|595fac2a385ac33a8...|289cdb325fb7e7f89...|2018-07-30 03:24:27|118.7|        22.76|                 1|      boleto|                   1|       141.46|               141.46|af07308b275d755c9...|                   47813|    barreiras|            BA|\n",
      "|41ce2a54c0b03bf34...|47770eb9100c2d0c4...|   delivered|     2018-08-08 08:38:49|2018-08-08 08:55:23|         2018-08-08 13:50:00|          2018-08-17 18:06:29|          2018-09-04 00:00:00|            1|aa4383b373c6aca5d...|4869f7a5dfa277a7d...|2018-08-13 08:55:23|159.9|        19.22|                 1| credit_card|                   3|       179.12|               179.12|3a653a41f6f9fc3d2...|                   75265|   vianopolis|            GO|\n",
      "+--------------------+--------------------+------------+------------------------+-------------------+----------------------------+-----------------------------+-----------------------------+-------------+--------------------+--------------------+-------------------+-----+-------------+------------------+------------+--------------------+-------------+---------------------+--------------------+------------------------+-------------+--------------+\n",
      "only showing top 5 rows\n",
      "\n"
     ]
    },
    {
     "name": "stderr",
     "output_type": "stream",
     "text": [
      "                                                                                \r"
     ]
    }
   ],
   "source": [
    "\n",
    "order_with_details.show(5)"
   ]
  },
  {
   "cell_type": "code",
   "execution_count": 35,
   "id": "42b6ed10-e103-4337-b929-3bacad18857b",
   "metadata": {
    "tags": []
   },
   "outputs": [
    {
     "name": "stderr",
     "output_type": "stream",
     "text": [
      "[Stage 74:=============================>                            (1 + 1) / 2]\r"
     ]
    },
    {
     "name": "stdout",
     "output_type": "stream",
     "text": [
      "+--------------------+------------------+\n",
      "|            order_id|       total_price|\n",
      "+--------------------+------------------+\n",
      "|1c4a92d82c1b0dec1...|189.07999999999998|\n",
      "|28eaf054725f4dd3c...|              29.9|\n",
      "|78cd965d0bc0388d3...|             169.9|\n",
      "|126f2d9c30f82426d...|             140.9|\n",
      "|d6d7c431275f0029d...|             145.0|\n",
      "+--------------------+------------------+\n",
      "only showing top 5 rows\n",
      "\n"
     ]
    },
    {
     "name": "stderr",
     "output_type": "stream",
     "text": [
      "                                                                                \r"
     ]
    }
   ],
   "source": [
    "order_with_total_value= order_with_details.groupBy('order_id').agg(sum(col('price')).alias('total_price'))\n",
    "order_with_total_value.show(5)"
   ]
  },
  {
   "cell_type": "code",
   "execution_count": 36,
   "id": "fae7cf1f-433d-434f-80d6-76608a3b1df2",
   "metadata": {
    "tags": []
   },
   "outputs": [
    {
     "name": "stdout",
     "output_type": "stream",
     "text": [
      "+------+-----------------------------+------------------------+-------------------+\n",
      "| price|order_delivered_customer_date|order_purchase_timestamp|delivery_time_taken|\n",
      "+------+-----------------------------+------------------------+-------------------+\n",
      "| 29.99|          2017-10-10 21:25:13|     2017-10-02 10:56:33|                  8|\n",
      "| 29.99|          2017-10-10 21:25:13|     2017-10-02 10:56:33|                  8|\n",
      "| 29.99|          2017-10-10 21:25:13|     2017-10-02 10:56:33|                  8|\n",
      "| 118.7|          2018-08-07 15:27:45|     2018-07-24 20:41:37|                 14|\n",
      "| 159.9|          2018-08-17 18:06:29|     2018-08-08 08:38:49|                  9|\n",
      "|  45.0|          2017-12-02 00:28:42|     2017-11-18 19:28:06|                 14|\n",
      "|  19.9|          2018-02-16 18:17:02|     2018-02-13 21:18:39|                  3|\n",
      "| 147.9|          2017-07-26 10:57:55|     2017-07-09 21:57:05|                 17|\n",
      "|  49.9|          9999-12-31 00:00:00|     2017-04-11 12:22:08|            2915629|\n",
      "| 59.99|          2017-05-26 12:55:51|     2017-05-16 13:10:30|                 10|\n",
      "|  19.9|          2017-02-02 14:08:10|     2017-01-23 18:29:09|                 10|\n",
      "|149.99|          2017-08-16 17:14:30|     2017-07-29 11:55:02|                 18|\n",
      "|149.99|          2017-08-16 17:14:30|     2017-07-29 11:55:02|                 18|\n",
      "|  99.0|          2017-05-29 11:18:31|     2017-05-16 19:41:10|                 13|\n",
      "|  99.0|          2017-05-29 11:18:31|     2017-05-16 19:41:10|                 13|\n",
      "|  98.0|          2017-07-19 14:04:48|     2017-07-13 19:58:11|                  6|\n",
      "|  31.9|          2018-06-19 12:05:52|     2018-06-07 10:06:19|                 12|\n",
      "|  19.9|          2018-07-30 15:52:25|     2018-07-25 17:44:10|                  5|\n",
      "| 38.25|          2018-03-12 23:36:26|     2018-03-01 14:14:28|                 11|\n",
      "| 132.4|          2018-06-21 15:34:32|     2018-06-07 19:03:12|                 14|\n",
      "+------+-----------------------------+------------------------+-------------------+\n",
      "only showing top 20 rows\n",
      "\n"
     ]
    }
   ],
   "source": [
    "# delivery time from prvious notebook\n",
    "delivery_time = order_with_details.select('price','order_delivered_customer_date','order_purchase_timestamp')\\\n",
    "                     .withColumn('delivery_time_taken',date_diff(col('order_delivered_customer_date'),col('order_purchase_timestamp')))\n",
    "delivery_time.show()\n"
   ]
  },
  {
   "cell_type": "code",
   "execution_count": null,
   "id": "6973553c-c9e2-4814-b382-d214c4af3d62",
   "metadata": {},
   "outputs": [],
   "source": []
  },
  {
   "cell_type": "markdown",
   "id": "573e0367-978f-45f3-9958-2db63e52dfb3",
   "metadata": {},
   "source": [
    "# Advance Transformation"
   ]
  },
  {
   "cell_type": "code",
   "execution_count": 37,
   "id": "48ec0605-0e6c-404d-b22a-7c707f49b31d",
   "metadata": {
    "tags": []
   },
   "outputs": [
    {
     "name": "stdout",
     "output_type": "stream",
     "text": [
      "+--------------------+-------------+--------------------+--------------------+-------------------+-----+-------------+\n",
      "|            order_id|order_item_id|          product_id|           seller_id|shipping_limit_date|price|freight_value|\n",
      "+--------------------+-------------+--------------------+--------------------+-------------------+-----+-------------+\n",
      "|00010242fe8c5a6d1...|            1|4244733e06e7ecb49...|48436dade18ac8b2b...|2017-09-19 09:45:35| 58.9|        13.29|\n",
      "|00018f77f2f0320c5...|            1|e5f2d52b802189ee6...|dd7ddc04e1b6c2c61...|2017-05-03 11:05:13|239.9|        19.93|\n",
      "|000229ec398224ef6...|            1|c777355d18b72b67a...|5b51032eddd242adc...|2018-01-18 14:48:30|199.0|        17.87|\n",
      "|00024acbcdf0a6daa...|            1|7634da152a4610f15...|9d7a1d34a50524090...|2018-08-15 10:10:18|12.99|        12.79|\n",
      "|00042b26cf59d7ce6...|            1|ac6c3623068f30de0...|df560393f3a51e745...|2017-02-13 13:57:51|199.9|        18.14|\n",
      "+--------------------+-------------+--------------------+--------------------+-------------------+-----+-------------+\n",
      "only showing top 5 rows\n",
      "\n"
     ]
    }
   ],
   "source": [
    "order_items_df.show(5)"
   ]
  },
  {
   "cell_type": "code",
   "execution_count": 38,
   "id": "359c8c8c-81b7-4cc7-a963-3a9b623ab37d",
   "metadata": {
    "tags": []
   },
   "outputs": [
    {
     "name": "stderr",
     "output_type": "stream",
     "text": [
      "                                                                                \r"
     ]
    }
   ],
   "source": [
    "quantile = order_items_df.approxQuantile('price',[0.25,0.5,0.75],0.0)"
   ]
  },
  {
   "cell_type": "code",
   "execution_count": 39,
   "id": "b496d7a9-d8ee-4162-b4f4-1dc6ffaa9f93",
   "metadata": {
    "tags": []
   },
   "outputs": [
    {
     "name": "stdout",
     "output_type": "stream",
     "text": [
      "39.9 74.99 134.9\n"
     ]
    }
   ],
   "source": [
    "q1,q2,q3= quantile[0],quantile[1],quantile[2]\n",
    "print(f'{q1} {q2} {q3}')"
   ]
  },
  {
   "cell_type": "code",
   "execution_count": 40,
   "id": "cfd87178-d7ed-45d9-bee9-07c486bdf6d7",
   "metadata": {
    "tags": []
   },
   "outputs": [
    {
     "name": "stderr",
     "output_type": "stream",
     "text": [
      "[Stage 83:=============================>                            (1 + 1) / 2]\r"
     ]
    },
    {
     "name": "stdout",
     "output_type": "stream",
     "text": [
      "+-------+------------------+\n",
      "|summary|             price|\n",
      "+-------+------------------+\n",
      "|  count|            112650|\n",
      "|   mean|120.65373901471354|\n",
      "| stddev|183.63392805026012|\n",
      "|    min|              0.85|\n",
      "|    25%|              39.9|\n",
      "|    50%|             74.99|\n",
      "|    75%|             134.9|\n",
      "|    max|            6735.0|\n",
      "+-------+------------------+\n",
      "\n"
     ]
    },
    {
     "name": "stderr",
     "output_type": "stream",
     "text": [
      "                                                                                \r"
     ]
    }
   ],
   "source": [
    "order_items_df.select('price').summary().show()"
   ]
  },
  {
   "cell_type": "code",
   "execution_count": 41,
   "id": "c3c1b389-40ea-4f3e-92b4-80c40610bf32",
   "metadata": {
    "tags": []
   },
   "outputs": [
    {
     "name": "stdout",
     "output_type": "stream",
     "text": [
      "9.99 890.0\n"
     ]
    }
   ],
   "source": [
    "#getting the low and the high cutt off to remove the outliers\n",
    "quantile =  order_items_df.approxQuantile('price',[0.01,0.99],0)\n",
    "low_cuttoff,high_cuttoff = quantile[0],quantile[1]\n",
    "print(f'{low_cuttoff} {high_cuttoff}')"
   ]
  },
  {
   "cell_type": "code",
   "execution_count": 42,
   "id": "b50c86b6-28ae-40ca-8eba-39ee7e5970df",
   "metadata": {
    "tags": []
   },
   "outputs": [
    {
     "name": "stdout",
     "output_type": "stream",
     "text": [
      "root\n",
      " |-- order_id: string (nullable = true)\n",
      " |-- order_item_id: integer (nullable = true)\n",
      " |-- product_id: string (nullable = true)\n",
      " |-- seller_id: string (nullable = true)\n",
      " |-- shipping_limit_date: timestamp (nullable = true)\n",
      " |-- price: double (nullable = true)\n",
      " |-- freight_value: double (nullable = true)\n",
      "\n"
     ]
    }
   ],
   "source": [
    "order_items_df.printSchema()"
   ]
  },
  {
   "cell_type": "code",
   "execution_count": 43,
   "id": "cc7ddf67-25d2-4ade-bc78-6f6cfe854359",
   "metadata": {
    "tags": []
   },
   "outputs": [
    {
     "name": "stdout",
     "output_type": "stream",
     "text": [
      "+--------------------+-------------+--------------------+--------------------+-------------------+------+-------------+\n",
      "|            order_id|order_item_id|          product_id|           seller_id|shipping_limit_date| price|freight_value|\n",
      "+--------------------+-------------+--------------------+--------------------+-------------------+------+-------------+\n",
      "|00010242fe8c5a6d1...|            1|4244733e06e7ecb49...|48436dade18ac8b2b...|2017-09-19 09:45:35|  58.9|        13.29|\n",
      "|00018f77f2f0320c5...|            1|e5f2d52b802189ee6...|dd7ddc04e1b6c2c61...|2017-05-03 11:05:13| 239.9|        19.93|\n",
      "|000229ec398224ef6...|            1|c777355d18b72b67a...|5b51032eddd242adc...|2018-01-18 14:48:30| 199.0|        17.87|\n",
      "|00024acbcdf0a6daa...|            1|7634da152a4610f15...|9d7a1d34a50524090...|2018-08-15 10:10:18| 12.99|        12.79|\n",
      "|00042b26cf59d7ce6...|            1|ac6c3623068f30de0...|df560393f3a51e745...|2017-02-13 13:57:51| 199.9|        18.14|\n",
      "|00048cc3ae777c65d...|            1|ef92defde845ab845...|6426d21aca402a131...|2017-05-23 03:55:27|  21.9|        12.69|\n",
      "|00054e8431b9d7675...|            1|8d4f2bb7e93e6710a...|7040e82f899a04d1b...|2017-12-14 12:10:31|  19.9|        11.85|\n",
      "|000576fe39319847c...|            1|557d850972a7d6f79...|5996cddab893a4652...|2018-07-10 12:30:45| 810.0|        70.75|\n",
      "|0005a1a1728c9d785...|            1|310ae3c140ff94b03...|a416b6a846a117243...|2018-03-26 18:31:29|145.95|        11.65|\n",
      "|0005f50442cb953dc...|            1|4535b0e1091c278df...|ba143b05f0110f0dc...|2018-07-06 14:10:56| 53.99|         11.4|\n",
      "|00061f2a7bc09da83...|            1|d63c1011f49d98b97...|cc419e0650a3c5ba7...|2018-03-29 22:28:09| 59.99|         8.88|\n",
      "|00063b381e2406b52...|            1|f177554ea93259a5b...|8602a61d680a10a82...|2018-07-31 17:30:39|  45.0|        12.98|\n",
      "|0006ec9db01a64e59...|            1|99a4788cb24856965...|4a3ca9315b744ce9f...|2018-07-26 17:24:20|  74.0|        23.32|\n",
      "|0008288aa423d2a3f...|            1|368c6c730842d7801...|1f50f920176fa81da...|2018-02-21 02:55:52|  49.9|        13.37|\n",
      "|0008288aa423d2a3f...|            2|368c6c730842d7801...|1f50f920176fa81da...|2018-02-21 02:55:52|  49.9|        13.37|\n",
      "|0009792311464db53...|            1|8cab8abac59158715...|530ec6109d11eaaf8...|2018-08-17 12:15:10|  99.9|        27.65|\n",
      "|0009c9a17f916a706...|            1|3f27ac8e699df3d30...|fcb5ace8bcc92f757...|2018-05-02 09:31:53| 639.0|        11.34|\n",
      "|000aed2e25dbad2f9...|            1|4fa33915031a8cde0...|fe2032dab1a61af87...|2018-05-16 20:57:03| 144.0|         8.77|\n",
      "|000c3e6612759851c...|            1|b50c950aba0dcead2...|218d46b86c1881d02...|2017-08-21 03:33:13|  99.0|        13.71|\n",
      "|000e562887b1f2006...|            1|5ed9eaf534f6936b5...|8cbac7e12637ed9cf...|2018-02-28 12:08:37|  25.0|        16.11|\n",
      "+--------------------+-------------+--------------------+--------------------+-------------------+------+-------------+\n",
      "only showing top 20 rows\n",
      "\n"
     ]
    }
   ],
   "source": [
    "order_items_cleaned = order_items_df.filter((col('price') >= low_cuttoff ) & (col('price') <= high_cuttoff))\n",
    "order_items_cleaned.show()"
   ]
  },
  {
   "cell_type": "code",
   "execution_count": 44,
   "id": "a7f465d7-2509-49a1-8bed-b995569fefff",
   "metadata": {
    "tags": []
   },
   "outputs": [
    {
     "name": "stdout",
     "output_type": "stream",
     "text": [
      "+-------+------------------+\n",
      "|summary|             price|\n",
      "+-------+------------------+\n",
      "|  count|            110453|\n",
      "|   mean|108.49213068006871|\n",
      "| stddev|112.87303173792675|\n",
      "|    min|              9.99|\n",
      "|    25%|             39.99|\n",
      "|    50%|              74.9|\n",
      "|    75%|             130.0|\n",
      "|    max|             890.0|\n",
      "+-------+------------------+\n",
      "\n"
     ]
    }
   ],
   "source": [
    "order_items_cleaned.select('price').summary().show()"
   ]
  },
  {
   "cell_type": "code",
   "execution_count": 45,
   "id": "27c220e7-5633-46f7-a7d4-83b16a5c1314",
   "metadata": {
    "tags": []
   },
   "outputs": [
    {
     "name": "stdout",
     "output_type": "stream",
     "text": [
      "+--------------------+---------------------+-------------------+--------------------------+------------------+----------------+-----------------+-----------------+----------------+\n",
      "|          product_id|product_category_name|product_name_lenght|product_description_lenght|product_photos_qty|product_weight_g|product_length_cm|product_height_cm|product_width_cm|\n",
      "+--------------------+---------------------+-------------------+--------------------------+------------------+----------------+-----------------+-----------------+----------------+\n",
      "|1e9e8ef04dbcff454...|           perfumaria|                 40|                       287|                 1|             225|               16|               10|              14|\n",
      "|3aa071139cb16b67c...|                artes|                 44|                       276|                 1|            1000|               30|               18|              20|\n",
      "|96bd76ec8810374ed...|        esporte_lazer|                 46|                       250|                 1|             154|               18|                9|              15|\n",
      "|cef67bcfe19066a93...|                bebes|                 27|                       261|                 1|             371|               26|                4|              26|\n",
      "|9dc1a7de274444849...| utilidades_domest...|                 37|                       402|                 4|             625|               20|               17|              13|\n",
      "+--------------------+---------------------+-------------------+--------------------------+------------------+----------------+-----------------+-----------------+----------------+\n",
      "only showing top 5 rows\n",
      "\n"
     ]
    }
   ],
   "source": [
    "products_df.show(5)"
   ]
  },
  {
   "cell_type": "code",
   "execution_count": 46,
   "id": "ca0ab2f9-cb5b-485a-bab3-11c7dfd237b2",
   "metadata": {
    "tags": []
   },
   "outputs": [
    {
     "name": "stdout",
     "output_type": "stream",
     "text": [
      "+--------------------+---------------------+-------------------+--------------------------+------------------+----------------+-----------------+-----------------+----------------+------------+\n",
      "|          product_id|product_category_name|product_name_lenght|product_description_lenght|product_photos_qty|product_weight_g|product_length_cm|product_height_cm|product_width_cm|product_size|\n",
      "+--------------------+---------------------+-------------------+--------------------------+------------------+----------------+-----------------+-----------------+----------------+------------+\n",
      "|1e9e8ef04dbcff454...|           perfumaria|                 40|                       287|                 1|             225|               16|               10|              14|       Small|\n",
      "|3aa071139cb16b67c...|                artes|                 44|                       276|                 1|            1000|               30|               18|              20|      Medium|\n",
      "|96bd76ec8810374ed...|        esporte_lazer|                 46|                       250|                 1|             154|               18|                9|              15|       Small|\n",
      "|cef67bcfe19066a93...|                bebes|                 27|                       261|                 1|             371|               26|                4|              26|       Small|\n",
      "|9dc1a7de274444849...| utilidades_domest...|                 37|                       402|                 4|             625|               20|               17|              13|      Medium|\n",
      "+--------------------+---------------------+-------------------+--------------------------+------------------+----------------+-----------------+-----------------+----------------+------------+\n",
      "only showing top 5 rows\n",
      "\n"
     ]
    }
   ],
   "source": [
    "products_df_cleaned  = products_df.withColumn('product_size', \n",
    "                      when(col('product_weight_g')<500,'Small')\n",
    "                       .when(col('product_weight_g')<2000,'Medium')\n",
    "                       .otherwise('large')\n",
    "                      \n",
    "                      )\n",
    "products_df_cleaned.show(5)\n"
   ]
  },
  {
   "cell_type": "code",
   "execution_count": 47,
   "id": "2572b35f-2bc6-4602-b6b7-fce32bad3d4c",
   "metadata": {
    "tags": []
   },
   "outputs": [
    {
     "name": "stdout",
     "output_type": "stream",
     "text": [
      "+------------+-----+\n",
      "|product_size|count|\n",
      "+------------+-----+\n",
      "|      Medium|12505|\n",
      "|       Small|12464|\n",
      "|       large| 7982|\n",
      "+------------+-----+\n",
      "\n"
     ]
    }
   ],
   "source": [
    "products_df_cleaned.groupBy('product_size').count().show()"
   ]
  },
  {
   "cell_type": "code",
   "execution_count": 48,
   "id": "08e240a9-2a45-4eb8-b89b-f0768f158869",
   "metadata": {
    "tags": []
   },
   "outputs": [],
   "source": [
    "## caolculationg total revenue per seller"
   ]
  },
  {
   "cell_type": "code",
   "execution_count": 49,
   "id": "07b3d35b-ad1d-44b8-bccc-ab504ca9e7dd",
   "metadata": {
    "tags": []
   },
   "outputs": [
    {
     "name": "stdout",
     "output_type": "stream",
     "text": [
      "+--------------------+-------------+--------------------+--------------------+-------------------+-----+-------------+\n",
      "|            order_id|order_item_id|          product_id|           seller_id|shipping_limit_date|price|freight_value|\n",
      "+--------------------+-------------+--------------------+--------------------+-------------------+-----+-------------+\n",
      "|00010242fe8c5a6d1...|            1|4244733e06e7ecb49...|48436dade18ac8b2b...|2017-09-19 09:45:35| 58.9|        13.29|\n",
      "|00018f77f2f0320c5...|            1|e5f2d52b802189ee6...|dd7ddc04e1b6c2c61...|2017-05-03 11:05:13|239.9|        19.93|\n",
      "|000229ec398224ef6...|            1|c777355d18b72b67a...|5b51032eddd242adc...|2018-01-18 14:48:30|199.0|        17.87|\n",
      "|00024acbcdf0a6daa...|            1|7634da152a4610f15...|9d7a1d34a50524090...|2018-08-15 10:10:18|12.99|        12.79|\n",
      "|00042b26cf59d7ce6...|            1|ac6c3623068f30de0...|df560393f3a51e745...|2017-02-13 13:57:51|199.9|        18.14|\n",
      "+--------------------+-------------+--------------------+--------------------+-------------------+-----+-------------+\n",
      "only showing top 5 rows\n",
      "\n"
     ]
    }
   ],
   "source": [
    "order_items_cleaned.show(5)"
   ]
  },
  {
   "cell_type": "code",
   "execution_count": 50,
   "id": "e7679777-cbb0-4dd0-9eeb-b00c56da4e93",
   "metadata": {
    "tags": []
   },
   "outputs": [
    {
     "name": "stdout",
     "output_type": "stream",
     "text": [
      "+--------------------+------------------+\n",
      "|           seller_id|     total_revenue|\n",
      "+--------------------+------------------+\n",
      "|4869f7a5dfa277a7d...|228572.63999999908|\n",
      "|4a3ca9315b744ce9f...| 200472.9199999981|\n",
      "|7c67e1448b00f6e96...|187923.89000000118|\n",
      "|fa1c13f2614d7b5c4...| 162793.4399999999|\n",
      "|da8622b14eb17ae28...| 160196.9699999994|\n",
      "+--------------------+------------------+\n",
      "only showing top 5 rows\n",
      "\n"
     ]
    }
   ],
   "source": [
    "total_seller_revenue = order_items_cleaned.groupBy('seller_id').agg(sum('price').alias('total_revenue'))\n",
    "total_seller_revenue.orderBy(col('total_revenue').desc()).show(5)"
   ]
  },
  {
   "cell_type": "code",
   "execution_count": 53,
   "id": "77809df3-74d8-48b2-8302-b40c9aaaaa66",
   "metadata": {
    "tags": []
   },
   "outputs": [
    {
     "name": "stdout",
     "output_type": "stream",
     "text": [
      "Found 9 items\n",
      "-rw-r--r--   2 harshvardhansahu06733 hadoop    9033957 2025-08-21 20:04 /tmp/Brazilian/olist_customers_dataset.csv\n",
      "-rw-r--r--   2 harshvardhansahu06733 hadoop   61273883 2025-08-21 20:04 /tmp/Brazilian/olist_geolocation_dataset.csv\n",
      "-rw-r--r--   2 harshvardhansahu06733 hadoop   15438671 2025-08-21 20:04 /tmp/Brazilian/olist_order_items_dataset.csv\n",
      "-rw-r--r--   2 harshvardhansahu06733 hadoop    5777138 2025-08-21 20:04 /tmp/Brazilian/olist_order_payments_dataset.csv\n",
      "-rw-r--r--   2 harshvardhansahu06733 hadoop   14451670 2025-08-21 20:04 /tmp/Brazilian/olist_order_reviews_dataset.csv\n",
      "-rw-r--r--   2 harshvardhansahu06733 hadoop   17654914 2025-08-21 20:04 /tmp/Brazilian/olist_orders_dataset.csv\n",
      "-rw-r--r--   2 harshvardhansahu06733 hadoop    2379446 2025-08-21 20:04 /tmp/Brazilian/olist_products_dataset.csv\n",
      "-rw-r--r--   2 harshvardhansahu06733 hadoop     174703 2025-08-21 20:04 /tmp/Brazilian/olist_sellers_dataset.csv\n",
      "-rw-r--r--   2 harshvardhansahu06733 hadoop       2613 2025-08-21 20:04 /tmp/Brazilian/product_category_name_translation.csv\n"
     ]
    }
   ],
   "source": [
    "!hadoop fs -ls /tmp/Brazilian/"
   ]
  },
  {
   "cell_type": "code",
   "execution_count": 52,
   "id": "ae93e724-2de7-4df4-8aa1-77c78e0d97b5",
   "metadata": {
    "tags": []
   },
   "outputs": [
    {
     "name": "stdout",
     "output_type": "stream",
     "text": [
      "Deleted /tmp/Brazilian/olist_proc\n"
     ]
    }
   ],
   "source": [
    "!hadoop fs -rm -r /tmp/Brazilian/olist_proc"
   ]
  },
  {
   "cell_type": "code",
   "execution_count": 54,
   "id": "1ec79513-c497-4d1a-9471-d26761ebeee0",
   "metadata": {
    "tags": []
   },
   "outputs": [],
   "source": [
    "!hadoop fs -mkdir /tmp/Brazilian/olist_proc"
   ]
  },
  {
   "cell_type": "code",
   "execution_count": 55,
   "id": "4b479a80-a1ba-4f0a-b7f4-1e2145f7f142",
   "metadata": {
    "tags": []
   },
   "outputs": [
    {
     "name": "stderr",
     "output_type": "stream",
     "text": [
      "                                                                                \r"
     ]
    }
   ],
   "source": [
    "order_with_details.write.mode('overwrite').parquet('/tmp/Brazilian/olist_proc/cleaned_data.parquet')"
   ]
  },
  {
   "cell_type": "code",
   "execution_count": 56,
   "id": "c5c19b1b-37d5-4b7c-9e90-5848abf4e944",
   "metadata": {
    "tags": []
   },
   "outputs": [],
   "source": [
    "products_df_cleaned.write.mode('overwrite').parquet('/tmp/Brazilian/olist_proc/products_df_cleaned.parquet')"
   ]
  },
  {
   "cell_type": "code",
   "execution_count": 57,
   "id": "0e1f83d4-9503-4497-a729-67f0c33c8a38",
   "metadata": {
    "tags": []
   },
   "outputs": [
    {
     "name": "stdout",
     "output_type": "stream",
     "text": [
      "Found 2 items\n",
      "drwxr-xr-x   - root hadoop          0 2025-08-23 16:57 /tmp/Brazilian/olist_proc/cleaned_data.parquet\n",
      "drwxr-xr-x   - root hadoop          0 2025-08-23 16:57 /tmp/Brazilian/olist_proc/products_df_cleaned.parquet\n"
     ]
    }
   ],
   "source": [
    "!hadoop fs -ls /tmp/Brazilian/olist_proc"
   ]
  },
  {
   "cell_type": "code",
   "execution_count": 58,
   "id": "d0d3b14d-315a-4241-87df-e8a565357790",
   "metadata": {
    "tags": []
   },
   "outputs": [
    {
     "name": "stdout",
     "output_type": "stream",
     "text": [
      "root\n",
      " |-- customer_id: string (nullable = true)\n",
      " |-- order_id: string (nullable = true)\n",
      " |-- order_status: string (nullable = true)\n",
      " |-- order_purchase_timestamp: timestamp (nullable = true)\n",
      " |-- order_approved_at: timestamp (nullable = true)\n",
      " |-- order_delivered_carrier_date: timestamp (nullable = true)\n",
      " |-- order_delivered_customer_date: timestamp (nullable = true)\n",
      " |-- order_estimated_delivery_date: timestamp (nullable = true)\n",
      " |-- order_item_id: integer (nullable = true)\n",
      " |-- product_id: string (nullable = true)\n",
      " |-- seller_id: string (nullable = true)\n",
      " |-- shipping_limit_date: timestamp (nullable = true)\n",
      " |-- price: double (nullable = true)\n",
      " |-- freight_value: double (nullable = true)\n",
      " |-- payment_sequential: integer (nullable = true)\n",
      " |-- payment_type: string (nullable = true)\n",
      " |-- payment_installments: integer (nullable = true)\n",
      " |-- payment_value: double (nullable = true)\n",
      " |-- payments_df_with_null: double (nullable = true)\n",
      " |-- customer_unique_id: string (nullable = true)\n",
      " |-- customer_zip_code_prefix: integer (nullable = true)\n",
      " |-- customer_city: string (nullable = true)\n",
      " |-- customer_state: string (nullable = true)\n",
      "\n"
     ]
    }
   ],
   "source": [
    "order_with_details.printSchema()"
   ]
  },
  {
   "cell_type": "code",
   "execution_count": 59,
   "id": "87889637-1338-496f-a824-62f6e86ddbfa",
   "metadata": {
    "tags": []
   },
   "outputs": [
    {
     "name": "stdout",
     "output_type": "stream",
     "text": [
      "root\n",
      " |-- product_id: string (nullable = true)\n",
      " |-- product_category_name: string (nullable = true)\n",
      " |-- product_name_lenght: integer (nullable = true)\n",
      " |-- product_description_lenght: integer (nullable = true)\n",
      " |-- product_photos_qty: integer (nullable = true)\n",
      " |-- product_weight_g: integer (nullable = true)\n",
      " |-- product_length_cm: integer (nullable = true)\n",
      " |-- product_height_cm: integer (nullable = true)\n",
      " |-- product_width_cm: integer (nullable = true)\n",
      " |-- product_size: string (nullable = false)\n",
      "\n"
     ]
    }
   ],
   "source": [
    "products_df_cleaned.printSchema()"
   ]
  },
  {
   "cell_type": "code",
   "execution_count": 60,
   "id": "90d5f2a1-eee5-4c86-ba11-7ac183e9e4b0",
   "metadata": {
    "tags": []
   },
   "outputs": [
    {
     "ename": "SyntaxError",
     "evalue": "invalid syntax (2910447226.py, line 2)",
     "output_type": "error",
     "traceback": [
      "\u001b[0;36m  Cell \u001b[0;32mIn[60], line 2\u001b[0;36m\u001b[0m\n\u001b[0;31m    CREATE EXTERNAL TABLE cleaned_products{\u001b[0m\n\u001b[0m           ^\u001b[0m\n\u001b[0;31mSyntaxError\u001b[0m\u001b[0;31m:\u001b[0m invalid syntax\n"
     ]
    }
   ],
   "source": [
    "#create External Table \n",
    "CREATE EXTERNAL TABLE cleaned_products{\n",
    "    product_id string ,\n",
    "  product_category_name string ,\n",
    "  product_name_lenght integer ,\n",
    "  product_description_lenght integer, \n",
    "  product_photos_qty integer ,\n",
    "  product_weight_g integer ,\n",
    "  product_length_cm integer,\n",
    "  product_height_cm integer,\n",
    "  product_width_cm integer ,\n",
    "  product_size string \n",
    "}\n",
    "STORED AS PARQUET\n",
    "LOCATION '/tmp/Brazilian/olist_proc/products_df_cleaned.parquet'\n"
   ]
  },
  {
   "cell_type": "code",
   "execution_count": 61,
   "id": "53a97dd5-c8fe-4429-84ce-5c80739cd4cc",
   "metadata": {
    "tags": []
   },
   "outputs": [
    {
     "name": "stderr",
     "output_type": "stream",
     "text": [
      "ivysettings.xml file not found in HIVE_HOME or HIVE_CONF_DIR,/etc/hive/conf.dist/ivysettings.xml will be used\n"
     ]
    },
    {
     "name": "stdout",
     "output_type": "stream",
     "text": [
      "+---------+----------------+-----------+\n",
      "|namespace|       tableName|isTemporary|\n",
      "+---------+----------------+-----------+\n",
      "|  default|cleaned_products|      false|\n",
      "|  default|  customers_1100|      false|\n",
      "|  default|external_table_2|      false|\n",
      "+---------+----------------+-----------+\n",
      "\n"
     ]
    }
   ],
   "source": [
    "spark.sql('show tables').show()"
   ]
  },
  {
   "cell_type": "code",
   "execution_count": 63,
   "id": "ae5073d4-e8d3-4bd9-843f-c2d0d77eb3a7",
   "metadata": {
    "tags": []
   },
   "outputs": [
    {
     "name": "stdout",
     "output_type": "stream",
     "text": [
      "+--------------------+---------------------+-------------------+--------------------------+------------------+----------------+-----------------+-----------------+----------------+------------+\n",
      "|          product_id|product_category_name|product_name_length|product_description_length|product_photos_qty|product_weight_g|product_length_cm|product_height_cm|product_width_cm|product_size|\n",
      "+--------------------+---------------------+-------------------+--------------------------+------------------+----------------+-----------------+-----------------+----------------+------------+\n",
      "|1e9e8ef04dbcff454...|           perfumaria|               NULL|                      NULL|                 1|             225|               16|               10|              14|       Small|\n",
      "|3aa071139cb16b67c...|                artes|               NULL|                      NULL|                 1|            1000|               30|               18|              20|      Medium|\n",
      "|96bd76ec8810374ed...|        esporte_lazer|               NULL|                      NULL|                 1|             154|               18|                9|              15|       Small|\n",
      "|cef67bcfe19066a93...|                bebes|               NULL|                      NULL|                 1|             371|               26|                4|              26|       Small|\n",
      "|9dc1a7de274444849...| utilidades_domest...|               NULL|                      NULL|                 4|             625|               20|               17|              13|      Medium|\n",
      "+--------------------+---------------------+-------------------+--------------------------+------------------+----------------+-----------------+-----------------+----------------+------------+\n",
      "only showing top 5 rows\n",
      "\n"
     ]
    }
   ],
   "source": [
    "spark.sql('select * from cleaned_products').show(5)"
   ]
  },
  {
   "cell_type": "code",
   "execution_count": null,
   "id": "ead14bd8-d8f9-4c86-adf3-fa92c3d08e40",
   "metadata": {},
   "outputs": [],
   "source": []
  },
  {
   "cell_type": "code",
   "execution_count": null,
   "id": "0135401d-5cef-4c52-a1cb-2a3b09f55bd2",
   "metadata": {},
   "outputs": [],
   "source": []
  },
  {
   "cell_type": "code",
   "execution_count": null,
   "id": "b3c17dbe-102a-4249-9076-d4c9b2dcb5fc",
   "metadata": {},
   "outputs": [],
   "source": []
  },
  {
   "cell_type": "code",
   "execution_count": null,
   "id": "e49951b9-1cd0-4451-8ae0-0413e5d4930e",
   "metadata": {},
   "outputs": [],
   "source": []
  },
  {
   "cell_type": "code",
   "execution_count": null,
   "id": "88345bcf-3f50-4d89-b9c7-bc2bf6108e3f",
   "metadata": {},
   "outputs": [],
   "source": []
  },
  {
   "cell_type": "code",
   "execution_count": null,
   "id": "912818bc-d501-47bf-aaa4-76c80332ab51",
   "metadata": {},
   "outputs": [],
   "source": []
  },
  {
   "cell_type": "code",
   "execution_count": null,
   "id": "0bd72fe4-de5f-4561-a66f-2a025b9e7762",
   "metadata": {},
   "outputs": [],
   "source": []
  },
  {
   "cell_type": "code",
   "execution_count": null,
   "id": "40e30065-b7f1-49a3-8b84-cae183d35b34",
   "metadata": {},
   "outputs": [],
   "source": []
  },
  {
   "cell_type": "code",
   "execution_count": null,
   "id": "85318e91-83e5-40e0-b17f-35283010c607",
   "metadata": {
    "tags": []
   },
   "outputs": [],
   "source": [
    "spark.stop()"
   ]
  },
  {
   "cell_type": "code",
   "execution_count": null,
   "id": "20e162ea-db02-49eb-8123-16a195a4256c",
   "metadata": {},
   "outputs": [],
   "source": []
  },
  {
   "cell_type": "code",
   "execution_count": null,
   "id": "c0032e2f-a1ca-4294-bae3-c486349dddbb",
   "metadata": {},
   "outputs": [],
   "source": []
  },
  {
   "cell_type": "code",
   "execution_count": null,
   "id": "1201c59f-4236-48df-ad53-f042fb51ab0d",
   "metadata": {},
   "outputs": [],
   "source": []
  },
  {
   "cell_type": "code",
   "execution_count": null,
   "id": "5708be76-2fe9-497a-8bf1-bd2d9181f2c3",
   "metadata": {},
   "outputs": [],
   "source": []
  },
  {
   "cell_type": "code",
   "execution_count": null,
   "id": "e112ff7b-5cb6-4b95-9fee-7bae05ba19f0",
   "metadata": {},
   "outputs": [],
   "source": []
  }
 ],
 "metadata": {
  "kernelspec": {
   "display_name": "PySpark",
   "language": "python",
   "name": "pyspark"
  },
  "language_info": {
   "codemirror_mode": {
    "name": "ipython",
    "version": 3
   },
   "file_extension": ".py",
   "mimetype": "text/x-python",
   "name": "python",
   "nbconvert_exporter": "python",
   "pygments_lexer": "ipython3",
   "version": "3.11.8"
  }
 },
 "nbformat": 4,
 "nbformat_minor": 5
}