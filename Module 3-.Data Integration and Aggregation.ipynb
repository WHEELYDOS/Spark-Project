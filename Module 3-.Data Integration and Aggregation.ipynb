{
 "cells": [
  {
   "cell_type": "code",
   "execution_count": 1,
   "id": "2771501e-07fd-45dd-9299-38e61e7d3add",
   "metadata": {
    "tags": []
   },
   "outputs": [],
   "source": [
    "from pyspark.sql import SparkSession\n",
    "from pyspark.sql.functions import *\n",
    "from pyspark.ml.feature import Imputer\n",
    "from pyspark.sql.window import *"
   ]
  },
  {
   "cell_type": "code",
   "execution_count": 2,
   "id": "5154b34c-9810-49cd-859a-0455e2be00a9",
   "metadata": {
    "tags": []
   },
   "outputs": [
    {
     "name": "stderr",
     "output_type": "stream",
     "text": [
      "25/08/27 20:23:41 WARN SparkSession: Using an existing Spark session; only runtime SQL configurations will take effect.\n",
      "25/08/27 20:23:41 WARN SparkSession: Using an existing Spark session; only runtime SQL configurations will take effect.\n"
     ]
    }
   ],
   "source": [
    "spark = SparkSession.builder\\\n",
    ".appName(\"Module 2- Data_cleanin_and_Transformation\")\\\n",
    ".enableHiveSupport()\\\n",
    ".master('yarn')\\\n",
    ".getOrCreate()\n",
    "spark = SparkSession.builder \\\n",
    "    .appName('Module 3- Data_cleanin_and_Transformation') \\\n",
    "    .config('spark.executor.memory', '6g') \\\n",
    "    .config('spark.executor.cores', '4') \\\n",
    "    .config('spark.executor.instances', '2') \\\n",
    "    .config('spark.driver.memory', '4g') \\\n",
    "    .config('spark.driver.maxResultSize', '2g') \\\n",
    "    .config('spark.sql.shuffle.partitions', '64') \\\n",
    "    .config('spark.default.parallelism', '64') \\\n",
    "    .config('spark.sql.adaptive.enabled', 'true') \\\n",
    "    .config('spark.sql.adaptive.coalescePartitions.enabled', 'true') \\\n",
    "    .config('spark.sql.autoBroadcastJoinThreshold', 50*1024*1024) \\\n",
    "    .config('spark.sql.files.maxPartitionBytes', '64MB') \\\n",
    "    .config('spark.sql.files.openCostInBytes', '2MB') \\\n",
    "    .config('spark.memory.fraction', 0.8) \\\n",
    "    .config('spark.memory.storageFraction', 0.2) \\\n",
    "    .getOrCreate()"
   ]
  },
  {
   "cell_type": "code",
   "execution_count": 3,
   "id": "cd892209-d21a-479d-b07a-eb85a1e213ad",
   "metadata": {
    "tags": []
   },
   "outputs": [],
   "source": [
    "hdfs_path= '/tmp/Brazilian'"
   ]
  },
  {
   "cell_type": "code",
   "execution_count": 4,
   "id": "6fe06c17-4afc-41ff-a1b9-437410092bc2",
   "metadata": {
    "tags": []
   },
   "outputs": [
    {
     "name": "stderr",
     "output_type": "stream",
     "text": [
      "                                                                                \r"
     ]
    }
   ],
   "source": [
    "customers_df  = spark.read\\\n",
    ".format('csv')\\\n",
    ".option('header',True)\\\n",
    ".option('inferSchema',True)\\\n",
    ".load(hdfs_path+'/olist_customers_dataset.csv')\n",
    "\n",
    "geolocation_df  = spark.read\\\n",
    ".format('csv')\\\n",
    ".option('header',True)\\\n",
    ".option('inferSchema',True)\\\n",
    ".load(hdfs_path+'/olist_geolocation_dataset.csv')\n",
    "\n",
    "order_items_df  = spark.read\\\n",
    ".format('csv')\\\n",
    ".option('header',True)\\\n",
    ".option('inferSchema',True)\\\n",
    ".load(hdfs_path+'/olist_order_items_dataset.csv')\n",
    "\n",
    "order_payments_df  = spark.read\\\n",
    ".format('csv')\\\n",
    ".option('header',True)\\\n",
    ".option('inferSchema',True)\\\n",
    ".load(hdfs_path+'/olist_order_payments_dataset.csv')\n",
    "\n",
    "order_reviews_df  = spark.read\\\n",
    ".format('csv')\\\n",
    ".option('header',True)\\\n",
    ".option('inferSchema',True)\\\n",
    ".load(hdfs_path+'/olist_order_reviews_dataset.csv')\n",
    "\n",
    "orders_df  = spark.read\\\n",
    ".format('csv')\\\n",
    ".option('header',True)\\\n",
    ".option('inferSchema',True)\\\n",
    ".load(hdfs_path+'/olist_orders_dataset.csv')\n",
    "\n",
    "products_df  = spark.read\\\n",
    ".format('csv')\\\n",
    ".option('header',True)\\\n",
    ".option('inferSchema',True)\\\n",
    ".load(hdfs_path+'/olist_products_dataset.csv')\n",
    "\n",
    "sellers_df  = spark.read\\\n",
    ".format('csv')\\\n",
    ".option('header',True)\\\n",
    ".option('inferSchema',True)\\\n",
    ".load(hdfs_path+'/olist_sellers_dataset.csv')\n"
   ]
  },
  {
   "cell_type": "markdown",
   "id": "deeb7b7d-e427-4802-b071-8591591232a0",
   "metadata": {},
   "source": [
    "# cache frequently used data for better performance and faster operations "
   ]
  },
  {
   "cell_type": "code",
   "execution_count": 5,
   "id": "2bb3a8e8-ecec-4b7d-b1ef-e6741f716a12",
   "metadata": {
    "tags": []
   },
   "outputs": [
    {
     "data": {
      "text/plain": [
       "DataFrame[order_id: string, order_item_id: int, product_id: string, seller_id: string, shipping_limit_date: timestamp, price: double, freight_value: double]"
      ]
     },
     "execution_count": 5,
     "metadata": {},
     "output_type": "execute_result"
    }
   ],
   "source": [
    "##caching data \n",
    "customers_df.cache()\n",
    "orders_df.cache()\n",
    "order_items_df.cache()\n"
   ]
  },
  {
   "cell_type": "markdown",
   "id": "0cee1809-5cb4-4179-ac21-d617333f499a",
   "metadata": {},
   "source": [
    "![detailed diagrame of database](https://i.imgur.com/HRhd2Y0.png)"
   ]
  },
  {
   "cell_type": "code",
   "execution_count": 6,
   "id": "11732e5c-280d-4f2b-b310-2a20cbd1146f",
   "metadata": {
    "tags": []
   },
   "outputs": [],
   "source": [
    "order_items_joined_df = orders_df.join(order_items_df,'order_id','inner')"
   ]
  },
  {
   "cell_type": "code",
   "execution_count": 7,
   "id": "d141a4f4-d517-4f4e-aa50-1b07170c586f",
   "metadata": {
    "tags": []
   },
   "outputs": [],
   "source": [
    "order_items_product = order_items_joined_df.join(products_df,'product_id','inner')"
   ]
  },
  {
   "cell_type": "code",
   "execution_count": 8,
   "id": "e3459cad-bb97-4aae-81bd-96f423713966",
   "metadata": {
    "tags": []
   },
   "outputs": [],
   "source": [
    "order_items_product_sellers = order_items_product.join(sellers_df,'seller_id','inner')"
   ]
  },
  {
   "cell_type": "code",
   "execution_count": 9,
   "id": "d5c5a929-8ca6-47a9-9689-7fec25a1b789",
   "metadata": {
    "tags": []
   },
   "outputs": [],
   "source": [
    "full_orders_df =  order_items_product_sellers.join(customers_df,'customer_id','inner')"
   ]
  },
  {
   "cell_type": "code",
   "execution_count": 10,
   "id": "4d9ab26b-4074-43bb-bc3f-958bfcb6b62f",
   "metadata": {
    "tags": []
   },
   "outputs": [],
   "source": [
    "## joining geoloaction as left join as it will enrich our data but not provide some importance so we are doing a left join so that we dont loose on some imformation on this "
   ]
  },
  {
   "cell_type": "code",
   "execution_count": 11,
   "id": "e4ac60ef-b277-471a-8cd3-bae26e157ffb",
   "metadata": {
    "tags": []
   },
   "outputs": [],
   "source": [
    "full_orders_df =  full_orders_df.join(geolocation_df,full_orders_df.customer_zip_code_prefix==geolocation_df.geolocation_zip_code_prefix,'left')"
   ]
  },
  {
   "cell_type": "code",
   "execution_count": 12,
   "id": "a18133d8-6dcd-476b-9755-a2fb198b2817",
   "metadata": {
    "tags": []
   },
   "outputs": [],
   "source": [
    "full_orders_df =  full_orders_df.join(order_reviews_df,'order_id','left')"
   ]
  },
  {
   "cell_type": "code",
   "execution_count": 13,
   "id": "0ecb47a2-14e2-4cab-a375-7f500efb2c95",
   "metadata": {
    "tags": []
   },
   "outputs": [],
   "source": [
    "full_orders_df =  full_orders_df.join(order_payments_df,'order_id','left')"
   ]
  },
  {
   "cell_type": "code",
   "execution_count": 14,
   "id": "8255abc0-8061-4612-9db9-44aef8886b59",
   "metadata": {
    "tags": []
   },
   "outputs": [
    {
     "name": "stderr",
     "output_type": "stream",
     "text": [
      "25/08/27 20:23:57 WARN SparkStringUtils: Truncated the string representation of a plan since it was too large. This behavior can be adjusted by setting 'spark.sql.debug.maxToStringFields'.\n"
     ]
    },
    {
     "data": {
      "text/plain": [
       "DataFrame[order_id: string, customer_id: string, seller_id: string, product_id: string, order_status: string, order_purchase_timestamp: timestamp, order_approved_at: timestamp, order_delivered_carrier_date: timestamp, order_delivered_customer_date: timestamp, order_estimated_delivery_date: timestamp, order_item_id: int, shipping_limit_date: timestamp, price: double, freight_value: double, product_category_name: string, product_name_lenght: int, product_description_lenght: int, product_photos_qty: int, product_weight_g: int, product_length_cm: int, product_height_cm: int, product_width_cm: int, seller_zip_code_prefix: int, seller_city: string, seller_state: string, customer_unique_id: string, customer_zip_code_prefix: int, customer_city: string, customer_state: string, geolocation_zip_code_prefix: int, geolocation_lat: double, geolocation_lng: double, geolocation_city: string, geolocation_state: string, review_id: string, review_score: string, review_comment_title: string, review_comment_message: string, review_creation_date: string, review_answer_timestamp: string, payment_sequential: int, payment_type: string, payment_installments: int, payment_value: double]"
      ]
     },
     "execution_count": 14,
     "metadata": {},
     "output_type": "execute_result"
    }
   ],
   "source": [
    "full_orders_df.cache()"
   ]
  },
  {
   "cell_type": "code",
   "execution_count": 15,
   "id": "ad4ae80c-87ac-4bce-9899-0f8a8a2a3104",
   "metadata": {
    "tags": []
   },
   "outputs": [],
   "source": [
    "# total revenue per seller "
   ]
  },
  {
   "cell_type": "code",
   "execution_count": 16,
   "id": "6a24d29a-4443-4a34-b0b7-ea9ab3e210d9",
   "metadata": {
    "tags": []
   },
   "outputs": [
    {
     "name": "stdout",
     "output_type": "stream",
     "text": [
      "root\n",
      " |-- order_id: string (nullable = true)\n",
      " |-- customer_id: string (nullable = true)\n",
      " |-- seller_id: string (nullable = true)\n",
      " |-- product_id: string (nullable = true)\n",
      " |-- order_status: string (nullable = true)\n",
      " |-- order_purchase_timestamp: timestamp (nullable = true)\n",
      " |-- order_approved_at: timestamp (nullable = true)\n",
      " |-- order_delivered_carrier_date: timestamp (nullable = true)\n",
      " |-- order_delivered_customer_date: timestamp (nullable = true)\n",
      " |-- order_estimated_delivery_date: timestamp (nullable = true)\n",
      " |-- order_item_id: integer (nullable = true)\n",
      " |-- shipping_limit_date: timestamp (nullable = true)\n",
      " |-- price: double (nullable = true)\n",
      " |-- freight_value: double (nullable = true)\n",
      " |-- product_category_name: string (nullable = true)\n",
      " |-- product_name_lenght: integer (nullable = true)\n",
      " |-- product_description_lenght: integer (nullable = true)\n",
      " |-- product_photos_qty: integer (nullable = true)\n",
      " |-- product_weight_g: integer (nullable = true)\n",
      " |-- product_length_cm: integer (nullable = true)\n",
      " |-- product_height_cm: integer (nullable = true)\n",
      " |-- product_width_cm: integer (nullable = true)\n",
      " |-- seller_zip_code_prefix: integer (nullable = true)\n",
      " |-- seller_city: string (nullable = true)\n",
      " |-- seller_state: string (nullable = true)\n",
      " |-- customer_unique_id: string (nullable = true)\n",
      " |-- customer_zip_code_prefix: integer (nullable = true)\n",
      " |-- customer_city: string (nullable = true)\n",
      " |-- customer_state: string (nullable = true)\n",
      " |-- geolocation_zip_code_prefix: integer (nullable = true)\n",
      " |-- geolocation_lat: double (nullable = true)\n",
      " |-- geolocation_lng: double (nullable = true)\n",
      " |-- geolocation_city: string (nullable = true)\n",
      " |-- geolocation_state: string (nullable = true)\n",
      " |-- review_id: string (nullable = true)\n",
      " |-- review_score: string (nullable = true)\n",
      " |-- review_comment_title: string (nullable = true)\n",
      " |-- review_comment_message: string (nullable = true)\n",
      " |-- review_creation_date: string (nullable = true)\n",
      " |-- review_answer_timestamp: string (nullable = true)\n",
      " |-- payment_sequential: integer (nullable = true)\n",
      " |-- payment_type: string (nullable = true)\n",
      " |-- payment_installments: integer (nullable = true)\n",
      " |-- payment_value: double (nullable = true)\n",
      "\n"
     ]
    }
   ],
   "source": [
    "full_orders_df.printSchema()"
   ]
  },
  {
   "cell_type": "code",
   "execution_count": 17,
   "id": "ef5dd06f-0c3a-490f-b4ea-d8d5bca2dae1",
   "metadata": {
    "tags": []
   },
   "outputs": [
    {
     "name": "stderr",
     "output_type": "stream",
     "text": [
      "[Stage 32:=======================================================>(63 + 1) / 64]\r"
     ]
    },
    {
     "name": "stdout",
     "output_type": "stream",
     "text": [
      "+--------------------+--------------------+\n",
      "|           seller_id|       total_revenue|\n",
      "+--------------------+--------------------+\n",
      "|4869f7a5dfa277a7d...| 3.613871732000037E7|\n",
      "|53243585a1d6dc264...|3.4291592950000025E7|\n",
      "|4a3ca9315b744ce9f...|3.3759570840001926E7|\n",
      "|7c67e1448b00f6e96...| 3.228232178999848E7|\n",
      "|fa1c13f2614d7b5c4...|3.0139386310000394E7|\n",
      "+--------------------+--------------------+\n",
      "only showing top 5 rows\n",
      "\n"
     ]
    },
    {
     "name": "stderr",
     "output_type": "stream",
     "text": [
      "                                                                                \r"
     ]
    }
   ],
   "source": [
    "seller_revenue_df = full_orders_df.select('seller_id','price').groupBy('seller_id').agg(sum('price').alias('total_revenue')).orderBy(col('total_revenue').desc())\n",
    "seller_revenue_df.show(5)"
   ]
  },
  {
   "cell_type": "code",
   "execution_count": 18,
   "id": "ab5487e9-0825-49c7-ab58-cf402d5d7d1e",
   "metadata": {
    "tags": []
   },
   "outputs": [
    {
     "name": "stderr",
     "output_type": "stream",
     "text": [
      "[Stage 39:=====================================================>  (61 + 2) / 64]\r"
     ]
    },
    {
     "name": "stdout",
     "output_type": "stream",
     "text": [
      "+--------------------+-----+\n",
      "|         customer_id|count|\n",
      "+--------------------+-----+\n",
      "|54c4a093ba4ad0808...|   79|\n",
      "|383b7ca1ab9eae02f...|   44|\n",
      "|a6d2e55e57d8cc9ce...|   39|\n",
      "|dc69189910231e3ab...|   67|\n",
      "|ba0a799b8a7b0b1a1...|  134|\n",
      "+--------------------+-----+\n",
      "only showing top 5 rows\n",
      "\n"
     ]
    },
    {
     "name": "stderr",
     "output_type": "stream",
     "text": [
      "                                                                                \r"
     ]
    }
   ],
   "source": [
    "#Total orders per customers \n",
    "total_orders_per_customers=full_orders_df.select('customer_id').groupBy('customer_id').count()\n",
    "total_orders_per_customers.show(5)"
   ]
  },
  {
   "cell_type": "code",
   "execution_count": 19,
   "id": "f48fa0e5-360a-4dda-990b-cb7861e81aa4",
   "metadata": {
    "tags": []
   },
   "outputs": [],
   "source": [
    "#average review score per seller"
   ]
  },
  {
   "cell_type": "code",
   "execution_count": 20,
   "id": "fdcec29a-f557-406e-99b3-c5e1c9bbaade",
   "metadata": {
    "tags": []
   },
   "outputs": [
    {
     "name": "stderr",
     "output_type": "stream",
     "text": [
      "[Stage 46:=====================================================>  (61 + 1) / 64]\r"
     ]
    },
    {
     "name": "stdout",
     "output_type": "stream",
     "text": [
      "+--------------------+------------------+\n",
      "|           seller_id|    average rating|\n",
      "+--------------------+------------------+\n",
      "|da8622b14eb17ae28...|3.9793441825464995|\n",
      "|d94a40fd42351c259...| 4.104613192424153|\n",
      "|e70053bf73d1b5863...| 4.071315372424722|\n",
      "|0ea22c1cfbdc755f8...| 4.231254932912392|\n",
      "|1fbe10c70e30765ed...|1.2540045766590389|\n",
      "+--------------------+------------------+\n",
      "only showing top 5 rows\n",
      "\n"
     ]
    },
    {
     "name": "stderr",
     "output_type": "stream",
     "text": [
      "                                                                                \r"
     ]
    }
   ],
   "source": [
    "average_seller_score=full_orders_df.select('seller_id','review_score').groupBy('seller_id').agg(avg('review_score').alias('average rating'))\n",
    "average_seller_score.show(5)"
   ]
  },
  {
   "cell_type": "code",
   "execution_count": 21,
   "id": "1a19ed63-e8ac-41bc-b3f3-54f95dd6f21b",
   "metadata": {
    "tags": []
   },
   "outputs": [
    {
     "name": "stderr",
     "output_type": "stream",
     "text": [
      "[Stage 53:=====================================================>  (61 + 2) / 64]\r"
     ]
    },
    {
     "name": "stdout",
     "output_type": "stream",
     "text": [
      "+--------------------+-----+\n",
      "|          product_id|count|\n",
      "+--------------------+-----+\n",
      "|aca2eb7d00ea1a7b8...|86740|\n",
      "|422879e10f4668299...|81110|\n",
      "|99a4788cb24856965...|78775|\n",
      "|389d119b48cf3043d...|60248|\n",
      "|d1c427060a0f73f6b...|59274|\n",
      "+--------------------+-----+\n",
      "only showing top 5 rows\n",
      "\n"
     ]
    },
    {
     "name": "stderr",
     "output_type": "stream",
     "text": [
      "                                                                                \r"
     ]
    }
   ],
   "source": [
    "# top sold products\n",
    "top_sold_products=full_orders_df.select('product_id').groupBy('product_id').count().orderBy(col('count').desc())\n",
    "top_sold_products.show(5)"
   ]
  },
  {
   "cell_type": "markdown",
   "id": "aecef94b-8065-4ef2-807a-17f662fca1b3",
   "metadata": {},
   "source": [
    "# Optimized join for Data Integration"
   ]
  },
  {
   "cell_type": "markdown",
   "id": "e6ff19e7-df1e-495c-ad99-7dac7256d131",
   "metadata": {},
   "source": [
    "# import make sure to restart ur kernal as we have done joining above too "
   ]
  },
  {
   "cell_type": "code",
   "execution_count": 22,
   "id": "dcdac117-6fb5-48e5-996b-39adff76e777",
   "metadata": {
    "tags": []
   },
   "outputs": [],
   "source": [
    "order_items_joined_df = orders_df.join(order_items_df,'order_id','inner')"
   ]
  },
  {
   "cell_type": "code",
   "execution_count": 23,
   "id": "25d2e478-76e2-43e5-9780-86c8f2fbd7c4",
   "metadata": {
    "tags": []
   },
   "outputs": [],
   "source": [
    "order_items_product = order_items_joined_df.join(products_df,'product_id','inner')"
   ]
  },
  {
   "cell_type": "code",
   "execution_count": 24,
   "id": "a3b7f18e-525e-4d73-bd01-fc8114ca507d",
   "metadata": {
    "tags": []
   },
   "outputs": [],
   "source": [
    "order_items_product_sellers = order_items_product.join(broadcast(sellers_df),'seller_id','inner')"
   ]
  },
  {
   "cell_type": "code",
   "execution_count": 25,
   "id": "ae314216-93e6-4848-b2a4-fffad041b188",
   "metadata": {
    "tags": []
   },
   "outputs": [],
   "source": [
    "full_orders_df =  order_items_product_sellers.join(customers_df,'customer_id','inner')"
   ]
  },
  {
   "cell_type": "code",
   "execution_count": 26,
   "id": "ae14eeb1-20a0-4ad7-9288-fbd0fdad9eb6",
   "metadata": {
    "tags": []
   },
   "outputs": [],
   "source": [
    "full_orders_df =  full_orders_df.join(broadcast(geolocation_df),full_orders_df.customer_zip_code_prefix==geolocation_df.geolocation_zip_code_prefix,'left')"
   ]
  },
  {
   "cell_type": "code",
   "execution_count": 27,
   "id": "f6873926-4484-4c92-8cb8-a3ee6536c12c",
   "metadata": {
    "tags": []
   },
   "outputs": [],
   "source": [
    "full_orders_df =  full_orders_df.join(broadcast(order_reviews_df),'order_id','left')"
   ]
  },
  {
   "cell_type": "code",
   "execution_count": 28,
   "id": "890041e6-3a05-4931-8164-25c7299b6250",
   "metadata": {
    "tags": []
   },
   "outputs": [],
   "source": [
    "full_orders_df =  full_orders_df.join(order_payments_df,'order_id','left')"
   ]
  },
  {
   "cell_type": "code",
   "execution_count": 29,
   "id": "eb4c5333-b9d9-49d4-87be-4c24207b6f66",
   "metadata": {
    "tags": []
   },
   "outputs": [
    {
     "name": "stderr",
     "output_type": "stream",
     "text": [
      "25/08/27 20:25:48 WARN CacheManager: Asked to cache already cached data.\n"
     ]
    },
    {
     "data": {
      "text/plain": [
       "DataFrame[order_id: string, customer_id: string, seller_id: string, product_id: string, order_status: string, order_purchase_timestamp: timestamp, order_approved_at: timestamp, order_delivered_carrier_date: timestamp, order_delivered_customer_date: timestamp, order_estimated_delivery_date: timestamp, order_item_id: int, shipping_limit_date: timestamp, price: double, freight_value: double, product_category_name: string, product_name_lenght: int, product_description_lenght: int, product_photos_qty: int, product_weight_g: int, product_length_cm: int, product_height_cm: int, product_width_cm: int, seller_zip_code_prefix: int, seller_city: string, seller_state: string, customer_unique_id: string, customer_zip_code_prefix: int, customer_city: string, customer_state: string, geolocation_zip_code_prefix: int, geolocation_lat: double, geolocation_lng: double, geolocation_city: string, geolocation_state: string, review_id: string, review_score: string, review_comment_title: string, review_comment_message: string, review_creation_date: string, review_answer_timestamp: string, payment_sequential: int, payment_type: string, payment_installments: int, payment_value: double]"
      ]
     },
     "execution_count": 29,
     "metadata": {},
     "output_type": "execute_result"
    }
   ],
   "source": [
    "full_orders_df.cache()"
   ]
  },
  {
   "cell_type": "code",
   "execution_count": 30,
   "id": "996739d4-f8c1-4840-87a8-306490e1f52e",
   "metadata": {
    "tags": []
   },
   "outputs": [
    {
     "name": "stderr",
     "output_type": "stream",
     "text": [
      "[Stage 60:====================================================>   (60 + 2) / 64]\r"
     ]
    },
    {
     "name": "stdout",
     "output_type": "stream",
     "text": [
      "+--------------------+------------------+\n",
      "|         customer_id|    total_spending|\n",
      "+--------------------+------------------+\n",
      "|d3e82ccec3cb5f956...|         6662844.0|\n",
      "|df55c14d1476a9a34...|         3565657.0|\n",
      "|fe5113a38e3575c04...|         3293604.0|\n",
      "|ec5b2ba62e5743423...|         2556120.0|\n",
      "|63b964e79dee32a35...|         2501664.0|\n",
      "|46bb3c0b1a65c8399...|         2336752.0|\n",
      "|05455dfa7cd02f13d...| 2160194.400000087|\n",
      "|3690e975641f01bd0...|         2124498.0|\n",
      "|349509b216bd5ec11...|         1923627.0|\n",
      "|695476b5848d64ba0...|1820543.1299999943|\n",
      "+--------------------+------------------+\n",
      "only showing top 10 rows\n",
      "\n"
     ]
    },
    {
     "name": "stderr",
     "output_type": "stream",
     "text": [
      "                                                                                \r"
     ]
    }
   ],
   "source": [
    "# top 10 customers by spending \n",
    "full_orders_df.select('customer_id','price').groupBy('customer_id').agg(sum('price').alias('total_spending')).orderBy(col('total_spending').desc()).show(10)"
   ]
  },
  {
   "cell_type": "markdown",
   "id": "836df317-660f-4bfa-b860-f995831ca571",
   "metadata": {},
   "source": [
    "# Window Function And Ranking "
   ]
  },
  {
   "cell_type": "code",
   "execution_count": 31,
   "id": "16c7502f-9700-4589-9c1b-b7e79bb87b34",
   "metadata": {
    "tags": []
   },
   "outputs": [],
   "source": [
    "#rank top selling product per seller "
   ]
  },
  {
   "cell_type": "code",
   "execution_count": 32,
   "id": "de9864f8-69d2-4d33-a8cc-5b9e8d19d7cb",
   "metadata": {
    "tags": []
   },
   "outputs": [],
   "source": [
    "window_spec = Window.partitionBy('seller_id').orderBy(desc('price'))\n"
   ]
  },
  {
   "cell_type": "code",
   "execution_count": 33,
   "id": "822a017f-a907-42ab-bba5-fdd0831a6440",
   "metadata": {
    "tags": []
   },
   "outputs": [
    {
     "name": "stderr",
     "output_type": "stream",
     "text": [
      "[Stage 71:>                                                         (0 + 1) / 1]\r"
     ]
    },
    {
     "name": "stdout",
     "output_type": "stream",
     "text": [
      "+--------------------+--------------------+-----+----+\n",
      "|           seller_id|          product_id|price|rank|\n",
      "+--------------------+--------------------+-----+----+\n",
      "|001cca7ae9ae17fb1...|e251ebd2858be1aa7...|199.0|   1|\n",
      "|001cca7ae9ae17fb1...|98a8c2fa16d7239c6...|169.0| 325|\n",
      "|001cca7ae9ae17fb1...|e251ebd2858be1aa7...|139.9| 420|\n",
      "|001cca7ae9ae17fb1...|6d15a14a5c04e3ef3...|139.9| 420|\n",
      "|001cca7ae9ae17fb1...|e251ebd2858be1aa7...|139.0|1007|\n",
      "+--------------------+--------------------+-----+----+\n",
      "only showing top 5 rows\n",
      "\n"
     ]
    },
    {
     "name": "stderr",
     "output_type": "stream",
     "text": [
      "                                                                                \r"
     ]
    }
   ],
   "source": [
    "top_seller_products_df =  full_orders_df.select('seller_id','product_id','price').withColumn('rank',rank().over(window_spec)).distinct().show(5)"
   ]
  },
  {
   "cell_type": "code",
   "execution_count": 34,
   "id": "313ba16e-f634-4743-9648-6da3cdbd63d0",
   "metadata": {
    "tags": []
   },
   "outputs": [
    {
     "name": "stderr",
     "output_type": "stream",
     "text": [
      "[Stage 78:>                                                         (0 + 1) / 1]\r"
     ]
    },
    {
     "name": "stdout",
     "output_type": "stream",
     "text": [
      "+--------------------+-----+----------+\n",
      "|           seller_id|price|dense_rank|\n",
      "+--------------------+-----+----------+\n",
      "|001cca7ae9ae17fb1...|199.0|         1|\n",
      "|001cca7ae9ae17fb1...|199.0|         1|\n",
      "|001cca7ae9ae17fb1...|199.0|         1|\n",
      "|001cca7ae9ae17fb1...|199.0|         1|\n",
      "|001cca7ae9ae17fb1...|199.0|         1|\n",
      "+--------------------+-----+----------+\n",
      "only showing top 5 rows\n",
      "\n"
     ]
    },
    {
     "name": "stderr",
     "output_type": "stream",
     "text": [
      "                                                                                \r"
     ]
    }
   ],
   "source": [
    "# dense rank on seller based on revenue\n",
    "seller_dense_rank= full_orders_df.select('seller_id','price').withColumn('dense_rank',dense_rank().over(window_spec)).show(5)"
   ]
  },
  {
   "cell_type": "markdown",
   "id": "9f674c80-dc0a-48f1-9055-a6f138fb84a7",
   "metadata": {},
   "source": [
    "# Advance Aggregation and Enrichment "
   ]
  },
  {
   "cell_type": "code",
   "execution_count": 35,
   "id": "469f6757-4da5-40f9-847b-5d75bf83a4b1",
   "metadata": {
    "tags": []
   },
   "outputs": [],
   "source": [
    "# total revenue & Average order value (ADV) per Customer"
   ]
  },
  {
   "cell_type": "code",
   "execution_count": 36,
   "id": "541e6913-c2c3-4b58-bafa-f8473cdd0fc4",
   "metadata": {
    "tags": []
   },
   "outputs": [
    {
     "name": "stderr",
     "output_type": "stream",
     "text": [
      "[Stage 81:====================================================>   (60 + 2) / 64]\r"
     ]
    },
    {
     "name": "stdout",
     "output_type": "stream",
     "text": [
      "+--------------------+-----------+----------+------+\n",
      "|         customer_id|total_order|total_sale|   AOV|\n",
      "+--------------------+-----------+----------+------+\n",
      "|d3e82ccec3cb5f956...|       6876| 6662844.0| 969.0|\n",
      "|df55c14d1476a9a34...|        743| 3565657.0|4799.0|\n",
      "|fe5113a38e3575c04...|       2292| 3293604.0|1437.0|\n",
      "|ec5b2ba62e5743423...|       1428| 2556120.0|1790.0|\n",
      "|63b964e79dee32a35...|       6072| 2501664.0| 412.0|\n",
      "+--------------------+-----------+----------+------+\n",
      "only showing top 5 rows\n",
      "\n"
     ]
    },
    {
     "name": "stderr",
     "output_type": "stream",
     "text": [
      "                                                                                \r"
     ]
    }
   ],
   "source": [
    "customer_spending_df  = full_orders_df.groupBy('customer_id')\\\n",
    ".agg(\n",
    "    count('order_id').alias('total_order'),\n",
    "    sum('price').alias('total_sale'),\n",
    "    round(avg('price'),2).alias('AOV')\n",
    "\n",
    ").orderBy(desc('total_sale'))\n",
    "customer_spending_df.show(5)"
   ]
  },
  {
   "cell_type": "code",
   "execution_count": 37,
   "id": "b1df443f-e19e-48cf-acd6-dbc75b3adea2",
   "metadata": {
    "tags": []
   },
   "outputs": [],
   "source": [
    "# seller performance matrix (revenue , average review , order Count,standard daviation/price_variabiliy)"
   ]
  },
  {
   "cell_type": "code",
   "execution_count": 38,
   "id": "5ac10dee-1e83-4701-b589-126dc6b4efd9",
   "metadata": {
    "tags": []
   },
   "outputs": [
    {
     "name": "stderr",
     "output_type": "stream",
     "text": [
      "[Stage 88:=====================================================>  (61 + 1) / 64]\r"
     ]
    },
    {
     "name": "stdout",
     "output_type": "stream",
     "text": [
      "+--------------------+--------------------+--------------+-----------+-----------------+\n",
      "|           seller_id|       total_revenue|average_review|order_count|price_variability|\n",
      "+--------------------+--------------------+--------------+-----------+-----------------+\n",
      "|4869f7a5dfa277a7d...|3.6138717320000365E7|          4.09|     184587|           111.65|\n",
      "|53243585a1d6dc264...|3.4291592950000025E7|          4.12|      54514|           499.65|\n",
      "|4a3ca9315b744ce9f...| 3.375957084000193E7|          3.77|     330661|            59.37|\n",
      "|7c67e1448b00f6e96...|3.2282321789998483E7|          3.42|     233306|            50.39|\n",
      "|fa1c13f2614d7b5c4...| 3.013938631000039E7|          4.38|      87686|            307.7|\n",
      "|da8622b14eb17ae28...|2.9857669730001643E7|          3.98|     264433|            72.92|\n",
      "|7e93a43ef30c4f03f...|2.6315706299999908E7|          4.15|      50226|           377.24|\n",
      "|1025f0e2d44d7041d...|2.2937518519999977E7|          3.89|     229587|             84.3|\n",
      "|46dc3b2cc0980fb8e...| 2.179177328999959E7|          4.18|      90426|           187.49|\n",
      "|955fee9216a65b617...|2.0964410670000166E7|          4.04|     232364|            84.94|\n",
      "|7a67c85e85bb2ce85...| 2.031279488999924E7|          4.26|     167231|            56.23|\n",
      "|620c87c171fb2a6dd...| 2.011983960000067E7|          4.36|     142232|           100.45|\n",
      "|7d13fca1522535862...|1.8156881909999985E7|          4.07|      88807|           151.18|\n",
      "|a1043bafd471dff53...| 1.766267597999974E7|          4.25|     132672|            37.19|\n",
      "|6560211a19b47992c...| 1.731593289999999E7|          3.86|     286539|            35.04|\n",
      "|edb1ef5e36e0c8cd8...| 1.662483515000002E7|          4.43|      38945|           460.85|\n",
      "|1f50f920176fa81da...|1.6497454439999979E7|          4.04|     297292|             7.39|\n",
      "|5dceca129747e92ff...|1.4910548339999985E7|          4.17|      50420|           299.84|\n",
      "|cc419e0650a3c5ba7...|1.4751464499999313E7|          4.07|     256032|            22.67|\n",
      "|3d871de0142ce09b7...|1.4184525299999973E7|          4.15|     175876|            38.14|\n",
      "+--------------------+--------------------+--------------+-----------+-----------------+\n",
      "only showing top 20 rows\n",
      "\n"
     ]
    },
    {
     "name": "stderr",
     "output_type": "stream",
     "text": [
      "                                                                                \r"
     ]
    }
   ],
   "source": [
    "seller_performance_matrix = full_orders_df.groupBy('seller_id')\\\n",
    ".agg(\n",
    "    sum('price').alias('total_revenue'),\n",
    "    round(avg('review_score'),2).alias('average_review'),\n",
    "    count('seller_id').alias('order_count'),\n",
    "    round(stddev('price'),2).alias('price_variability')\n",
    ").orderBy(desc('total_revenue')).show()"
   ]
  },
  {
   "cell_type": "code",
   "execution_count": 39,
   "id": "bc49a4dd-6540-4d88-8438-c30c7dbcd564",
   "metadata": {
    "tags": []
   },
   "outputs": [],
   "source": [
    "# product popularity matrics"
   ]
  },
  {
   "cell_type": "code",
   "execution_count": 40,
   "id": "e7d9b9b7-38fe-4b12-bd87-51805769c6a2",
   "metadata": {
    "tags": []
   },
   "outputs": [
    {
     "name": "stderr",
     "output_type": "stream",
     "text": [
      "[Stage 95:======================================================> (62 + 1) / 64]\r"
     ]
    },
    {
     "name": "stdout",
     "output_type": "stream",
     "text": [
      "+--------------------+-----------+------------------+------------------+-----------------+--------------------+\n",
      "|          product_id|total_sales|     total_revenue|         avg_price|price_variability|      unique_product|\n",
      "+--------------------+-----------+------------------+------------------+-----------------+--------------------+\n",
      "|aca2eb7d00ea1a7b8...|      86740| 6164630.299999948| 71.07021328106926|             3.17|[955fee9216a65b61...|\n",
      "|422879e10f4668299...|      81110| 4442791.509999978| 54.77489224509898|             4.46|[1f50f920176fa81d...|\n",
      "|99a4788cb24856965...|      78775| 6921762.709999913| 87.86750504601603|             4.08|[4a3ca9315b744ce9...|\n",
      "|389d119b48cf3043d...|      60248|3280533.1299999706| 54.45049014075107|             4.37|[1f50f920176fa81d...|\n",
      "|d1c427060a0f73f6b...|      59274| 8220103.329999974|138.67974710665678|            16.58|[a1043bafd471dff5...|\n",
      "|368c6c730842d7801...|      58358| 3181698.899999965|54.520355392576256|             4.59|[1f50f920176fa81d...|\n",
      "|53759a2ecddad2bb8...|      52654| 2893017.499999985|  54.9439263873587|             4.52|[1f50f920176fa81d...|\n",
      "|53b36df67ebb7c415...|      52105| 6159887.410000009| 118.2206584780733|            20.13|[7d13fca152253586...|\n",
      "|154e7e31ebfa09220...|      42700| 962161.0000000072| 22.53304449648729|             1.92|[cc419e0650a3c5ba...|\n",
      "|3dd2a17168ec895c7...|      40787| 6116941.300000014|149.97281731924423|             0.85|[de722cd6dad950a9...|\n",
      "|e53e557d5a159f5aa...|      39516|3329353.9499999643| 84.25331384755452|            11.32|[6973a06f484aacf4...|\n",
      "|2b4609f8948be1887...|      36179| 3171618.770000016| 87.66463335083932|             4.22|[cc419e0650a3c5ba...|\n",
      "|35afc973633aaeb6b...|      31206|2735669.0000000577|  87.6648400948554|             3.32|[d20b021d3efdf267...|\n",
      "|e0d64dcfaa3b6db5c...|      31153|5226407.6299999785| 167.7657891695817|             30.9|[7d13fca152253586...|\n",
      "|42a2c92a0979a949c...|      30486|1810926.0000000075|59.401889391852244|             0.64|[813348c996469b40...|\n",
      "|7c1bd920dbdf22470...|      29018|1739338.8200000068| 59.93999655386335|             2.77|[cc419e0650a3c5ba...|\n",
      "|a62e25e09e05e6faf...|      28898|         3079869.0|106.57723717904354|              1.5|[634964b17796e643...|\n",
      "|5a848e4ab52fd5445...|      28737|3534363.6300000176| 122.9900000000006|              0.0|[c826c40d7b19f62a...|\n",
      "|c4baedd846ed09b85...|      28166|2802044.6500000074| 99.48322978058678|             11.9|[a1043bafd471dff5...|\n",
      "|b532349fe46b38fbc...|      27176| 993089.5699999975| 36.54288968207233|             1.92|[1025f0e2d44d7041...|\n",
      "+--------------------+-----------+------------------+------------------+-----------------+--------------------+\n",
      "only showing top 20 rows\n",
      "\n"
     ]
    },
    {
     "name": "stderr",
     "output_type": "stream",
     "text": [
      "                                                                                \r"
     ]
    }
   ],
   "source": [
    "product_popularity = full_orders_df.groupBy('product_id')\\\n",
    ".agg(\n",
    "    count('order_id').alias('total_sales'),\n",
    "    sum('price').alias('total_revenue'),\n",
    "    round(avg('price'),22).alias('avg_price'),\n",
    "        round(stddev('price'),2).alias('price_variability'),\n",
    "    collect_set('seller_id').alias('unique_product')\n",
    "\n",
    ").orderBy(desc('total_sales')).show()"
   ]
  },
  {
   "cell_type": "code",
   "execution_count": 41,
   "id": "a4fce397-5995-49d1-a4c4-a44ae6ebe5fc",
   "metadata": {
    "tags": []
   },
   "outputs": [],
   "source": [
    "# monthly revenue and total order count trend ----->\n",
    "# order purchase timestamp \n",
    "\n",
    "# total_orders \n",
    "# total_revenue\n",
    "# avg_order_value \n",
    "# min_order_value\n",
    "# max_order_value "
   ]
  },
  {
   "cell_type": "code",
   "execution_count": 42,
   "id": "8996b203-df99-4835-9dae-4efedf913b8f",
   "metadata": {
    "tags": []
   },
   "outputs": [
    {
     "name": "stderr",
     "output_type": "stream",
     "text": [
      "[Stage 102:====================================================>  (61 + 1) / 64]\r"
     ]
    },
    {
     "name": "stdout",
     "output_type": "stream",
     "text": [
      "+-------------------------------+-----------+--------------+---------------+---------------+---------------+\n",
      "|month(order_purchase_timestamp)|total_order| total_revenue|avg_order_value|min_order_value|max_order_value|\n",
      "+-------------------------------+-----------+--------------+---------------+---------------+---------------+\n",
      "|                              1|    1495580| 1.715329015E8|         114.69|            2.9|         3690.0|\n",
      "|                              2|    1551163|1.7878178407E8|         115.26|           2.99|         6735.0|\n",
      "|                              3|    1809467|2.1868116843E8|         120.85|            4.9|        4099.99|\n",
      "|                              4|    1693860|2.1715696913E8|          128.2|           0.85|         4799.0|\n",
      "|                              5|    1918571|2.4006115197E8|         125.12|            3.5|         6499.0|\n",
      "|                              6|    1701909|2.1024332349E8|         123.53|           3.49|         4590.0|\n",
      "|                              7|    1847639| 2.229088571E8|         120.65|            1.2|         6729.0|\n",
      "|                              8|    1914313|2.3195870785E8|         121.17|            2.2|        4399.87|\n",
      "|                              9|     763178| 9.591298886E7|         125.68|           2.29|         1890.0|\n",
      "|                             10|     922968|1.1352613294E8|          123.0|           3.85|        2999.99|\n",
      "|                             11|    1422336|1.6603721754E8|         116.74|            3.9|         2990.0|\n",
      "|                             12|    1023277| 1.260229757E8|         123.16|            4.4|         3124.0|\n",
      "+-------------------------------+-----------+--------------+---------------+---------------+---------------+\n",
      "\n"
     ]
    },
    {
     "name": "stderr",
     "output_type": "stream",
     "text": [
      "                                                                                \r"
     ]
    }
   ],
   "source": [
    "full_orders_df.groupBy(month('order_purchase_timestamp'))\\\n",
    ".agg(\n",
    "count('order_id').alias('total_order'),\n",
    "    round(sum('price'),2).alias('total_revenue'),\n",
    "    round(avg('price'),2).alias('avg_order_value'),\n",
    "    min('price').alias('min_order_value'),\n",
    "    max('price').alias('max_order_value')\n",
    "    \n",
    ").orderBy(month('order_purchase_timestamp')).show()"
   ]
  },
  {
   "cell_type": "code",
   "execution_count": 43,
   "id": "c7e3282d-a173-47ab-b5a2-8495d6457864",
   "metadata": {
    "tags": []
   },
   "outputs": [
    {
     "name": "stderr",
     "output_type": "stream",
     "text": [
      "[Stage 109:====================================================>  (61 + 2) / 64]\r"
     ]
    },
    {
     "name": "stdout",
     "output_type": "stream",
     "text": [
      "+--------------------+-------------------+-------------------+----------------+-----------+---------+\n",
      "|         customer_id|        first_order|         last_order|retention_period|total_order|avg_price|\n",
      "+--------------------+-------------------+-------------------+----------------+-----------+---------+\n",
      "|5f896bc340a1f2bb5...|2017-09-18 12:57:19|2017-09-18 12:57:19|               0|        111|    87.85|\n",
      "|95d92c3b47e281a45...|2017-04-12 21:21:54|2017-04-12 21:21:54|               0|        115|     49.9|\n",
      "|a74fe4b2c5b909ee2...|2017-11-20 10:59:50|2017-11-20 10:59:50|               0|         97|    59.99|\n",
      "|66603e8aa65d2bbfa...|2018-08-07 21:45:03|2018-08-07 21:45:03|               0|        181|     59.0|\n",
      "|301bb7f7306732397...|2017-05-24 22:42:55|2017-05-24 22:42:55|               0|         63|     89.0|\n",
      "|248707f9a94a18492...|2018-07-25 04:34:42|2018-07-25 04:34:42|               0|         19|     89.0|\n",
      "|dc7633763aa34b15e...|2017-11-03 15:16:50|2017-11-03 15:16:50|               0|         79|     55.0|\n",
      "|587548be8f9917924...|2018-03-05 15:39:06|2018-03-05 15:39:06|               0|        264|   104.45|\n",
      "|fb2789665d5069bf4...|2018-07-25 15:41:42|2018-07-25 15:41:42|               0|         72|     29.0|\n",
      "|83ced71889769885f...|2018-08-22 13:06:17|2018-08-22 13:06:17|               0|        212|     59.9|\n",
      "|8b23430bf8df60f04...|2017-12-07 21:58:10|2017-12-07 21:58:10|               0|         49|    190.0|\n",
      "|2719db22601e7614d...|2018-03-28 08:55:32|2018-03-28 08:55:32|               0|        238|    359.0|\n",
      "|d61274989a1013559...|2018-06-25 22:45:30|2018-06-25 22:45:30|               0|         56|     27.9|\n",
      "|594145332c1e79119...|2018-01-30 13:40:53|2018-01-30 13:40:53|               0|        531|     19.9|\n",
      "|9198fff3ca81d8af0...|2018-08-08 22:03:20|2018-08-08 22:03:20|               0|         37|     69.9|\n",
      "|d6f6a039d3fcbeb53...|2018-04-18 11:12:39|2018-04-18 11:12:39|               0|        126|    19.97|\n",
      "|084dc3ed024e35663...|2018-05-18 18:22:51|2018-05-18 18:22:51|               0|         41|    105.0|\n",
      "|1846f31738b622a16...|2018-01-17 22:12:44|2018-01-17 22:12:44|               0|         15|     95.0|\n",
      "|a48ffc7cf9fca7c48...|2018-01-17 20:58:28|2018-01-17 20:58:28|               0|         28|    14.99|\n",
      "|bcae9ddbea097677b...|2018-01-19 03:33:15|2018-01-19 03:33:15|               0|        154|     29.0|\n",
      "+--------------------+-------------------+-------------------+----------------+-----------+---------+\n",
      "only showing top 20 rows\n",
      "\n"
     ]
    },
    {
     "name": "stderr",
     "output_type": "stream",
     "text": [
      "                                                                                \r"
     ]
    }
   ],
   "source": [
    "#customer retention analysis (first and last order)\n",
    "full_orders_df.groupBy('customer_id')\\\n",
    ".agg(\n",
    "    min(\"order_purchase_timestamp\").alias(\"first_order\"),\n",
    "        max(\"order_purchase_timestamp\").alias(\"last_order\"),\n",
    "    datediff(max('order_purchase_timestamp'),min('order_purchase_timestamp')).alias('retention_period'),\n",
    "    count('order_id').alias('total_order'),\n",
    "    round(avg('price'),2).alias('avg_price')\n",
    ").orderBy(desc('retention_period')).show()\n"
   ]
  },
  {
   "cell_type": "markdown",
   "id": "b093c05d-9f58-4a43-9e35-006cc2063ed3",
   "metadata": {},
   "source": [
    "# Advance Enrichment"
   ]
  },
  {
   "cell_type": "code",
   "execution_count": 44,
   "id": "b230f43f-7e65-4177-8ec4-b6aab9efe310",
   "metadata": {
    "tags": []
   },
   "outputs": [],
   "source": [
    "# order status flags "
   ]
  },
  {
   "cell_type": "code",
   "execution_count": 45,
   "id": "be282086-74f1-4a83-83c0-514615480463",
   "metadata": {
    "tags": []
   },
   "outputs": [
    {
     "name": "stdout",
     "output_type": "stream",
     "text": [
      "+------------+\n",
      "|order_status|\n",
      "+------------+\n",
      "|   delivered|\n",
      "|   delivered|\n",
      "|   delivered|\n",
      "|   delivered|\n",
      "|   delivered|\n",
      "+------------+\n",
      "only showing top 5 rows\n",
      "\n"
     ]
    }
   ],
   "source": [
    "full_orders_df.select('order_status').show(5)"
   ]
  },
  {
   "cell_type": "code",
   "execution_count": 46,
   "id": "9e49d6e5-58db-401a-a6c7-2cf3a8c903a2",
   "metadata": {
    "tags": []
   },
   "outputs": [],
   "source": [
    "full_orders_df = full_orders_df.withColumn('is_delivered',when(col('order_status')=='delivered',lit(1)).otherwise(lit(0)))\\\n",
    ".withColumn('is_canceled',when(col('order_status')=='canceled',lit(1)).otherwise(lit(0)))"
   ]
  },
  {
   "cell_type": "code",
   "execution_count": 47,
   "id": "a8e46d53-7c19-4e71-b5fa-1b170ec12598",
   "metadata": {
    "tags": []
   },
   "outputs": [
    {
     "name": "stdout",
     "output_type": "stream",
     "text": [
      "+------------+------------+-----------+\n",
      "|order_status|is_delivered|is_canceled|\n",
      "+------------+------------+-----------+\n",
      "|    canceled|           0|          1|\n",
      "|    canceled|           0|          1|\n",
      "|    canceled|           0|          1|\n",
      "|    canceled|           0|          1|\n",
      "|    canceled|           0|          1|\n",
      "+------------+------------+-----------+\n",
      "only showing top 5 rows\n",
      "\n"
     ]
    }
   ],
   "source": [
    "full_orders_df.where(full_orders_df.order_status == \"canceled\") \\\n",
    "    .select(\"order_status\", \"is_delivered\", \"is_canceled\") \\\n",
    "    .show(5)"
   ]
  },
  {
   "cell_type": "code",
   "execution_count": 48,
   "id": "1dabd267-122e-40af-8e34-bdcd7054502b",
   "metadata": {
    "tags": []
   },
   "outputs": [
    {
     "name": "stdout",
     "output_type": "stream",
     "text": [
      "+-----+-------------+------------------+\n",
      "|price|freight_value|     order_revenue|\n",
      "+-----+-------------+------------------+\n",
      "|158.9|        18.99|177.89000000000001|\n",
      "|158.9|        18.99|177.89000000000001|\n",
      "|158.9|        18.99|177.89000000000001|\n",
      "|158.9|        18.99|177.89000000000001|\n",
      "|158.9|        18.99|177.89000000000001|\n",
      "|158.9|        18.99|177.89000000000001|\n",
      "|158.9|        18.99|177.89000000000001|\n",
      "|158.9|        18.99|177.89000000000001|\n",
      "|158.9|        18.99|177.89000000000001|\n",
      "|158.9|        18.99|177.89000000000001|\n",
      "|158.9|        18.99|177.89000000000001|\n",
      "|158.9|        18.99|177.89000000000001|\n",
      "|158.9|        18.99|177.89000000000001|\n",
      "|158.9|        18.99|177.89000000000001|\n",
      "|158.9|        18.99|177.89000000000001|\n",
      "|158.9|        18.99|177.89000000000001|\n",
      "|158.9|        18.99|177.89000000000001|\n",
      "|158.9|        18.99|177.89000000000001|\n",
      "|158.9|        18.99|177.89000000000001|\n",
      "|158.9|        18.99|177.89000000000001|\n",
      "+-----+-------------+------------------+\n",
      "only showing top 20 rows\n",
      "\n"
     ]
    }
   ],
   "source": [
    "#order Revenue Calculation\n",
    "full_orders_df = full_orders_df.withColumn('order_revenue',col('price')+col('freight_value'))\n",
    "full_orders_df.select('price','freight_value','order_revenue').show()"
   ]
  },
  {
   "cell_type": "code",
   "execution_count": 49,
   "id": "8c8775bb-8595-4894-8b04-b446ae317e3f",
   "metadata": {
    "tags": []
   },
   "outputs": [
    {
     "name": "stderr",
     "output_type": "stream",
     "text": [
      "[Stage 125:===================================================>   (60 + 2) / 64]\r"
     ]
    },
    {
     "name": "stdout",
     "output_type": "stream",
     "text": [
      "+--------------------+-----------+----------+------+\n",
      "|         customer_id|total_order|total_sale|   AOV|\n",
      "+--------------------+-----------+----------+------+\n",
      "|d3e82ccec3cb5f956...|       6876| 6662844.0| 969.0|\n",
      "|df55c14d1476a9a34...|        743| 3565657.0|4799.0|\n",
      "|fe5113a38e3575c04...|       2292| 3293604.0|1437.0|\n",
      "|ec5b2ba62e5743423...|       1428| 2556120.0|1790.0|\n",
      "|63b964e79dee32a35...|       6072| 2501664.0| 412.0|\n",
      "+--------------------+-----------+----------+------+\n",
      "only showing top 5 rows\n",
      "\n"
     ]
    },
    {
     "name": "stderr",
     "output_type": "stream",
     "text": [
      "                                                                                \r"
     ]
    }
   ],
   "source": [
    "customer_spending_df.show(5)"
   ]
  },
  {
   "cell_type": "code",
   "execution_count": 50,
   "id": "7fdd0a61-b250-4477-a4cb-a7537094e46f",
   "metadata": {
    "tags": []
   },
   "outputs": [],
   "source": [
    "# customer segmentation based on spending\n",
    "\n",
    "customer_spending_df = customer_spending_df.withColumn('customer_segment',when(col('AOV')>=1200,\"High-Value\").when(col('AOV')>=500,\"Medium-Value\").otherwise(\"Low-Value\"))"
   ]
  },
  {
   "cell_type": "code",
   "execution_count": 51,
   "id": "4f348f40-87d1-4f21-aa53-b86763180646",
   "metadata": {
    "tags": []
   },
   "outputs": [
    {
     "name": "stderr",
     "output_type": "stream",
     "text": [
      "[Stage 132:====================================================>  (61 + 2) / 64]\r"
     ]
    },
    {
     "name": "stdout",
     "output_type": "stream",
     "text": [
      "+--------------------+-----------+----------+------+----------------+\n",
      "|         customer_id|total_order|total_sale|   AOV|customer_segment|\n",
      "+--------------------+-----------+----------+------+----------------+\n",
      "|d3e82ccec3cb5f956...|       6876| 6662844.0| 969.0|    Medium-Value|\n",
      "|df55c14d1476a9a34...|        743| 3565657.0|4799.0|      High-Value|\n",
      "|fe5113a38e3575c04...|       2292| 3293604.0|1437.0|      High-Value|\n",
      "|ec5b2ba62e5743423...|       1428| 2556120.0|1790.0|      High-Value|\n",
      "|63b964e79dee32a35...|       6072| 2501664.0| 412.0|       Low-Value|\n",
      "+--------------------+-----------+----------+------+----------------+\n",
      "only showing top 5 rows\n",
      "\n"
     ]
    },
    {
     "name": "stderr",
     "output_type": "stream",
     "text": [
      "                                                                                \r"
     ]
    }
   ],
   "source": [
    "customer_spending_df.show(5)"
   ]
  },
  {
   "cell_type": "code",
   "execution_count": 52,
   "id": "2cc44344-f08d-4bd8-8ea2-3f22b6d0bdcc",
   "metadata": {
    "tags": []
   },
   "outputs": [],
   "source": [
    "full_orders_df= full_orders_df.join(customer_spending_df.select('customer_id','customer_segment'),'customer_id','left')"
   ]
  },
  {
   "cell_type": "code",
   "execution_count": 53,
   "id": "aad69181-31a0-4e0b-bdc1-2e9925efa825",
   "metadata": {
    "tags": []
   },
   "outputs": [
    {
     "name": "stderr",
     "output_type": "stream",
     "text": [
      "                                                                                \r"
     ]
    },
    {
     "name": "stdout",
     "output_type": "stream",
     "text": [
      "+--------------------+----------------+\n",
      "|         customer_id|customer_segment|\n",
      "+--------------------+----------------+\n",
      "|0264bbda6bd6492c7...|       Low-Value|\n",
      "|0264bbda6bd6492c7...|       Low-Value|\n",
      "|0264bbda6bd6492c7...|       Low-Value|\n",
      "|0264bbda6bd6492c7...|       Low-Value|\n",
      "|0264bbda6bd6492c7...|       Low-Value|\n",
      "+--------------------+----------------+\n",
      "only showing top 5 rows\n",
      "\n"
     ]
    }
   ],
   "source": [
    "full_orders_df.select('customer_id','customer_segment').show(5)"
   ]
  },
  {
   "cell_type": "code",
   "execution_count": 54,
   "id": "bf6b96be-9647-4881-b25c-861087227c68",
   "metadata": {
    "tags": []
   },
   "outputs": [
    {
     "name": "stdout",
     "output_type": "stream",
     "text": [
      "+------------------------+\n",
      "|order_purchase_timestamp|\n",
      "+------------------------+\n",
      "|     2018-05-22 18:47:34|\n",
      "|     2018-05-22 18:47:34|\n",
      "|     2018-05-22 18:47:34|\n",
      "|     2018-05-22 18:47:34|\n",
      "|     2018-05-22 18:47:34|\n",
      "+------------------------+\n",
      "only showing top 5 rows\n",
      "\n"
     ]
    }
   ],
   "source": [
    "full_orders_df.select('order_purchase_timestamp').show(5)"
   ]
  },
  {
   "cell_type": "code",
   "execution_count": 55,
   "id": "111b7279-8232-4217-892c-7a5eed69a7c7",
   "metadata": {
    "tags": []
   },
   "outputs": [],
   "source": [
    "#hourly order distribution"
   ]
  },
  {
   "cell_type": "code",
   "execution_count": 56,
   "id": "50b56d7d-d6fd-46f3-b4f6-41e69a9bb816",
   "metadata": {
    "tags": []
   },
   "outputs": [
    {
     "name": "stderr",
     "output_type": "stream",
     "text": [
      "[Stage 154:===================================================>   (60 + 1) / 64]\r"
     ]
    },
    {
     "name": "stdout",
     "output_type": "stream",
     "text": [
      "+--------------+-------+\n",
      "|hour_timestamp|  count|\n",
      "+--------------+-------+\n",
      "|            16|1261538|\n",
      "|            14|1218318|\n",
      "|            11|1202759|\n",
      "|            15|1159603|\n",
      "|            17|1152472|\n",
      "+--------------+-------+\n",
      "only showing top 5 rows\n",
      "\n"
     ]
    },
    {
     "name": "stderr",
     "output_type": "stream",
     "text": [
      "                                                                                \r"
     ]
    }
   ],
   "source": [
    "full_orders_df.withColumn('hour_timestamp',hour(col('order_purchase_timestamp'))).select('order_purchase_timestamp','hour_timestamp','order_id').groupBy('hour_timestamp').count().orderBy(desc('count')).show(5)"
   ]
  },
  {
   "cell_type": "code",
   "execution_count": 57,
   "id": "08e46270-7b61-4e01-bc76-2b9b19b41bb4",
   "metadata": {
    "tags": []
   },
   "outputs": [
    {
     "name": "stdout",
     "output_type": "stream",
     "text": [
      "+------------------------+--------------+\n",
      "|order_purchase_timestamp|order_type_day|\n",
      "+------------------------+--------------+\n",
      "|     2018-05-22 18:47:34|       Weekday|\n",
      "|     2018-05-22 18:47:34|       Weekday|\n",
      "|     2018-05-22 18:47:34|       Weekday|\n",
      "|     2018-05-22 18:47:34|       Weekday|\n",
      "|     2018-05-22 18:47:34|       Weekday|\n",
      "|     2018-05-22 18:47:34|       Weekday|\n",
      "|     2018-05-22 18:47:34|       Weekday|\n",
      "|     2018-05-22 18:47:34|       Weekday|\n",
      "|     2018-05-22 18:47:34|       Weekday|\n",
      "|     2018-05-22 18:47:34|       Weekday|\n",
      "|     2018-05-22 18:47:34|       Weekday|\n",
      "|     2018-05-22 18:47:34|       Weekday|\n",
      "|     2018-05-22 18:47:34|       Weekday|\n",
      "|     2018-05-22 18:47:34|       Weekday|\n",
      "|     2018-05-22 18:47:34|       Weekday|\n",
      "|     2018-05-22 18:47:34|       Weekday|\n",
      "|     2018-05-22 18:47:34|       Weekday|\n",
      "|     2018-05-22 18:47:34|       Weekday|\n",
      "|     2018-05-22 18:47:34|       Weekday|\n",
      "|     2018-05-22 18:47:34|       Weekday|\n",
      "+------------------------+--------------+\n",
      "only showing top 20 rows\n",
      "\n"
     ]
    }
   ],
   "source": [
    "# weekday vs weekend order\n",
    "full_orders_df.withColumn('order_type_day',when(dayofweek('order_purchase_timestamp').isin(1,7) , \"Weekend\"  ).otherwise(\"Weekday\")).select('order_purchase_timestamp','order_type_day').show()\n"
   ]
  },
  {
   "cell_type": "code",
   "execution_count": 58,
   "id": "351b1967-4c56-4450-8b34-3ed724e28d6e",
   "metadata": {
    "tags": []
   },
   "outputs": [
    {
     "name": "stdout",
     "output_type": "stream",
     "text": [
      "+-------------+---------------+\n",
      "|freight_value|fright_catagory|\n",
      "+-------------+---------------+\n",
      "|        18.99|      Low-Value|\n",
      "|        18.99|      Low-Value|\n",
      "|        18.99|      Low-Value|\n",
      "|        18.99|      Low-Value|\n",
      "|        18.99|      Low-Value|\n",
      "|        18.99|      Low-Value|\n",
      "|        18.99|      Low-Value|\n",
      "|        18.99|      Low-Value|\n",
      "|        18.99|      Low-Value|\n",
      "|        18.99|      Low-Value|\n",
      "|        18.99|      Low-Value|\n",
      "|        18.99|      Low-Value|\n",
      "|        18.99|      Low-Value|\n",
      "|        18.99|      Low-Value|\n",
      "|        18.99|      Low-Value|\n",
      "|        18.99|      Low-Value|\n",
      "|        18.99|      Low-Value|\n",
      "|        18.99|      Low-Value|\n",
      "|        18.99|      Low-Value|\n",
      "|        18.99|      Low-Value|\n",
      "+-------------+---------------+\n",
      "only showing top 20 rows\n",
      "\n"
     ]
    }
   ],
   "source": [
    "full_orders_df.withColumn('fright_catagory',when(col('freight_value')>=300,\"High-Value\").when(col('freight_value')>=200,\"Medium-Value\").otherwise(\"Low-Value\")).select('freight_value','fright_catagory').show()"
   ]
  },
  {
   "cell_type": "code",
   "execution_count": 59,
   "id": "2700c34d-4937-48a2-a60c-0e073dd9f7f1",
   "metadata": {
    "tags": []
   },
   "outputs": [
    {
     "name": "stderr",
     "output_type": "stream",
     "text": [
      "[Stage 167:===============================================>       (55 + 2) / 64]\r"
     ]
    },
    {
     "name": "stdout",
     "output_type": "stream",
     "text": [
      "+------------------+------------------+\n",
      "|min(freight_value)|max(freight_value)|\n",
      "+------------------+------------------+\n",
      "|               0.0|            409.68|\n",
      "+------------------+------------------+\n",
      "\n"
     ]
    },
    {
     "name": "stderr",
     "output_type": "stream",
     "text": [
      "                                                                                \r"
     ]
    }
   ],
   "source": [
    "full_orders_df.agg(min('freight_value'),max('freight_value')).show()"
   ]
  },
  {
   "cell_type": "code",
   "execution_count": 60,
   "id": "4f9c1757-4e27-4029-a8d1-8b7b9b80207b",
   "metadata": {
    "tags": []
   },
   "outputs": [],
   "source": [
    "#order volume by State "
   ]
  },
  {
   "cell_type": "code",
   "execution_count": 61,
   "id": "6228ff72-f727-41f9-9bb8-3d98cdb75f02",
   "metadata": {
    "tags": []
   },
   "outputs": [
    {
     "name": "stderr",
     "output_type": "stream",
     "text": [
      "[Stage 174:===================================================>   (60 + 1) / 64]\r"
     ]
    },
    {
     "name": "stdout",
     "output_type": "stream",
     "text": [
      "+-----------------+-------+\n",
      "|geolocation_state|  count|\n",
      "+-----------------+-------+\n",
      "|               TO|  22360|\n",
      "|               RS| 971705|\n",
      "|               PR| 746514|\n",
      "|               MG|3433229|\n",
      "|               MT| 155225|\n",
      "|               SP|6742207|\n",
      "|               AM|   6488|\n",
      "|               MS|  73679|\n",
      "|               PA|  96276|\n",
      "|               PE| 132001|\n",
      "|               MA|  61706|\n",
      "|               PI|  27693|\n",
      "|               RJ|3626836|\n",
      "|               AL|  37741|\n",
      "|               RN|  24818|\n",
      "|               RO|  24526|\n",
      "|             NULL|    317|\n",
      "|               SC| 644944|\n",
      "|               ES| 367211|\n",
      "|               PB|  33379|\n",
      "+-----------------+-------+\n",
      "only showing top 20 rows\n",
      "\n"
     ]
    },
    {
     "name": "stderr",
     "output_type": "stream",
     "text": [
      "                                                                                \r"
     ]
    }
   ],
   "source": [
    "full_orders_df.groupBy('geolocation_state').count().show()"
   ]
  },
  {
   "cell_type": "markdown",
   "id": "49a4eaa8-3c6d-4be8-b896-24fb99ca4af8",
   "metadata": {},
   "source": []
  },
  {
   "cell_type": "code",
   "execution_count": 62,
   "id": "21c40874-432b-4d71-89d1-f1a905003afd",
   "metadata": {
    "tags": []
   },
   "outputs": [
    {
     "name": "stdout",
     "output_type": "stream",
     "text": [
      "mkdir: `/tmp/olist_processed': File exists\n"
     ]
    }
   ],
   "source": [
    "!hadoop fs -mkdir /tmp/olist_processed"
   ]
  },
  {
   "cell_type": "code",
   "execution_count": 63,
   "id": "1c78a25c-864b-4164-8983-6a7fc3e419d2",
   "metadata": {
    "tags": []
   },
   "outputs": [
    {
     "name": "stderr",
     "output_type": "stream",
     "text": [
      "                                                                                \r"
     ]
    }
   ],
   "source": [
    "full_orders_df.write.mode('overwrite').parquet('/tmp/olist_processed')"
   ]
  },
  {
   "cell_type": "code",
   "execution_count": 65,
   "id": "0b58fd35-b07b-4291-949e-ba748e39916e",
   "metadata": {
    "tags": []
   },
   "outputs": [
    {
     "name": "stdout",
     "output_type": "stream",
     "text": [
      "Found 12 items\n",
      "-rw-r--r--   2 root hadoop          0 2025-08-27 20:28 /tmp/olist_processed/_SUCCESS\n",
      "-rw-r--r--   2 root hadoop   10007579 2025-08-27 20:27 /tmp/olist_processed/part-00000-59d041a6-ebd1-411c-bc21-b203436d348f-c000.snappy.parquet\n",
      "-rw-r--r--   2 root hadoop    9562523 2025-08-27 20:27 /tmp/olist_processed/part-00001-59d041a6-ebd1-411c-bc21-b203436d348f-c000.snappy.parquet\n",
      "-rw-r--r--   2 root hadoop   10040308 2025-08-27 20:27 /tmp/olist_processed/part-00002-59d041a6-ebd1-411c-bc21-b203436d348f-c000.snappy.parquet\n",
      "-rw-r--r--   2 root hadoop    9806874 2025-08-27 20:27 /tmp/olist_processed/part-00003-59d041a6-ebd1-411c-bc21-b203436d348f-c000.snappy.parquet\n",
      "-rw-r--r--   2 root hadoop   11980796 2025-08-27 20:27 /tmp/olist_processed/part-00004-59d041a6-ebd1-411c-bc21-b203436d348f-c000.snappy.parquet\n",
      "-rw-r--r--   2 root hadoop   11679870 2025-08-27 20:27 /tmp/olist_processed/part-00005-59d041a6-ebd1-411c-bc21-b203436d348f-c000.snappy.parquet\n",
      "-rw-r--r--   2 root hadoop   11041453 2025-08-27 20:27 /tmp/olist_processed/part-00006-59d041a6-ebd1-411c-bc21-b203436d348f-c000.snappy.parquet\n",
      "-rw-r--r--   2 root hadoop   11469307 2025-08-27 20:28 /tmp/olist_processed/part-00007-59d041a6-ebd1-411c-bc21-b203436d348f-c000.snappy.parquet\n",
      "-rw-r--r--   2 root hadoop   11524312 2025-08-27 20:28 /tmp/olist_processed/part-00008-59d041a6-ebd1-411c-bc21-b203436d348f-c000.snappy.parquet\n",
      "-rw-r--r--   2 root hadoop   10330508 2025-08-27 20:28 /tmp/olist_processed/part-00009-59d041a6-ebd1-411c-bc21-b203436d348f-c000.snappy.parquet\n",
      "-rw-r--r--   2 root hadoop    8256916 2025-08-27 20:28 /tmp/olist_processed/part-00010-59d041a6-ebd1-411c-bc21-b203436d348f-c000.snappy.parquet\n"
     ]
    }
   ],
   "source": [
    "!hadoop fs -ls /tmp/olist_processed/"
   ]
  },
  {
   "cell_type": "code",
   "execution_count": null,
   "id": "7a8249cb-2c0f-4fcf-b16c-57593242f056",
   "metadata": {},
   "outputs": [],
   "source": []
  },
  {
   "cell_type": "code",
   "execution_count": null,
   "id": "b40b531a-f035-4c28-80e9-9078ac835928",
   "metadata": {},
   "outputs": [],
   "source": []
  },
  {
   "cell_type": "code",
   "execution_count": null,
   "id": "f4075adb-62a1-4e17-b8e2-fc8bb5599cfb",
   "metadata": {},
   "outputs": [],
   "source": []
  },
  {
   "cell_type": "code",
   "execution_count": null,
   "id": "fbe5ad56-0619-45e1-949e-b58079d62972",
   "metadata": {},
   "outputs": [],
   "source": []
  },
  {
   "cell_type": "code",
   "execution_count": null,
   "id": "90dc581d-480a-433a-bfe6-f7e670fcf1e1",
   "metadata": {},
   "outputs": [],
   "source": []
  },
  {
   "cell_type": "code",
   "execution_count": null,
   "id": "c4f8c392-a86d-4931-9efb-6e917568d89f",
   "metadata": {},
   "outputs": [],
   "source": []
  },
  {
   "cell_type": "code",
   "execution_count": null,
   "id": "f9d06e03-141e-4e35-891d-7f40bb8fc110",
   "metadata": {},
   "outputs": [],
   "source": []
  },
  {
   "cell_type": "code",
   "execution_count": null,
   "id": "4da68bc2-b08d-4035-8546-096fca53f55a",
   "metadata": {},
   "outputs": [],
   "source": []
  },
  {
   "cell_type": "code",
   "execution_count": null,
   "id": "c1609424-3f43-47d8-82ce-d07093077a5b",
   "metadata": {},
   "outputs": [],
   "source": []
  },
  {
   "cell_type": "code",
   "execution_count": null,
   "id": "ae80f533-6c56-4d7e-868b-f131d9563cd5",
   "metadata": {},
   "outputs": [],
   "source": []
  },
  {
   "cell_type": "code",
   "execution_count": null,
   "id": "881cf112-1b3a-4308-b946-91142de5054e",
   "metadata": {},
   "outputs": [],
   "source": []
  },
  {
   "cell_type": "code",
   "execution_count": null,
   "id": "9fb8936d-cfea-47b0-b798-7648b9878a56",
   "metadata": {},
   "outputs": [],
   "source": []
  },
  {
   "cell_type": "code",
   "execution_count": null,
   "id": "810dfdca-45df-48b1-af8a-9d2823d1faec",
   "metadata": {},
   "outputs": [],
   "source": []
  },
  {
   "cell_type": "code",
   "execution_count": null,
   "id": "c65ffe39-7a50-405a-a526-302b28aac222",
   "metadata": {},
   "outputs": [],
   "source": []
  },
  {
   "cell_type": "code",
   "execution_count": null,
   "id": "ffbfd34a-97bc-4824-a895-7dfce9681be6",
   "metadata": {},
   "outputs": [],
   "source": []
  },
  {
   "cell_type": "code",
   "execution_count": null,
   "id": "6f0c3cd2-3d93-4a9f-8ddb-46abae0dd0f1",
   "metadata": {},
   "outputs": [],
   "source": []
  },
  {
   "cell_type": "code",
   "execution_count": null,
   "id": "354961ba-a96c-4926-9ed4-7d2ab098bc34",
   "metadata": {},
   "outputs": [],
   "source": []
  },
  {
   "cell_type": "code",
   "execution_count": null,
   "id": "0fb88fb3-5d63-497d-8290-cfac753e1a9c",
   "metadata": {},
   "outputs": [],
   "source": []
  },
  {
   "cell_type": "code",
   "execution_count": null,
   "id": "0b5d70ac-d1d9-4392-92c1-9e6d7b91bae3",
   "metadata": {},
   "outputs": [],
   "source": []
  },
  {
   "cell_type": "code",
   "execution_count": null,
   "id": "8b5170e0-5b8a-4b67-af45-c900536fe5d2",
   "metadata": {},
   "outputs": [],
   "source": []
  },
  {
   "cell_type": "code",
   "execution_count": null,
   "id": "82dc1b16-04b3-4322-9e8c-1a84a52cad10",
   "metadata": {},
   "outputs": [],
   "source": []
  },
  {
   "cell_type": "code",
   "execution_count": null,
   "id": "15724532-9dc4-413c-acff-28e21f06df4e",
   "metadata": {},
   "outputs": [],
   "source": []
  },
  {
   "cell_type": "code",
   "execution_count": null,
   "id": "2d58707a-7344-4901-95be-b25d8bc8c538",
   "metadata": {},
   "outputs": [],
   "source": []
  },
  {
   "cell_type": "code",
   "execution_count": null,
   "id": "5419b200-c56c-4323-bf58-24f8e771e363",
   "metadata": {},
   "outputs": [],
   "source": []
  },
  {
   "cell_type": "code",
   "execution_count": null,
   "id": "4159f638-9fbf-4a95-9e17-b7d7afd277a8",
   "metadata": {},
   "outputs": [],
   "source": []
  },
  {
   "cell_type": "code",
   "execution_count": null,
   "id": "bdd720fb-802c-4656-a7be-451e6ade3c9c",
   "metadata": {},
   "outputs": [],
   "source": []
  },
  {
   "cell_type": "code",
   "execution_count": null,
   "id": "9a1675cc-5d47-49af-b813-029ec93862aa",
   "metadata": {},
   "outputs": [],
   "source": []
  },
  {
   "cell_type": "code",
   "execution_count": null,
   "id": "5c8cbee0-637f-4c70-87f9-47d89bc957f9",
   "metadata": {},
   "outputs": [],
   "source": []
  },
  {
   "cell_type": "code",
   "execution_count": null,
   "id": "34567509-072d-4ffb-addc-eb6b40666f24",
   "metadata": {},
   "outputs": [],
   "source": []
  },
  {
   "cell_type": "code",
   "execution_count": null,
   "id": "f62ab720-862c-4077-abbe-577f8a84a69f",
   "metadata": {},
   "outputs": [],
   "source": []
  },
  {
   "cell_type": "code",
   "execution_count": null,
   "id": "6d08ecc0-78c9-4abb-8ff0-37b231582f62",
   "metadata": {},
   "outputs": [],
   "source": []
  }
 ],
 "metadata": {
  "kernelspec": {
   "display_name": "PySpark",
   "language": "python",
   "name": "pyspark"
  },
  "language_info": {
   "codemirror_mode": {
    "name": "ipython",
    "version": 3
   },
   "file_extension": ".py",
   "mimetype": "text/x-python",
   "name": "python",
   "nbconvert_exporter": "python",
   "pygments_lexer": "ipython3",
   "version": "3.11.8"
  }
 },
 "nbformat": 4,
 "nbformat_minor": 5
}