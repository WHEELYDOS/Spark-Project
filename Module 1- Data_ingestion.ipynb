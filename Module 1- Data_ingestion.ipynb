{
 "cells": [
  {
   "cell_type": "markdown",
   "id": "0bfcfce7-0cbc-4652-baf6-da1b192ee1d8",
   "metadata": {
    "tags": []
   },
   "source": [
    "**Setting up Spark Enviorment**\n",
    "\n",
    "**1, Deploy a Spark Cluster (Dataproc ,EMR,HDInsight ,on-prem)**\n",
    "\n",
    "**2\\. Store Data in HDFS and not on local**\n",
    "\n",
    "**Download Source - \"https://www.kaggle.com/****datasets/olistbr/brazilian-ecommerce****\"**\n",
    "\n",
    "**3\\. use Pyspark to interat with data**"
   ]
  },
  {
   "cell_type": "code",
   "execution_count": 1,
   "id": "fd3ff70e-2be9-4607-a2de-c6cf9525b52f",
   "metadata": {
    "tags": []
   },
   "outputs": [
    {
     "name": "stderr",
     "output_type": "stream",
     "text": [
      "25/08/22 05:27:19 WARN SparkSession: Using an existing Spark session; only runtime SQL configurations will take effect.\n"
     ]
    }
   ],
   "source": [
    "from pyspark.sql import SparkSession\n",
    "\n",
    "spark = SparkSession.builder\\\n",
    ".appName('Module 1- Data_ingestion')\\\n",
    ".master('yarn')\\\n",
    ".getOrCreate()"
   ]
  },
  {
   "cell_type": "code",
   "execution_count": 2,
   "id": "c165e257-bc50-474b-b8b0-f586896ff588",
   "metadata": {
    "tags": []
   },
   "outputs": [
    {
     "data": {
      "text/html": [
       "\n",
       "            <div>\n",
       "                <p><b>SparkSession - hive</b></p>\n",
       "                \n",
       "        <div>\n",
       "            <p><b>SparkContext</b></p>\n",
       "\n",
       "            <p><a href=\"http://testcluster1-m.asia-south1-b.c.midyear-guild-461710-g9.internal:44131\">Spark UI</a></p>\n",
       "\n",
       "            <dl>\n",
       "              <dt>Version</dt>\n",
       "                <dd><code>v3.5.3</code></dd>\n",
       "              <dt>Master</dt>\n",
       "                <dd><code>yarn</code></dd>\n",
       "              <dt>AppName</dt>\n",
       "                <dd><code>PySparkShell</code></dd>\n",
       "            </dl>\n",
       "        </div>\n",
       "        \n",
       "            </div>\n",
       "        "
      ],
      "text/plain": [
       "<pyspark.sql.session.SparkSession at 0x7fa810cb78d0>"
      ]
     },
     "execution_count": 2,
     "metadata": {},
     "output_type": "execute_result"
    }
   ],
   "source": [
    "spark"
   ]
  },
  {
   "cell_type": "code",
   "execution_count": 3,
   "id": "9745d8bf-e468-483f-9cec-220fd9d9aacd",
   "metadata": {
    "tags": []
   },
   "outputs": [
    {
     "name": "stdout",
     "output_type": "stream",
     "text": [
      "Found 9 items\n",
      "-rw-r--r--   2 harshvardhansahu06733 hadoop    9033957 2025-08-21 20:04 /tmp/Brazilian/olist_customers_dataset.csv\n",
      "-rw-r--r--   2 harshvardhansahu06733 hadoop   61273883 2025-08-21 20:04 /tmp/Brazilian/olist_geolocation_dataset.csv\n",
      "-rw-r--r--   2 harshvardhansahu06733 hadoop   15438671 2025-08-21 20:04 /tmp/Brazilian/olist_order_items_dataset.csv\n",
      "-rw-r--r--   2 harshvardhansahu06733 hadoop    5777138 2025-08-21 20:04 /tmp/Brazilian/olist_order_payments_dataset.csv\n",
      "-rw-r--r--   2 harshvardhansahu06733 hadoop   14451670 2025-08-21 20:04 /tmp/Brazilian/olist_order_reviews_dataset.csv\n",
      "-rw-r--r--   2 harshvardhansahu06733 hadoop   17654914 2025-08-21 20:04 /tmp/Brazilian/olist_orders_dataset.csv\n",
      "-rw-r--r--   2 harshvardhansahu06733 hadoop    2379446 2025-08-21 20:04 /tmp/Brazilian/olist_products_dataset.csv\n",
      "-rw-r--r--   2 harshvardhansahu06733 hadoop     174703 2025-08-21 20:04 /tmp/Brazilian/olist_sellers_dataset.csv\n",
      "-rw-r--r--   2 harshvardhansahu06733 hadoop       2613 2025-08-21 20:04 /tmp/Brazilian/product_category_name_translation.csv\n"
     ]
    }
   ],
   "source": [
    "!hadoop fs -ls /tmp/Brazilian/"
   ]
  },
  {
   "cell_type": "code",
   "execution_count": 4,
   "id": "573839d2-4ef6-44ab-b732-9c4eac7821c5",
   "metadata": {
    "tags": []
   },
   "outputs": [],
   "source": [
    "hdfs_path= '/tmp/Brazilian'"
   ]
  },
  {
   "cell_type": "code",
   "execution_count": 14,
   "id": "540d6b72-02eb-42b8-a6b7-0eb85e119bf3",
   "metadata": {
    "tags": []
   },
   "outputs": [
    {
     "name": "stderr",
     "output_type": "stream",
     "text": [
      "                                                                                \r"
     ]
    }
   ],
   "source": [
    "customers_df  = spark.read\\\n",
    ".format('csv')\\\n",
    ".option('header',True)\\\n",
    ".option('inferSchema',True)\\\n",
    ".load(hdfs_path+'/olist_customers_dataset.csv')\n",
    "\n",
    "geolocation_df  = spark.read\\\n",
    ".format('csv')\\\n",
    ".option('header',True)\\\n",
    ".option('inferSchema',True)\\\n",
    ".load(hdfs_path+'/olist_geolocation_dataset.csv')\n",
    "\n",
    "order_items_df  = spark.read\\\n",
    ".format('csv')\\\n",
    ".option('header',True)\\\n",
    ".option('inferSchema',True)\\\n",
    ".load(hdfs_path+'/olist_order_items_dataset.csv')\n",
    "\n",
    "order_payments_df  = spark.read\\\n",
    ".format('csv')\\\n",
    ".option('header',True)\\\n",
    ".option('inferSchema',True)\\\n",
    ".load(hdfs_path+'/olist_order_payments_dataset.csv')\n",
    "\n",
    "order_reviews_df  = spark.read\\\n",
    ".format('csv')\\\n",
    ".option('header',True)\\\n",
    ".option('inferSchema',True)\\\n",
    ".load(hdfs_path+'/olist_order_reviews_dataset.csv')\n",
    "\n",
    "orders_df  = spark.read\\\n",
    ".format('csv')\\\n",
    ".option('header',True)\\\n",
    ".option('inferSchema',True)\\\n",
    ".load(hdfs_path+'/olist_orders_dataset.csv')\n",
    "\n",
    "products_df  = spark.read\\\n",
    ".format('csv')\\\n",
    ".option('header',True)\\\n",
    ".option('inferSchema',True)\\\n",
    ".load(hdfs_path+'/olist_products_dataset.csv')\n",
    "\n",
    "sellers_df  = spark.read\\\n",
    ".format('csv')\\\n",
    ".option('header',True)\\\n",
    ".option('inferSchema',True)\\\n",
    ".load(hdfs_path+'/olist_sellers_dataset.csv')\n",
    "\n"
   ]
  },
  {
   "cell_type": "code",
   "execution_count": 19,
   "id": "5813a4c1-6b20-4664-a9e4-867bcaf957bc",
   "metadata": {
    "tags": []
   },
   "outputs": [
    {
     "name": "stdout",
     "output_type": "stream",
     "text": [
      "root\n",
      " |-- customer_id: string (nullable = true)\n",
      " |-- customer_unique_id: string (nullable = true)\n",
      " |-- customer_zip_code_prefix: integer (nullable = true)\n",
      " |-- customer_city: string (nullable = true)\n",
      " |-- customer_state: string (nullable = true)\n",
      "\n"
     ]
    }
   ],
   "source": [
    "customers_df.printSchema()"
   ]
  },
  {
   "cell_type": "code",
   "execution_count": 20,
   "id": "1c0463a7-2963-4439-8e5b-e59ba10fa712",
   "metadata": {
    "tags": []
   },
   "outputs": [
    {
     "name": "stdout",
     "output_type": "stream",
     "text": [
      "root\n",
      " |-- order_id: string (nullable = true)\n",
      " |-- customer_id: string (nullable = true)\n",
      " |-- order_status: string (nullable = true)\n",
      " |-- order_purchase_timestamp: timestamp (nullable = true)\n",
      " |-- order_approved_at: timestamp (nullable = true)\n",
      " |-- order_delivered_carrier_date: timestamp (nullable = true)\n",
      " |-- order_delivered_customer_date: timestamp (nullable = true)\n",
      " |-- order_estimated_delivery_date: timestamp (nullable = true)\n",
      "\n"
     ]
    }
   ],
   "source": [
    "orders_df.printSchema()"
   ]
  },
  {
   "cell_type": "markdown",
   "id": "db2c872c-4573-47c6-8f13-9acd41f9bd13",
   "metadata": {},
   "source": [
    "# Data Leakage or Drop"
   ]
  },
  {
   "cell_type": "code",
   "execution_count": 17,
   "id": "472dbd3b-f15b-4309-a1ed-70232cd1224c",
   "metadata": {
    "tags": []
   },
   "outputs": [
    {
     "name": "stdout",
     "output_type": "stream",
     "text": [
      "customers : 99441 rows\n",
      "orders : 99441 rows\n"
     ]
    }
   ],
   "source": [
    "# check it with kaggle page for the data set\n",
    "print(f'customers : {customer_df.count()} rows')\n",
    "print(f'orders : {orders_df.count()} rows')"
   ]
  },
  {
   "cell_type": "markdown",
   "id": "8f1403c3-dc74-46bd-b24d-b18bd4c3acf2",
   "metadata": {
    "tags": []
   },
   "source": [
    "# check for null Values"
   ]
  },
  {
   "cell_type": "code",
   "execution_count": 34,
   "id": "427dfa98-1716-468b-96e1-50e888768057",
   "metadata": {
    "tags": []
   },
   "outputs": [
    {
     "name": "stdout",
     "output_type": "stream",
     "text": [
      "+-----------+------------------+------------------------+-------------+--------------+\n",
      "|customer_id|customer_unique_id|customer_zip_code_prefix|customer_city|customer_state|\n",
      "+-----------+------------------+------------------------+-------------+--------------+\n",
      "|          0|                 0|                       0|            0|             0|\n",
      "+-----------+------------------+------------------------+-------------+--------------+\n",
      "\n"
     ]
    }
   ],
   "source": [
    "#Null or say duplicate values \n",
    "\n",
    "from pyspark.sql.functions import *\n",
    "\n",
    "customers_df.select([count(when(col(c).isNull(),1)).alias(c) for c in customers_df.columns]).show()\n"
   ]
  },
  {
   "cell_type": "markdown",
   "id": "35f28a8e-e034-4c78-ac15-f7d1e63e0e1d",
   "metadata": {
    "tags": []
   },
   "source": [
    "# check for duplicate values"
   ]
  },
  {
   "cell_type": "code",
   "execution_count": 39,
   "id": "c362675c-16ef-4045-97f4-d53689c74fe7",
   "metadata": {
    "tags": []
   },
   "outputs": [
    {
     "name": "stderr",
     "output_type": "stream",
     "text": [
      "[Stage 74:=============================>                            (1 + 1) / 2]\r"
     ]
    },
    {
     "name": "stdout",
     "output_type": "stream",
     "text": [
      "+-----------+-----+\n",
      "|customer_id|count|\n",
      "+-----------+-----+\n",
      "+-----------+-----+\n",
      "\n"
     ]
    },
    {
     "name": "stderr",
     "output_type": "stream",
     "text": [
      "                                                                                \r"
     ]
    }
   ],
   "source": [
    "# duplicate value \n",
    "customers_df.groupBy('customer_id').count().filter('count>1').show()"
   ]
  },
  {
   "cell_type": "markdown",
   "id": "59bd7422-e002-41e4-83e4-15e1f3b56783",
   "metadata": {},
   "source": [
    "# customer Distribution by sales state"
   ]
  },
  {
   "cell_type": "code",
   "execution_count": 44,
   "id": "c47f3ee7-244d-40d0-8381-ce355fbe4097",
   "metadata": {
    "tags": []
   },
   "outputs": [
    {
     "name": "stdout",
     "output_type": "stream",
     "text": [
      "+--------------+-----+\n",
      "|customer_state|count|\n",
      "+--------------+-----+\n",
      "|            SP|41746|\n",
      "|            RJ|12852|\n",
      "|            MG|11635|\n",
      "|            RS| 5466|\n",
      "|            PR| 5045|\n",
      "|            SC| 3637|\n",
      "|            BA| 3380|\n",
      "|            DF| 2140|\n",
      "|            ES| 2033|\n",
      "|            GO| 2020|\n",
      "|            PE| 1652|\n",
      "|            CE| 1336|\n",
      "|            PA|  975|\n",
      "|            MT|  907|\n",
      "|            MA|  747|\n",
      "|            MS|  715|\n",
      "|            PB|  536|\n",
      "|            PI|  495|\n",
      "|            RN|  485|\n",
      "|            AL|  413|\n",
      "+--------------+-----+\n",
      "only showing top 20 rows\n",
      "\n"
     ]
    }
   ],
   "source": [
    "customers_df.groupBy('customer_state').count().orderBy(col('count').desc()).show()"
   ]
  },
  {
   "cell_type": "code",
   "execution_count": 45,
   "id": "34aa4a95-892b-4e68-9ac4-d2b13550da1c",
   "metadata": {
    "tags": []
   },
   "outputs": [],
   "source": [
    "# order status distribution "
   ]
  },
  {
   "cell_type": "code",
   "execution_count": 49,
   "id": "95a75384-b87d-4da1-b414-e6a2cc818d45",
   "metadata": {
    "tags": []
   },
   "outputs": [
    {
     "name": "stdout",
     "output_type": "stream",
     "text": [
      "+------------+-----+\n",
      "|order_status|count|\n",
      "+------------+-----+\n",
      "|   delivered|96478|\n",
      "|     shipped| 1107|\n",
      "|    canceled|  625|\n",
      "| unavailable|  609|\n",
      "|    invoiced|  314|\n",
      "|  processing|  301|\n",
      "|     created|    5|\n",
      "|    approved|    2|\n",
      "+------------+-----+\n",
      "\n"
     ]
    }
   ],
   "source": [
    "orders_df.groupBy('order_status').count().orderBy(col('count').desc()).show()"
   ]
  },
  {
   "cell_type": "code",
   "execution_count": 53,
   "id": "e355aec0-d4b0-4d3d-8bf5-f7ca12877713",
   "metadata": {
    "tags": []
   },
   "outputs": [
    {
     "name": "stdout",
     "output_type": "stream",
     "text": [
      "+--------------------+------------------+------------+--------------------+-------------+\n",
      "|            order_id|payment_sequential|payment_type|payment_installments|payment_value|\n",
      "+--------------------+------------------+------------+--------------------+-------------+\n",
      "|b81ef226f3fe1789b...|                 1| credit_card|                   8|        99.33|\n",
      "|a9810da82917af2d9...|                 1| credit_card|                   1|        24.39|\n",
      "|25e8ea4e93396b6fa...|                 1| credit_card|                   1|        65.71|\n",
      "|ba78997921bbcdc13...|                 1| credit_card|                   8|       107.78|\n",
      "|42fdf880ba16b47b5...|                 1| credit_card|                   2|       128.45|\n",
      "+--------------------+------------------+------------+--------------------+-------------+\n",
      "only showing top 5 rows\n",
      "\n"
     ]
    }
   ],
   "source": [
    "# Payments \n",
    "order_payments_df.show(5)\n",
    "\n",
    "\n"
   ]
  },
  {
   "cell_type": "code",
   "execution_count": 54,
   "id": "2f3bfb43-a46d-412e-85b3-ca6d94cf8e86",
   "metadata": {
    "tags": []
   },
   "outputs": [],
   "source": [
    "# top selling products "
   ]
  },
  {
   "cell_type": "code",
   "execution_count": 66,
   "id": "204c61de-5018-4741-b906-43c9fca16547",
   "metadata": {
    "tags": []
   },
   "outputs": [
    {
     "name": "stdout",
     "output_type": "stream",
     "text": [
      "+--------------------+-------------+--------------------+--------------------+-------------------+------+-------------+\n",
      "|            order_id|order_item_id|          product_id|           seller_id|shipping_limit_date| price|freight_value|\n",
      "+--------------------+-------------+--------------------+--------------------+-------------------+------+-------------+\n",
      "|00010242fe8c5a6d1...|            1|4244733e06e7ecb49...|48436dade18ac8b2b...|2017-09-19 09:45:35|  58.9|        13.29|\n",
      "|00018f77f2f0320c5...|            1|e5f2d52b802189ee6...|dd7ddc04e1b6c2c61...|2017-05-03 11:05:13| 239.9|        19.93|\n",
      "|000229ec398224ef6...|            1|c777355d18b72b67a...|5b51032eddd242adc...|2018-01-18 14:48:30| 199.0|        17.87|\n",
      "|00024acbcdf0a6daa...|            1|7634da152a4610f15...|9d7a1d34a50524090...|2018-08-15 10:10:18| 12.99|        12.79|\n",
      "|00042b26cf59d7ce6...|            1|ac6c3623068f30de0...|df560393f3a51e745...|2017-02-13 13:57:51| 199.9|        18.14|\n",
      "|00048cc3ae777c65d...|            1|ef92defde845ab845...|6426d21aca402a131...|2017-05-23 03:55:27|  21.9|        12.69|\n",
      "|00054e8431b9d7675...|            1|8d4f2bb7e93e6710a...|7040e82f899a04d1b...|2017-12-14 12:10:31|  19.9|        11.85|\n",
      "|000576fe39319847c...|            1|557d850972a7d6f79...|5996cddab893a4652...|2018-07-10 12:30:45| 810.0|        70.75|\n",
      "|0005a1a1728c9d785...|            1|310ae3c140ff94b03...|a416b6a846a117243...|2018-03-26 18:31:29|145.95|        11.65|\n",
      "|0005f50442cb953dc...|            1|4535b0e1091c278df...|ba143b05f0110f0dc...|2018-07-06 14:10:56| 53.99|         11.4|\n",
      "|00061f2a7bc09da83...|            1|d63c1011f49d98b97...|cc419e0650a3c5ba7...|2018-03-29 22:28:09| 59.99|         8.88|\n",
      "|00063b381e2406b52...|            1|f177554ea93259a5b...|8602a61d680a10a82...|2018-07-31 17:30:39|  45.0|        12.98|\n",
      "|0006ec9db01a64e59...|            1|99a4788cb24856965...|4a3ca9315b744ce9f...|2018-07-26 17:24:20|  74.0|        23.32|\n",
      "|0008288aa423d2a3f...|            1|368c6c730842d7801...|1f50f920176fa81da...|2018-02-21 02:55:52|  49.9|        13.37|\n",
      "|0008288aa423d2a3f...|            2|368c6c730842d7801...|1f50f920176fa81da...|2018-02-21 02:55:52|  49.9|        13.37|\n",
      "|0009792311464db53...|            1|8cab8abac59158715...|530ec6109d11eaaf8...|2018-08-17 12:15:10|  99.9|        27.65|\n",
      "|0009c9a17f916a706...|            1|3f27ac8e699df3d30...|fcb5ace8bcc92f757...|2018-05-02 09:31:53| 639.0|        11.34|\n",
      "|000aed2e25dbad2f9...|            1|4fa33915031a8cde0...|fe2032dab1a61af87...|2018-05-16 20:57:03| 144.0|         8.77|\n",
      "|000c3e6612759851c...|            1|b50c950aba0dcead2...|218d46b86c1881d02...|2017-08-21 03:33:13|  99.0|        13.71|\n",
      "|000e562887b1f2006...|            1|5ed9eaf534f6936b5...|8cbac7e12637ed9cf...|2018-02-28 12:08:37|  25.0|        16.11|\n",
      "+--------------------+-------------+--------------------+--------------------+-------------------+------+-------------+\n",
      "only showing top 20 rows\n",
      "\n"
     ]
    }
   ],
   "source": [
    "order_items_df.show()"
   ]
  },
  {
   "cell_type": "code",
   "execution_count": 62,
   "id": "16fc5d23-8d48-4789-8e09-0e0854c9bf2b",
   "metadata": {
    "tags": []
   },
   "outputs": [
    {
     "name": "stdout",
     "output_type": "stream",
     "text": [
      "+--------------------+-----+\n",
      "|          product_id|count|\n",
      "+--------------------+-----+\n",
      "|aca2eb7d00ea1a7b8...|  527|\n",
      "|99a4788cb24856965...|  488|\n",
      "|422879e10f4668299...|  484|\n",
      "|389d119b48cf3043d...|  392|\n",
      "|368c6c730842d7801...|  388|\n",
      "+--------------------+-----+\n",
      "only showing top 5 rows\n",
      "\n"
     ]
    }
   ],
   "source": [
    "order_items_df.groupBy('product_id').count().orderBy(col('count').desc()).show(5)"
   ]
  },
  {
   "cell_type": "code",
   "execution_count": 64,
   "id": "5e595ce1-f321-41e0-a278-57aead367551",
   "metadata": {
    "tags": []
   },
   "outputs": [],
   "source": [
    "#total sales"
   ]
  },
  {
   "cell_type": "code",
   "execution_count": 69,
   "id": "c5784d00-41ca-44f4-a207-6a57fa87596f",
   "metadata": {
    "tags": []
   },
   "outputs": [
    {
     "name": "stdout",
     "output_type": "stream",
     "text": [
      "+--------------------+------------------+\n",
      "|          product_id|       total_sales|\n",
      "+--------------------+------------------+\n",
      "|bb50f2e236e5eea01...|           63885.0|\n",
      "|6cdd53843498f9289...| 54730.20000000005|\n",
      "|d6160fb7873f18409...|48899.340000000004|\n",
      "|d1c427060a0f73f6b...| 47214.51000000006|\n",
      "|99a4788cb24856965...|43025.560000000085|\n",
      "+--------------------+------------------+\n",
      "only showing top 5 rows\n",
      "\n"
     ]
    }
   ],
   "source": [
    "order_items_df.groupBy('product_id').agg(sum('price').alias('total_sales')).orderBy(col('total_sales').desc()).show(5)"
   ]
  },
  {
   "cell_type": "markdown",
   "id": "8463675c-3081-4566-9a54-33df55c8ef4d",
   "metadata": {},
   "source": [
    "# Average delivery time analysis"
   ]
  },
  {
   "cell_type": "code",
   "execution_count": 82,
   "id": "bce9d269-062b-4003-9666-469668c0236c",
   "metadata": {
    "tags": []
   },
   "outputs": [
    {
     "name": "stdout",
     "output_type": "stream",
     "text": [
      "+--------------------+--------------------+------------+------------------------+-------------------+----------------------------+-----------------------------+-----------------------------+\n",
      "|            order_id|         customer_id|order_status|order_purchase_timestamp|  order_approved_at|order_delivered_carrier_date|order_delivered_customer_date|order_estimated_delivery_date|\n",
      "+--------------------+--------------------+------------+------------------------+-------------------+----------------------------+-----------------------------+-----------------------------+\n",
      "|e481f51cbdc54678b...|9ef432eb625129730...|   delivered|     2017-10-02 10:56:33|2017-10-02 11:07:15|         2017-10-04 19:55:00|          2017-10-10 21:25:13|          2017-10-18 00:00:00|\n",
      "|53cdb2fc8bc7dce0b...|b0830fb4747a6c6d2...|   delivered|     2018-07-24 20:41:37|2018-07-26 03:24:27|         2018-07-26 14:31:00|          2018-08-07 15:27:45|          2018-08-13 00:00:00|\n",
      "|47770eb9100c2d0c4...|41ce2a54c0b03bf34...|   delivered|     2018-08-08 08:38:49|2018-08-08 08:55:23|         2018-08-08 13:50:00|          2018-08-17 18:06:29|          2018-09-04 00:00:00|\n",
      "|949d5b44dbf5de918...|f88197465ea7920ad...|   delivered|     2017-11-18 19:28:06|2017-11-18 19:45:59|         2017-11-22 13:39:59|          2017-12-02 00:28:42|          2017-12-15 00:00:00|\n",
      "|ad21c59c0840e6cb8...|8ab97904e6daea886...|   delivered|     2018-02-13 21:18:39|2018-02-13 22:20:29|         2018-02-14 19:46:34|          2018-02-16 18:17:02|          2018-02-26 00:00:00|\n",
      "|a4591c265e18cb1dc...|503740e9ca751ccdd...|   delivered|     2017-07-09 21:57:05|2017-07-09 22:10:13|         2017-07-11 14:58:04|          2017-07-26 10:57:55|          2017-08-01 00:00:00|\n",
      "|136cce7faa42fdb2c...|ed0271e0b7da060a3...|    invoiced|     2017-04-11 12:22:08|2017-04-13 13:25:17|                        NULL|                         NULL|          2017-05-09 00:00:00|\n",
      "|6514b8ad8028c9f2c...|9bdf08b4b3b52b552...|   delivered|     2017-05-16 13:10:30|2017-05-16 13:22:11|         2017-05-22 10:07:46|          2017-05-26 12:55:51|          2017-06-07 00:00:00|\n",
      "|76c6e866289321a7c...|f54a9f0e6b351c431...|   delivered|     2017-01-23 18:29:09|2017-01-25 02:50:47|         2017-01-26 14:16:31|          2017-02-02 14:08:10|          2017-03-06 00:00:00|\n",
      "|e69bfb5eb88e0ed6a...|31ad1d1b63eb99624...|   delivered|     2017-07-29 11:55:02|2017-07-29 12:05:32|         2017-08-10 19:45:24|          2017-08-16 17:14:30|          2017-08-23 00:00:00|\n",
      "+--------------------+--------------------+------------+------------------------+-------------------+----------------------------+-----------------------------+-----------------------------+\n",
      "only showing top 10 rows\n",
      "\n"
     ]
    }
   ],
   "source": [
    "orders_df.show(10)"
   ]
  },
  {
   "cell_type": "code",
   "execution_count": 84,
   "id": "a41a01a6-9664-4fda-b4f4-e801d208d5b6",
   "metadata": {
    "tags": []
   },
   "outputs": [],
   "source": [
    "dates_df = orders_df.select( 'order_id','order_purchase_timestamp','order_delivered_customer_date')"
   ]
  },
  {
   "cell_type": "code",
   "execution_count": 85,
   "id": "29c51d95-26f3-418a-8768-48ae71a7ce8a",
   "metadata": {
    "tags": []
   },
   "outputs": [
    {
     "name": "stdout",
     "output_type": "stream",
     "text": [
      "+--------------------+------------------------+-----------------------------+\n",
      "|            order_id|order_purchase_timestamp|order_delivered_customer_date|\n",
      "+--------------------+------------------------+-----------------------------+\n",
      "|e481f51cbdc54678b...|     2017-10-02 10:56:33|          2017-10-10 21:25:13|\n",
      "|53cdb2fc8bc7dce0b...|     2018-07-24 20:41:37|          2018-08-07 15:27:45|\n",
      "|47770eb9100c2d0c4...|     2018-08-08 08:38:49|          2018-08-17 18:06:29|\n",
      "|949d5b44dbf5de918...|     2017-11-18 19:28:06|          2017-12-02 00:28:42|\n",
      "|ad21c59c0840e6cb8...|     2018-02-13 21:18:39|          2018-02-16 18:17:02|\n",
      "+--------------------+------------------------+-----------------------------+\n",
      "only showing top 5 rows\n",
      "\n"
     ]
    }
   ],
   "source": [
    "dates_df.show(5)"
   ]
  },
  {
   "cell_type": "code",
   "execution_count": 94,
   "id": "4418de51-8378-430f-9042-cc51898da961",
   "metadata": {
    "tags": []
   },
   "outputs": [],
   "source": [
    "average_delivery_time= dates_df.withColumn('average time', datediff('order_delivered_customer_date','order_purchase_timestamp'))"
   ]
  },
  {
   "cell_type": "code",
   "execution_count": 95,
   "id": "66c64164-7e7c-4f28-b861-15fbf78b94cc",
   "metadata": {
    "tags": []
   },
   "outputs": [
    {
     "name": "stdout",
     "output_type": "stream",
     "text": [
      "+------------------+\n",
      "| avg(average time)|\n",
      "+------------------+\n",
      "|12.497336125046644|\n",
      "+------------------+\n",
      "\n"
     ]
    }
   ],
   "source": [
    "average_delivery_time.agg(mean('average time')).show()"
   ]
  },
  {
   "cell_type": "code",
   "execution_count": 97,
   "id": "f70af5e4-ae85-49ef-870d-a33f3a66e9e6",
   "metadata": {
    "tags": []
   },
   "outputs": [
    {
     "name": "stdout",
     "output_type": "stream",
     "text": [
      "+--------------------+------------------------+-----------------------------+------------+\n",
      "|            order_id|order_purchase_timestamp|order_delivered_customer_date|average time|\n",
      "+--------------------+------------------------+-----------------------------+------------+\n",
      "|ca07593549f1816d2...|     2017-02-21 23:31:27|          2017-09-19 14:36:39|         210|\n",
      "|1b3190b2dfa9d789e...|     2018-02-23 14:57:35|          2018-09-19 23:24:07|         208|\n",
      "|440d0d17af552815d...|     2017-03-07 23:59:51|          2017-09-19 15:12:50|         196|\n",
      "|2fb597c2f772eca01...|     2017-03-08 18:09:02|          2017-09-19 14:33:17|         195|\n",
      "|285ab9426d6982034...|     2017-03-08 22:47:40|          2017-09-19 14:00:04|         195|\n",
      "+--------------------+------------------------+-----------------------------+------------+\n",
      "only showing top 5 rows\n",
      "\n"
     ]
    }
   ],
   "source": [
    "average_delivery_time.orderBy(col('average time').desc()).show(5)"
   ]
  },
  {
   "cell_type": "code",
   "execution_count": null,
   "id": "e62f0f9c-b874-4b37-8f11-19f4422a4303",
   "metadata": {},
   "outputs": [],
   "source": []
  }
 ],
 "metadata": {
  "kernelspec": {
   "display_name": "PySpark",
   "language": "python",
   "name": "pyspark"
  },
  "language_info": {
   "codemirror_mode": {
    "name": "ipython",
    "version": 3
   },
   "file_extension": ".py",
   "mimetype": "text/x-python",
   "name": "python",
   "nbconvert_exporter": "python",
   "pygments_lexer": "ipython3",
   "version": "3.11.8"
  }
 },
 "nbformat": 4,
 "nbformat_minor": 5
}