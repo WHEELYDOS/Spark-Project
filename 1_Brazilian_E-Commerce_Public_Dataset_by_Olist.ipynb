{
 "cells": [
  {
   "cell_type": "markdown",
   "id": "61ffdd39-7b89-4d25-a27e-96b45626d042",
   "metadata": {
    "tags": []
   },
   "source": [
    "# Data Understanding - Olist Dataset"
   ]
  },
  {
   "cell_type": "code",
   "execution_count": 1,
   "id": "3f475cd4-9fdd-45a9-af8d-345022d0c2d2",
   "metadata": {
    "tags": []
   },
   "outputs": [
    {
     "name": "stdout",
     "output_type": "stream",
     "text": [
      "Found 9 items\n",
      "-rw-r--r--   2 harshvardhansahu06733 hadoop    9033957 2025-08-21 20:04 /tmp/Brazilian/olist_customers_dataset.csv\n",
      "-rw-r--r--   2 harshvardhansahu06733 hadoop   61273883 2025-08-21 20:04 /tmp/Brazilian/olist_geolocation_dataset.csv\n",
      "-rw-r--r--   2 harshvardhansahu06733 hadoop   15438671 2025-08-21 20:04 /tmp/Brazilian/olist_order_items_dataset.csv\n",
      "-rw-r--r--   2 harshvardhansahu06733 hadoop    5777138 2025-08-21 20:04 /tmp/Brazilian/olist_order_payments_dataset.csv\n",
      "-rw-r--r--   2 harshvardhansahu06733 hadoop   14451670 2025-08-21 20:04 /tmp/Brazilian/olist_order_reviews_dataset.csv\n",
      "-rw-r--r--   2 harshvardhansahu06733 hadoop   17654914 2025-08-21 20:04 /tmp/Brazilian/olist_orders_dataset.csv\n",
      "-rw-r--r--   2 harshvardhansahu06733 hadoop    2379446 2025-08-21 20:04 /tmp/Brazilian/olist_products_dataset.csv\n",
      "-rw-r--r--   2 harshvardhansahu06733 hadoop     174703 2025-08-21 20:04 /tmp/Brazilian/olist_sellers_dataset.csv\n",
      "-rw-r--r--   2 harshvardhansahu06733 hadoop       2613 2025-08-21 20:04 /tmp/Brazilian/product_category_name_translation.csv\n"
     ]
    }
   ],
   "source": [
    "!hadoop fs -ls /tmp/Brazilian"
   ]
  },
  {
   "cell_type": "markdown",
   "id": "690f7d2f-0c02-44fa-8db5-ad232c8ca082",
   "metadata": {
    "tags": []
   },
   "source": [
    "![Alt text](https://i.imgur.com/HRhd2Y0.png)\n"
   ]
  },
  {
   "cell_type": "code",
   "execution_count": 2,
   "id": "d49b459d-28b1-4553-802f-db93065d858b",
   "metadata": {
    "tags": []
   },
   "outputs": [
    {
     "name": "stdout",
     "output_type": "stream",
     "text": [
      "Found 9 items\n",
      "-rw-r--r--   2 harshvardhansahu06733 hadoop      8.6 M 2025-08-21 20:04 /tmp/Brazilian/olist_customers_dataset.csv\n",
      "-rw-r--r--   2 harshvardhansahu06733 hadoop     58.4 M 2025-08-21 20:04 /tmp/Brazilian/olist_geolocation_dataset.csv\n",
      "-rw-r--r--   2 harshvardhansahu06733 hadoop     14.7 M 2025-08-21 20:04 /tmp/Brazilian/olist_order_items_dataset.csv\n",
      "-rw-r--r--   2 harshvardhansahu06733 hadoop      5.5 M 2025-08-21 20:04 /tmp/Brazilian/olist_order_payments_dataset.csv\n",
      "-rw-r--r--   2 harshvardhansahu06733 hadoop     13.8 M 2025-08-21 20:04 /tmp/Brazilian/olist_order_reviews_dataset.csv\n",
      "-rw-r--r--   2 harshvardhansahu06733 hadoop     16.8 M 2025-08-21 20:04 /tmp/Brazilian/olist_orders_dataset.csv\n",
      "-rw-r--r--   2 harshvardhansahu06733 hadoop      2.3 M 2025-08-21 20:04 /tmp/Brazilian/olist_products_dataset.csv\n",
      "-rw-r--r--   2 harshvardhansahu06733 hadoop    170.6 K 2025-08-21 20:04 /tmp/Brazilian/olist_sellers_dataset.csv\n",
      "-rw-r--r--   2 harshvardhansahu06733 hadoop      2.6 K 2025-08-21 20:04 /tmp/Brazilian/product_category_name_translation.csv\n"
     ]
    }
   ],
   "source": [
    "!hadoop fs -ls -h /tmp/Brazilian"
   ]
  },
  {
   "cell_type": "code",
   "execution_count": 3,
   "id": "8a5e8c20-ecd1-4ab4-bb2c-04df2dcbc19a",
   "metadata": {
    "tags": []
   },
   "outputs": [],
   "source": [
    "from pyspark.sql import SparkSession"
   ]
  },
  {
   "cell_type": "code",
   "execution_count": 11,
   "id": "094b4e39-8402-4f36-9fc7-483fcda9e274",
   "metadata": {
    "tags": []
   },
   "outputs": [],
   "source": [
    "spark = SparkSession.builder\\\n",
    ".appName('1_olip_ecomerce data')\\\n",
    ".master('yarn')\\\n",
    ".getOrCreate()"
   ]
  },
  {
   "cell_type": "code",
   "execution_count": 3,
   "id": "21805539-20fe-4435-a612-0c59c064968b",
   "metadata": {
    "tags": []
   },
   "outputs": [
    {
     "data": {
      "text/html": [
       "\n",
       "            <div>\n",
       "                <p><b>SparkSession - hive</b></p>\n",
       "                \n",
       "        <div>\n",
       "            <p><b>SparkContext</b></p>\n",
       "\n",
       "            <p><a href=\"http://testcluster1-m.asia-south1-b.c.midyear-guild-461710-g9.internal:35459\">Spark UI</a></p>\n",
       "\n",
       "            <dl>\n",
       "              <dt>Version</dt>\n",
       "                <dd><code>v3.5.3</code></dd>\n",
       "              <dt>Master</dt>\n",
       "                <dd><code>yarn</code></dd>\n",
       "              <dt>AppName</dt>\n",
       "                <dd><code>PySparkShell</code></dd>\n",
       "            </dl>\n",
       "        </div>\n",
       "        \n",
       "            </div>\n",
       "        "
      ],
      "text/plain": [
       "<pyspark.sql.session.SparkSession at 0x7f4f367e7910>"
      ]
     },
     "execution_count": 3,
     "metadata": {},
     "output_type": "execute_result"
    }
   ],
   "source": [
    "spark"
   ]
  },
  {
   "cell_type": "code",
   "execution_count": 16,
   "id": "3ff5b0ca-8282-4118-b9d6-03b016732644",
   "metadata": {
    "tags": []
   },
   "outputs": [
    {
     "name": "stdout",
     "output_type": "stream",
     "text": [
      "+--------------------------------+--------------------------------+------------------------+---------------------+--------------+\n",
      "|customer_id                     |customer_unique_id              |customer_zip_code_prefix|customer_city        |customer_state|\n",
      "+--------------------------------+--------------------------------+------------------------+---------------------+--------------+\n",
      "|06b8999e2fba1a1fbc88172c00ba8bc7|861eff4711a542e4b93843c6dd7febb0|14409                   |franca               |SP            |\n",
      "|18955e83d337fd6b2def6b18a428ac77|290c77bc529b7ac935b93aa66c333dc3|9790                    |sao bernardo do campo|SP            |\n",
      "|4e7b3e00288586ebd08712fdd0374a03|060e732b5b29e8181a18229c7b0b2b5e|1151                    |sao paulo            |SP            |\n",
      "|b2b6027bc5c5109e529d4dc6358b12c3|259dac757896d24d7702b9acbbff3f3c|8775                    |mogi das cruzes      |SP            |\n",
      "|4f2d8ab171c80ec8364f7c12e35b23ad|345ecd01c38d18a9036ed96c73b8d066|13056                   |campinas             |SP            |\n",
      "+--------------------------------+--------------------------------+------------------------+---------------------+--------------+\n",
      "only showing top 5 rows\n",
      "\n",
      "root\n",
      " |-- customer_id: string (nullable = true)\n",
      " |-- customer_unique_id: string (nullable = true)\n",
      " |-- customer_zip_code_prefix: integer (nullable = true)\n",
      " |-- customer_city: string (nullable = true)\n",
      " |-- customer_state: string (nullable = true)\n",
      "\n",
      "None\n"
     ]
    }
   ],
   "source": [
    "# Customer Dataset\n",
    "\n",
    "customer_df = spark.read\\\n",
    ".format('csv')\\\n",
    ".option('header',True)\\\n",
    ".option('inferschema',True)\\\n",
    ".load('/tmp/Brazilian/olist_customers_dataset.csv')\n",
    "customer_df.show(5,truncate = False)\n",
    "print(customer_df.printSchema())"
   ]
  },
  {
   "cell_type": "code",
   "execution_count": 17,
   "id": "ef2cc21e-4dc8-41a8-99b1-02c60857348d",
   "metadata": {
    "tags": []
   },
   "outputs": [],
   "source": [
    "# do the above for all the csv files present in the brazilean folder "
   ]
  },
  {
   "cell_type": "code",
   "execution_count": 19,
   "id": "fcb0e852-4f34-4cd9-86eb-b57bd5bccea1",
   "metadata": {
    "tags": []
   },
   "outputs": [
    {
     "name": "stderr",
     "output_type": "stream",
     "text": [
      "                                                                                \r"
     ]
    },
    {
     "name": "stdout",
     "output_type": "stream",
     "text": [
      "+---------------------------+-------------------+------------------+----------------+-----------------+\n",
      "|geolocation_zip_code_prefix|geolocation_lat    |geolocation_lng   |geolocation_city|geolocation_state|\n",
      "+---------------------------+-------------------+------------------+----------------+-----------------+\n",
      "|1037                       |-23.54562128115268 |-46.63929204800168|sao paulo       |SP               |\n",
      "|1046                       |-23.546081127035535|-46.64482029837157|sao paulo       |SP               |\n",
      "|1046                       |-23.54612896641469 |-46.64295148361138|sao paulo       |SP               |\n",
      "|1041                       |-23.5443921648681  |-46.63949930627844|sao paulo       |SP               |\n",
      "|1035                       |-23.541577961711493|-46.64160722329613|sao paulo       |SP               |\n",
      "+---------------------------+-------------------+------------------+----------------+-----------------+\n",
      "only showing top 5 rows\n",
      "\n",
      "root\n",
      " |-- geolocation_zip_code_prefix: integer (nullable = true)\n",
      " |-- geolocation_lat: double (nullable = true)\n",
      " |-- geolocation_lng: double (nullable = true)\n",
      " |-- geolocation_city: string (nullable = true)\n",
      " |-- geolocation_state: string (nullable = true)\n",
      "\n"
     ]
    }
   ],
   "source": [
    "# Geolocation Dataset\n",
    "\n",
    "customer_df = spark.read\\\n",
    ".format('csv')\\\n",
    ".option('header',True)\\\n",
    ".option('inferschema',True)\\\n",
    ".load('/tmp/Brazilian/olist_geolocation_dataset.csv')\n",
    "customer_df.show(5,truncate = False)\n",
    "customer_df.printSchema()"
   ]
  },
  {
   "cell_type": "code",
   "execution_count": 20,
   "id": "5fa90626-1130-4641-91ef-4cec7082950a",
   "metadata": {
    "tags": []
   },
   "outputs": [
    {
     "name": "stderr",
     "output_type": "stream",
     "text": [
      "                                                                                \r"
     ]
    },
    {
     "name": "stdout",
     "output_type": "stream",
     "text": [
      "+--------------------------------+-------------+--------------------------------+--------------------------------+-------------------+-----+-------------+\n",
      "|order_id                        |order_item_id|product_id                      |seller_id                       |shipping_limit_date|price|freight_value|\n",
      "+--------------------------------+-------------+--------------------------------+--------------------------------+-------------------+-----+-------------+\n",
      "|00010242fe8c5a6d1ba2dd792cb16214|1            |4244733e06e7ecb4970a6e2683c13e61|48436dade18ac8b2bce089ec2a041202|2017-09-19 09:45:35|58.9 |13.29        |\n",
      "|00018f77f2f0320c557190d7a144bdd3|1            |e5f2d52b802189ee658865ca93d83a8f|dd7ddc04e1b6c2c614352b383efe2d36|2017-05-03 11:05:13|239.9|19.93        |\n",
      "|000229ec398224ef6ca0657da4fc703e|1            |c777355d18b72b67abbeef9df44fd0fd|5b51032eddd242adc84c38acab88f23d|2018-01-18 14:48:30|199.0|17.87        |\n",
      "|00024acbcdf0a6daa1e931b038114c75|1            |7634da152a4610f1595efa32f14722fc|9d7a1d34a5052409006425275ba1c2b4|2018-08-15 10:10:18|12.99|12.79        |\n",
      "|00042b26cf59d7ce69dfabb4e55b4fd9|1            |ac6c3623068f30de03045865e4e10089|df560393f3a51e74553ab94004ba5c87|2017-02-13 13:57:51|199.9|18.14        |\n",
      "+--------------------------------+-------------+--------------------------------+--------------------------------+-------------------+-----+-------------+\n",
      "only showing top 5 rows\n",
      "\n",
      "root\n",
      " |-- order_id: string (nullable = true)\n",
      " |-- order_item_id: integer (nullable = true)\n",
      " |-- product_id: string (nullable = true)\n",
      " |-- seller_id: string (nullable = true)\n",
      " |-- shipping_limit_date: timestamp (nullable = true)\n",
      " |-- price: double (nullable = true)\n",
      " |-- freight_value: double (nullable = true)\n",
      "\n"
     ]
    }
   ],
   "source": [
    "# Order Items Dataset\n",
    "\n",
    "customer_df = spark.read\\\n",
    ".format('csv')\\\n",
    ".option('header',True)\\\n",
    ".option('inferschema',True)\\\n",
    ".load('/tmp/Brazilian/olist_order_items_dataset.csv')\n",
    "customer_df.show(5,truncate = False)\n",
    "customer_df.printSchema()"
   ]
  },
  {
   "cell_type": "code",
   "execution_count": 21,
   "id": "8260efe4-4a45-49a7-9c34-6add64a2699e",
   "metadata": {
    "tags": []
   },
   "outputs": [
    {
     "name": "stdout",
     "output_type": "stream",
     "text": [
      "+--------------------------------+------------------+------------+--------------------+-------------+\n",
      "|order_id                        |payment_sequential|payment_type|payment_installments|payment_value|\n",
      "+--------------------------------+------------------+------------+--------------------+-------------+\n",
      "|b81ef226f3fe1789b1e8b2acac839d17|1                 |credit_card |8                   |99.33        |\n",
      "|a9810da82917af2d9aefd1278f1dcfa0|1                 |credit_card |1                   |24.39        |\n",
      "|25e8ea4e93396b6fa0d3dd708e76c1bd|1                 |credit_card |1                   |65.71        |\n",
      "|ba78997921bbcdc1373bb41e913ab953|1                 |credit_card |8                   |107.78       |\n",
      "|42fdf880ba16b47b59251dd489d4441a|1                 |credit_card |2                   |128.45       |\n",
      "+--------------------------------+------------------+------------+--------------------+-------------+\n",
      "only showing top 5 rows\n",
      "\n",
      "root\n",
      " |-- order_id: string (nullable = true)\n",
      " |-- payment_sequential: integer (nullable = true)\n",
      " |-- payment_type: string (nullable = true)\n",
      " |-- payment_installments: integer (nullable = true)\n",
      " |-- payment_value: double (nullable = true)\n",
      "\n"
     ]
    }
   ],
   "source": [
    "# Order Payment Dataset\n",
    "\n",
    "customer_df = spark.read\\\n",
    ".format('csv')\\\n",
    ".option('header',True)\\\n",
    ".option('inferschema',True)\\\n",
    ".load('/tmp/Brazilian/olist_order_payments_dataset.csv')\n",
    "customer_df.show(5,truncate = False)\n",
    "customer_df.printSchema()"
   ]
  },
  {
   "cell_type": "code",
   "execution_count": 22,
   "id": "16396db1-24f9-41f5-b9ce-28d55663afde",
   "metadata": {
    "tags": []
   },
   "outputs": [
    {
     "name": "stdout",
     "output_type": "stream",
     "text": [
      "+--------------------------------+--------------------------------+------------+--------------------+----------------------------------------------------------------------------------------------------+--------------------+-----------------------+\n",
      "|review_id                       |order_id                        |review_score|review_comment_title|review_comment_message                                                                              |review_creation_date|review_answer_timestamp|\n",
      "+--------------------------------+--------------------------------+------------+--------------------+----------------------------------------------------------------------------------------------------+--------------------+-----------------------+\n",
      "|7bc2406110b926393aa56f80a40eba40|73fc7af87114b39712e6da79b0a377eb|4           |NULL                |NULL                                                                                                |2018-01-18 00:00:00 |2018-01-18 21:46:59    |\n",
      "|80e641a11e56f04c1ad469d5645fdfde|a548910a1c6147796b98fdf73dbeba33|5           |NULL                |NULL                                                                                                |2018-03-10 00:00:00 |2018-03-11 03:05:13    |\n",
      "|228ce5500dc1d8e020d8d1322874b6f0|f9e4b658b201a9f2ecdecbb34bed034b|5           |NULL                |NULL                                                                                                |2018-02-17 00:00:00 |2018-02-18 14:36:24    |\n",
      "|e64fb393e7b32834bb789ff8bb30750e|658677c97b385a9be170737859d3511b|5           |NULL                |Recebi bem antes do prazo estipulado.                                                               |2017-04-21 00:00:00 |2017-04-21 22:02:06    |\n",
      "|f7c4243c7fe1938f181bec41a392bdeb|8e6bfb81e283fa7e4f11123a3fb894f1|5           |NULL                |Parabéns lojas lannister adorei comprar pela Internet seguro e prático Parabéns a todos feliz Páscoa|2018-03-01 00:00:00 |2018-03-02 10:26:53    |\n",
      "+--------------------------------+--------------------------------+------------+--------------------+----------------------------------------------------------------------------------------------------+--------------------+-----------------------+\n",
      "only showing top 5 rows\n",
      "\n",
      "root\n",
      " |-- review_id: string (nullable = true)\n",
      " |-- order_id: string (nullable = true)\n",
      " |-- review_score: string (nullable = true)\n",
      " |-- review_comment_title: string (nullable = true)\n",
      " |-- review_comment_message: string (nullable = true)\n",
      " |-- review_creation_date: string (nullable = true)\n",
      " |-- review_answer_timestamp: string (nullable = true)\n",
      "\n"
     ]
    }
   ],
   "source": [
    "# Order Review Dataset\n",
    "\n",
    "customer_df = spark.read\\\n",
    ".format('csv')\\\n",
    ".option('header',True)\\\n",
    ".option('inferschema',True)\\\n",
    ".load('/tmp/Brazilian/olist_order_reviews_dataset.csv')\n",
    "customer_df.show(5,truncate = False)\n",
    "customer_df.printSchema()"
   ]
  },
  {
   "cell_type": "code",
   "execution_count": 23,
   "id": "68b7ab66-54ed-463e-b996-dfe0dad3348e",
   "metadata": {
    "tags": []
   },
   "outputs": [
    {
     "name": "stdout",
     "output_type": "stream",
     "text": [
      "+--------------------------------+--------------------------------+------------+------------------------+-------------------+----------------------------+-----------------------------+-----------------------------+\n",
      "|order_id                        |customer_id                     |order_status|order_purchase_timestamp|order_approved_at  |order_delivered_carrier_date|order_delivered_customer_date|order_estimated_delivery_date|\n",
      "+--------------------------------+--------------------------------+------------+------------------------+-------------------+----------------------------+-----------------------------+-----------------------------+\n",
      "|e481f51cbdc54678b7cc49136f2d6af7|9ef432eb6251297304e76186b10a928d|delivered   |2017-10-02 10:56:33     |2017-10-02 11:07:15|2017-10-04 19:55:00         |2017-10-10 21:25:13          |2017-10-18 00:00:00          |\n",
      "|53cdb2fc8bc7dce0b6741e2150273451|b0830fb4747a6c6d20dea0b8c802d7ef|delivered   |2018-07-24 20:41:37     |2018-07-26 03:24:27|2018-07-26 14:31:00         |2018-08-07 15:27:45          |2018-08-13 00:00:00          |\n",
      "|47770eb9100c2d0c44946d9cf07ec65d|41ce2a54c0b03bf3443c3d931a367089|delivered   |2018-08-08 08:38:49     |2018-08-08 08:55:23|2018-08-08 13:50:00         |2018-08-17 18:06:29          |2018-09-04 00:00:00          |\n",
      "|949d5b44dbf5de918fe9c16f97b45f8a|f88197465ea7920adcdbec7375364d82|delivered   |2017-11-18 19:28:06     |2017-11-18 19:45:59|2017-11-22 13:39:59         |2017-12-02 00:28:42          |2017-12-15 00:00:00          |\n",
      "|ad21c59c0840e6cb83a9ceb5573f8159|8ab97904e6daea8866dbdbc4fb7aad2c|delivered   |2018-02-13 21:18:39     |2018-02-13 22:20:29|2018-02-14 19:46:34         |2018-02-16 18:17:02          |2018-02-26 00:00:00          |\n",
      "+--------------------------------+--------------------------------+------------+------------------------+-------------------+----------------------------+-----------------------------+-----------------------------+\n",
      "only showing top 5 rows\n",
      "\n",
      "root\n",
      " |-- order_id: string (nullable = true)\n",
      " |-- customer_id: string (nullable = true)\n",
      " |-- order_status: string (nullable = true)\n",
      " |-- order_purchase_timestamp: timestamp (nullable = true)\n",
      " |-- order_approved_at: timestamp (nullable = true)\n",
      " |-- order_delivered_carrier_date: timestamp (nullable = true)\n",
      " |-- order_delivered_customer_date: timestamp (nullable = true)\n",
      " |-- order_estimated_delivery_date: timestamp (nullable = true)\n",
      "\n"
     ]
    }
   ],
   "source": [
    "# Order Dataset\n",
    "\n",
    "customer_df = spark.read\\\n",
    ".format('csv')\\\n",
    ".option('header',True)\\\n",
    ".option('inferschema',True)\\\n",
    ".load('/tmp/Brazilian/olist_orders_dataset.csv')\n",
    "customer_df.show(5,truncate = False)\n",
    "customer_df.printSchema()"
   ]
  },
  {
   "cell_type": "code",
   "execution_count": 24,
   "id": "7b19e8ed-29e3-4ff8-a821-037868c20c49",
   "metadata": {
    "tags": []
   },
   "outputs": [
    {
     "name": "stdout",
     "output_type": "stream",
     "text": [
      "+--------------------------------+---------------------+-------------------+--------------------------+------------------+----------------+-----------------+-----------------+----------------+\n",
      "|product_id                      |product_category_name|product_name_lenght|product_description_lenght|product_photos_qty|product_weight_g|product_length_cm|product_height_cm|product_width_cm|\n",
      "+--------------------------------+---------------------+-------------------+--------------------------+------------------+----------------+-----------------+-----------------+----------------+\n",
      "|1e9e8ef04dbcff4541ed26657ea517e5|perfumaria           |40                 |287                       |1                 |225             |16               |10               |14              |\n",
      "|3aa071139cb16b67ca9e5dea641aaa2f|artes                |44                 |276                       |1                 |1000            |30               |18               |20              |\n",
      "|96bd76ec8810374ed1b65e291975717f|esporte_lazer        |46                 |250                       |1                 |154             |18               |9                |15              |\n",
      "|cef67bcfe19066a932b7673e239eb23d|bebes                |27                 |261                       |1                 |371             |26               |4                |26              |\n",
      "|9dc1a7de274444849c219cff195d0b71|utilidades_domesticas|37                 |402                       |4                 |625             |20               |17               |13              |\n",
      "+--------------------------------+---------------------+-------------------+--------------------------+------------------+----------------+-----------------+-----------------+----------------+\n",
      "only showing top 5 rows\n",
      "\n",
      "root\n",
      " |-- product_id: string (nullable = true)\n",
      " |-- product_category_name: string (nullable = true)\n",
      " |-- product_name_lenght: integer (nullable = true)\n",
      " |-- product_description_lenght: integer (nullable = true)\n",
      " |-- product_photos_qty: integer (nullable = true)\n",
      " |-- product_weight_g: integer (nullable = true)\n",
      " |-- product_length_cm: integer (nullable = true)\n",
      " |-- product_height_cm: integer (nullable = true)\n",
      " |-- product_width_cm: integer (nullable = true)\n",
      "\n"
     ]
    }
   ],
   "source": [
    "# Products Dataset\n",
    "\n",
    "customer_df = spark.read\\\n",
    ".format('csv')\\\n",
    ".option('header',True)\\\n",
    ".option('inferschema',True)\\\n",
    ".load('/tmp/Brazilian/olist_products_dataset.csv')\n",
    "customer_df.show(5,truncate = False)\n",
    "customer_df.printSchema()"
   ]
  },
  {
   "cell_type": "code",
   "execution_count": 26,
   "id": "a9536738-fa20-443a-93fb-a29829fe693b",
   "metadata": {
    "tags": []
   },
   "outputs": [
    {
     "name": "stdout",
     "output_type": "stream",
     "text": [
      "+----------------------+-----------------------------+\n",
      "|product_category_name |product_category_name_english|\n",
      "+----------------------+-----------------------------+\n",
      "|beleza_saude          |health_beauty                |\n",
      "|informatica_acessorios|computers_accessories        |\n",
      "|automotivo            |auto                         |\n",
      "|cama_mesa_banho       |bed_bath_table               |\n",
      "|moveis_decoracao      |furniture_decor              |\n",
      "+----------------------+-----------------------------+\n",
      "only showing top 5 rows\n",
      "\n",
      "root\n",
      " |-- product_category_name: string (nullable = true)\n",
      " |-- product_category_name_english: string (nullable = true)\n",
      "\n"
     ]
    }
   ],
   "source": [
    "# Product Catagory Name Dataset\n",
    "\n",
    "customer_df = spark.read\\\n",
    ".format('csv')\\\n",
    ".option('header',True)\\\n",
    ".option('inferschema',True)\\\n",
    ".load('/tmp/Brazilian/product_category_name_translation.csv')\n",
    "customer_df.show(5,truncate = False)\n",
    "customer_df.printSchema()"
   ]
  },
  {
   "cell_type": "code",
   "execution_count": 28,
   "id": "2b6a432b-89e8-452f-966e-e4d7ee47acc8",
   "metadata": {
    "tags": []
   },
   "outputs": [
    {
     "name": "stdout",
     "output_type": "stream",
     "text": [
      "+--------------------------------+----------------------+-----------------+------------+\n",
      "|seller_id                       |seller_zip_code_prefix|seller_city      |seller_state|\n",
      "+--------------------------------+----------------------+-----------------+------------+\n",
      "|3442f8959a84dea7ee197c632cb2df15|13023                 |campinas         |SP          |\n",
      "|d1b65fc7debc3361ea86b5f14c68d2e2|13844                 |mogi guacu       |SP          |\n",
      "|ce3ad9de960102d0677a81f5d0bb7b2d|20031                 |rio de janeiro   |RJ          |\n",
      "|c0f3eea2e14555b6faeea3dd58c1b1c3|4195                  |sao paulo        |SP          |\n",
      "|51a04a8a6bdcb23deccc82b0b80742cf|12914                 |braganca paulista|SP          |\n",
      "+--------------------------------+----------------------+-----------------+------------+\n",
      "only showing top 5 rows\n",
      "\n",
      "root\n",
      " |-- seller_id: string (nullable = true)\n",
      " |-- seller_zip_code_prefix: integer (nullable = true)\n",
      " |-- seller_city: string (nullable = true)\n",
      " |-- seller_state: string (nullable = true)\n",
      "\n"
     ]
    }
   ],
   "source": [
    "# sellers Dataset\n",
    "\n",
    "customer_df = spark.read\\\n",
    ".format('csv')\\\n",
    ".option('header',True)\\\n",
    ".option('inferschema',True)\\\n",
    ".load('/tmp/Brazilian/olist_sellers_dataset.csv')\n",
    "customer_df.show(5,truncate = False)\n",
    "customer_df.printSchema()"
   ]
  },
  {
   "cell_type": "code",
   "execution_count": 36,
   "id": "b679687e-5c30-4df9-9085-4c8232ea5795",
   "metadata": {
    "tags": []
   },
   "outputs": [],
   "source": [
    "spark.stop()"
   ]
  },
  {
   "cell_type": "code",
   "execution_count": null,
   "id": "3e646ed6-6164-4f19-a41a-dc0a96fa7dc4",
   "metadata": {},
   "outputs": [],
   "source": []
  }
 ],
 "metadata": {
  "kernelspec": {
   "display_name": "PySpark",
   "language": "python",
   "name": "pyspark"
  },
  "language_info": {
   "codemirror_mode": {
    "name": "ipython",
    "version": 3
   },
   "file_extension": ".py",
   "mimetype": "text/x-python",
   "name": "python",
   "nbconvert_exporter": "python",
   "pygments_lexer": "ipython3",
   "version": "3.11.8"
  }
 },
 "nbformat": 4,
 "nbformat_minor": 5
}